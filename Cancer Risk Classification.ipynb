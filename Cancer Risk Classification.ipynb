{
 "cells": [
  {
   "cell_type": "markdown",
   "metadata": {
    "id": "humvVWXMRLJf"
   },
   "source": [
    "# Classification and Model Improvement"
   ]
  },
  {
   "cell_type": "markdown",
   "metadata": {
    "id": "wHOwDhGXudiQ"
   },
   "source": [
    "## Project Overview"
   ]
  },
  {
   "cell_type": "markdown",
   "metadata": {
    "id": "tsqp30v6ughb"
   },
   "source": [
    "The goal of the project is to develop a machine learning classification model which is capable of predicting cancer risk based on both medical and lifestyle factors. This would allow for medical professionals to easily identify anmd address high risk patients. This project will make use of a Kaggle dataset (https://www.kaggle.com/datasets/rabieelkharoua/cancer-prediction-dataset/data) in order to build an well performing model."
   ]
  },
  {
   "cell_type": "markdown",
   "metadata": {
    "id": "Sh4rk10NRQa3"
   },
   "source": [
    "## Justification for dataset suitablity"
   ]
  },
  {
   "cell_type": "markdown",
   "metadata": {
    "id": "g6tH439Lu41F"
   },
   "source": [
    "The Cancer Prediction Dataset from Kaggle (https://www.kaggle.com/datasets/rabieelkharoua/cancer-prediction-dataset/data) displays high data quality across multiple critical areas, which make it highly suitable for training a classification model in order to improve medical decision-making. The dataset clinical relevance features such as such as BMI, smoking status, genetic risk, physical activity, and alcohol intake, these features align perfectly with medical research regarding cancer (World Health Organization, 2023). The dataset has been preprocessed and cleaned in order to decrease noise.\n",
    "\n",
    "In terms of the dataset structure, the dataset is consistent and complete with no missing values and/or unrealistic records (negative age). The dataset has well defined features and the target variable (diagnosis) is binary, making it suitable for classification models. The dataset is also balanced, meaning that class imbalance issues are avoid completely thus, decrease the chance of bias within the dataset as a result. The dataset has been updated within the last year meaning it is a contains current data.\n",
    "\n",
    "According to Sheldon (2024), the dataset meets the standards for data quality and suitable, the dataset shows accuracy, completeness, timeliness, uniqueness, consistency and validity of data. According to NICE (2022) , the dataset also meets the standards for data suitable as it shows relevance, structure and credibility. This means the dataset is justified for cancer prediction.\n"
   ]
  },
  {
   "cell_type": "markdown",
   "metadata": {
    "id": "g_QUQzMCRTFF"
   },
   "source": [
    "## Justification for algorithm choice"
   ]
  },
  {
   "cell_type": "markdown",
   "metadata": {
    "id": "gjwkQpsgu5aV"
   },
   "source": [
    "Logistic regression will be used as the algorithm of choice for this classification model as it offers the best balance of interpretability, efficiency and clinical relevance for the medical profession use. According to Ogu (2024), this dataset classified as a moderately sized dataset as it consists of 1,500 records and 8 features. Logistic regression will be able to perform quick training with high predictive performance. Its probabilistic outputs allow for risk management beyond simple binary classification, allowing for better assessments (GeeksForGeeks, 2025).\n",
    "\n",
    "Whereas more complex algorithms such as random forests or neural networks which would identify non-linear relationships. However, it would do this at a loss of interpretability that medical professionals value in clinical decision-making. Logistic regression outputs coefficient-based explanations allowing for medical professional to better understand which factors contribute to cancer likelihood the most (GeeksForGeeks, 2025). Logistic regression aligns with the scope of the project by allowing for more actionable insights for medical professionals.\n",
    "\n",
    "Another reason as to why logistic regression is the ideal algorithm for this project is that the dataset is balanced and pre-processed. This means that logistic regression would not suffer from class imbalance and the simplicity of the dataset also decreases the likelihood of overfitting (GeeksForGeeks, 2025). Therefore, based on the datasets size, structure as well as it’s intended use, logistic regression is proven to be the most justified choice.\n"
   ]
  },
  {
   "cell_type": "markdown",
   "metadata": {
    "id": "k39cW7U1RV_2"
   },
   "source": [
    "## Analysis plan"
   ]
  },
  {
   "cell_type": "markdown",
   "metadata": {
    "id": "Z231AOFbRkFH"
   },
   "source": [
    "### Outline"
   ]
  },
  {
   "cell_type": "markdown",
   "metadata": {
    "id": "UFq7q1vdRqSe"
   },
   "source": [
    "- Step 1 - Import all necessary packages needed\n",
    "\n",
    "- Step 2 - Load dataset and create a dataframe\n",
    "\n",
    "- Step 3 - Data Cleaning:\n",
    "  - 3.1 Initial Inspection\n",
    "  - 3.2 Idenify and handle missing Values\n",
    "  - 3.3 Idenify and handle duplicate vlaues\n",
    "  - 3.4 Idenify and handle outliers\n",
    "  - 3.5 Feature Encoding\n",
    "  - 3.6 Idenify class imbalance\n",
    "\n",
    "- Step 4 - Exploratory Data Analysis (EDA):\n",
    "  - 4.1 Univariate Analysis\n",
    "  - 4.2 Bivariate Analysis\n",
    "  - 4.3 Feature Selection\n",
    "\n",
    "- Step 5 - Modelling:\n",
    "  - Train-Test Split\n",
    "  - Feature Scaling\n",
    "  - SMOTE Implementation\n",
    "  - Train model\n",
    "\n",
    "- Step 6 - Evaluation\n",
    "  - Results & Interpretation\n",
    "  - Actual vs Predicted Visualization"
   ]
  },
  {
   "cell_type": "markdown",
   "metadata": {
    "id": "4znYFoAxRsDo"
   },
   "source": [
    "### Plan Explaination"
   ]
  },
  {
   "cell_type": "markdown",
   "metadata": {
    "id": "rNIMG9Q5R-Se"
   },
   "source": [
    "#### Step 1: Import all nesscary packages"
   ]
  },
  {
   "cell_type": "markdown",
   "metadata": {
    "id": "zMlpXWbQVnqg"
   },
   "source": [
    "In this step all the necessary packages will be importanted for the analysis.\n",
    "\n",
    "* Pandas and Numpy for data handling and calculation\n",
    "* Matplotlib and Seaborn for data visualizations\n",
    "* ScIPy and Statsmodels for statistical tests\n",
    "* Scikit-learn for machine learning and evaluation"
   ]
  },
  {
   "cell_type": "markdown",
   "metadata": {
    "id": "OZ_AKLzZiLBQ"
   },
   "source": [
    "#### Step 2: Load the dataset and create dataframe"
   ]
  },
  {
   "cell_type": "markdown",
   "metadata": {
    "id": "USTiw7E2W37F"
   },
   "source": [
    "In this step the dataset will be loaded into a dataframe using pandas\n",
    "\n",
    "\n",
    "```\n",
    "df = pd.read_csv(\"csvfilename.csv\")\n",
    "```\n",
    "\n",
    "The Pandas DataFrame is a useful Python tool for efficient data analysis as well as data manipulation (LabEx, 2025). It simplifies the decision-making and data extraction process, making it extremely useful (LabEx, 2025)"
   ]
  },
  {
   "cell_type": "markdown",
   "metadata": {
    "id": "U-MbS6ehnzB1"
   },
   "source": [
    "#### Step 3: Data Cleaning"
   ]
  },
  {
   "cell_type": "markdown",
   "metadata": {
    "id": "i8kQoHqsg_Et"
   },
   "source": [
    "##### What is data cleaing\n",
    "\n",
    "***Note***: That this dataset is already pre-processed and these steps will still be followed as a precaustion.\n",
    "\n",
    "Data cleiang involves finding and removing missing, duplicate and/or irrelevant data (GeekForGeeks, 2025). Data cleaning aims to maintain data accuracy, consistence and is noise free (GeekForGeeks, 2025). This step is critical for ensuring data quality.\n",
    "\n",
    "##### Data Cleaning Procedure\n",
    "\n",
    "1. Initial Inspection: In this step the goal is to understand the dataset structure and basic statistics (GeekForGeeks, 2025).\n",
    "  - Review dataset information\n",
    "  - Check first 5 rows of dataset with df.head().\n",
    "  - Check the data types of columns and understand how many columns and rows with df.info().\n",
    "  - Check basic stats of fetaure using df.describe()\n",
    "\n",
    "2. Missing Values: In this step the goal is to find and manage missing data (GeekForGeeks, 2025).\n",
    "  - Check for null values using df.isnull().sum()\n",
    "\n",
    "3. Duplicates: In this step remove any duplicates if present to aviod bias (GeekForGeeks, 2025).\n",
    "  - Check for duplicates with df.duplicated().sum()\n",
    "  - Drop duplicates if needed\n",
    "\n",
    "4. Outliers: In this step identify and address outliers (GeekForGeeks, 2025).\n",
    "  - Check for outliers in dataset\n",
    "  - Remove outliers if needed\n",
    "\n",
    "5. Feature Encoding: In this step address categorical data, convert to numerical data (GeekForGeeks, 2025).\n",
    "  - Make use of Lable encoding for gender\n",
    "\n",
    "6. Class imbalance: In this step indentify and address class imbalance if needed\n",
    "  - Check for class imbalance using"
   ]
  },
  {
   "cell_type": "markdown",
   "metadata": {
    "id": "wlxo79mDn53L"
   },
   "source": [
    "#### Step 4: Exploratory Data Analysis (EDA)"
   ]
  },
  {
   "cell_type": "markdown",
   "metadata": {
    "id": "JkKel3Jj-74W"
   },
   "source": [
    "Exploratory Data Analysis (EDA) is an important step in the data analysis process, in this process the aim is to understand patterns and find relationships by using statistical and visual tools (GeekForGeeks, 2025).\n",
    "\n",
    "- 1 Univariate Analysis\n",
    "  - In this step this analysis is used to understand the distribution, central tendency, and spread of data effectively (GeekForGeeks, 2025).\n",
    "  - Univariate Analysis focuses on individual variables (GeekForGeeks, 2025).\n",
    "  - Visuals (histogram) as well as basic descriptive stats will be used to get an understand of the variables (histplot for numerical values and countplot for categorical values).\n",
    "\n",
    "- 2 Bivariate Analysis\n",
    " - In this step this analysis is used to understanding variable interactions and correlations effectively (GeekForGeeks, 2025).\n",
    " - Bivariate Analysis focuses on feature relationships (GeekForGeeks, 2025).\n",
    " - Visuals (boxplots and countplots) will be used to understand the relationship between each feature and the target.\n",
    " - A heatmap will be used to understand in the correlation analysis to understand the correlations between the features and the target variable.\n",
    " - Variance Inflation Factor (VIF) is a statistical tool used to identify the degree of multicollinearity (The Investopedia Team, 2025). This will be used to find multicollinearity between features.\n",
    " - These understandings from both univariate and bivariate analysis will aid in feature selcetion.\n",
    "\n",
    "- 3 Feature Selection\n",
    "  - Statistical Test such as t-tests and chi-squared tests will be used to gain an understanding of pairwise relationships (each feature vs. target)\n",
    "  - The Anova test will be used to gain an understanding of variance explained by each feature in a multivariate context (all features simultaneously).\n",
    "  - Based on all statistical tests, univariate analysis and bivariate analysis a decision will based on the findings on what features too keep.\n",
    "\n"
   ]
  },
  {
   "cell_type": "markdown",
   "metadata": {
    "id": "jkgEM9AUoAU-"
   },
   "source": [
    "#### Step 5: Modelling"
   ]
  },
  {
   "cell_type": "markdown",
   "metadata": {
    "id": "C0cldmCUb1gz"
   },
   "source": [
    "- Train-Test Split\n",
    "  - Divide data into training (80%) and testing (20%) groups in order to prevent data leakage and overfitting.\n",
    "  - By following this split it also allows for an unbiased performance of model.\n",
    "\n",
    "- Feature Scaling\n",
    "  - Numerical data is scaled to ensure accuracy, don't scale categorical values.\n",
    "  - Since we will be making use of gradient decent and ElasticNet (a regalarisation technique) and compare the outputs of both for which one performs better.   - It is important to scale numericla data as Elastic Net and gradient decent both are sensitive to unsclaed data, which can cause biaes in regularisation.\n",
    "\n",
    "- SMOTE implementation\n",
    "  - SMOTE (Synthetic Minority Oversampling Technique) is a data augmentation technique that is used to create new sample sof the minority class within a dataset (Linkedin, 2025). SMOTE does not create duplicates of the minority class but generates new samples based on their nearest neighbors (Linkedin, 2025).\n",
    "\n",
    "- Train model\n",
    "  - In this section we will train three different models to gain the best possible model for cancer prediction. A base logistic regression model will be trained and used as a baseline to compare to a logistic regression model using gradient decent and a logistic regression model making use of hyperparametre tuning and cross validation while applying a ElasticNet Regression.\n",
    "\n",
    "  **Models**:\n",
    "    - Train baseline Logistic Regression model (without Gradient Decent)\n",
    "      - This model will be used as a baseline to compare both techniques to understand which technique produces the best model.\n",
    "\n",
    "    - Train a Logistic Regression model with Gradient Decent\n",
    "      - In this model gradient descent an optimisation algorithm, will be used to adjust the models parameters (weights and bias) to lower the cost function (the error between actual and predicted values) and sigmod function (Kubicki, 2023).\n",
    "\n",
    "    - Trian a Logistic Regression model with Hyperparameter(ElasticNet) Tuning and Cross-Validation\n",
    "      - In this model Elastic Net Regression will be used as a form of Hyperparameter Tuning and cross validation is used to find the ideal values for alpha and l1_ratio.\n",
    "      - Hyperparameters for Elastic Net Regression:\n",
    "        - alpha (α): Controls the strength of regularisation.\n",
    "        - l1_ratio: Determines the balance between L1 and L2 penalties.\n",
    "        \n",
    "        - Elastic Net Regression is a combination of Lasso (L1) regularisation and Ridge (L2) regularisation (GeekForGeeks, 2025). Lasso (L1) regularisation conducts feature selection by shrinking particular coefficients to zero which would drop them (GeekForGeeks, 2025). While Ridge (L2) regularisation prevents overfitting by uniformly shrinking coefficients without dropping them (GeekForGeeks, 2025).\n",
    "        \n",
    "        - By using Elastic Net regression it allows us to gain the benifits of both L1 and L2 penalties while limitting there weaknesses (GeekForGeeks, 2025).\n",
    "        \n",
    "        - In order to automate the Hyperparameter tuning process cross-validation will be used to find the best possible values (GeekForGeeks, 2025). Cross-validation is a resampling technique that repeardly divides the training data group into subsets (GeekForGeeks, 2025). Here it will make use of the K Fold cross-validation in order to find the best possible values for the alpha and l1_ratio.   \n",
    "  \n",
    "\n",
    "  \n"
   ]
  },
  {
   "cell_type": "markdown",
   "metadata": {
    "id": "qUcslmno-SFT"
   },
   "source": [
    "#### Step 6: Evaluation\n"
   ]
  },
  {
   "cell_type": "markdown",
   "metadata": {
    "id": "hcPm-XWaycmu"
   },
   "source": [
    "- Results & Interpretation:\n",
    "  - Classification Report\n",
    "    - According to Usama (2023), a classification report is a tool used in machine learning to evaluate the performance of a classification model. It displays various metrics such as precision, recall, and F1 score for each class in the classification problem.\n",
    "    - In this case the metrics in the classification report are:\n",
    "      * Accuracy - is the proportion of total correct predictions made by the model out of all predictions made by the model (Usama, 2023).\n",
    "      * Precision - is the ratio of correctly predicted positive outcomes to the total predicted positives (Usama, 2023).\n",
    "      * Recall - is the ratio of correctly predicted positive outcomes to all actual positives (Usama, 2023).\n",
    "      * F1 Score - is the harmonic mean of precision and recall. This is useful for imbalanced datasets, as it balances the trade-ogg between precision and recall (Usama, 2023).\n",
    "      * ROC-AUC Score - The ROC AUC score is known as the area under the ROC curve. It describes how well the model is able to construct relative scores which are able to discriminate between positive or negative readings across all classification thresholds (Usama, 2023).\n",
    "  - Overfitting and Underfitting check\n",
    "    - Overfitting is when a model learns too much based on training data as well as detials that do not matter (GeeksForGeeks, 2025).\n",
    "    - Underfitting is when a model is too simple to understand whats happen within the data (GeeksForGeeks, 2025).\n",
    "    - A basic comparison of accuracies will be used to understand whether overfitting or underfitting has occured.\n",
    "  - ROC Curve Comparison\n",
    "    - This will be a visual representation (line graph) to show and compare ROC-AUC Scores of each model as well as determine next evaluation method to use.\n",
    "  - Confusion Matrices\n",
    "    -  Confusion Matrix is a summarised table used in order to evaluate the performance of classifications models. It is useful for visually identify which types of errors are make by the model revealing it's strengths and weaknesses.\n",
    "- Actual vs. Predicted Visualization\n",
    "  - Actual vs Predicted Comparison of each model, as a visual representation for better interpretation."
   ]
  },
  {
   "cell_type": "markdown",
   "metadata": {
    "id": "ChW-NZjdRW2c"
   },
   "source": [
    "## Code Analysis"
   ]
  },
  {
   "cell_type": "markdown",
   "metadata": {
    "id": "Sr0l69flyWaY"
   },
   "source": [
    "### 1. Import all nesscary packages"
   ]
  },
  {
   "cell_type": "code",
   "execution_count": 160,
   "metadata": {
    "executionInfo": {
     "elapsed": 95,
     "status": "ok",
     "timestamp": 1748381332020,
     "user": {
      "displayName": "Darius Govender",
      "userId": "00086672342847538299"
     },
     "user_tz": -120
    },
    "id": "joKmFsmJx38C"
   },
   "outputs": [],
   "source": [
    "import numpy as np # used for data handling and calculation\n",
    "import pandas as pd # used for data handling and calculation\n",
    "import matplotlib.pyplot as plt # used for for data visualizations\n",
    "import seaborn as sns # used for for data visualizations\n",
    "import plotly as plot # used for for data visualizations\n",
    "import sklearn as sk # used for machine learning algo\n",
    "from sklearn.preprocessing import StandardScaler # used for standardising of features\n",
    "from sklearn.linear_model import LogisticRegression # machine learning model\n",
    "from sklearn.linear_model import LogisticRegressionCV\n",
    "from sklearn.linear_model import SGDClassifier\n",
    "from sklearn.model_selection import train_test_split\n",
    "from sklearn.metrics import confusion_matrix, classification_report, roc_auc_score, roc_curve, accuracy_score, precision_score, recall_score, f1_score, auc\n",
    "from sklearn.feature_selection import SelectKBest, chi2, f_classif\n",
    "from scipy.stats import ttest_ind, chi2_contingency\n",
    "\n",
    "from statsmodels.stats.outliers_influence import variance_inflation_factor # used to test for multicollinearity\n",
    "from imblearn.over_sampling import SMOTE # used for oversampling of minority class"
   ]
  },
  {
   "cell_type": "markdown",
   "metadata": {
    "id": "chas_XIxyhtp"
   },
   "source": [
    "### 2. Load the dataset and create dataframe"
   ]
  },
  {
   "cell_type": "code",
   "execution_count": 161,
   "metadata": {
    "colab": {
     "base_uri": "https://localhost:8080/"
    },
    "executionInfo": {
     "elapsed": 7652,
     "status": "ok",
     "timestamp": 1748381347052,
     "user": {
      "displayName": "Darius Govender",
      "userId": "00086672342847538299"
     },
     "user_tz": -120
    },
    "id": "4fVVKbY9yerM",
    "outputId": "161ed69f-7a75-461b-8f2c-aef00ecf6204"
   },
   "outputs": [
    {
     "name": "stdout",
     "output_type": "stream",
     "text": [
      "Drive already mounted at /content/drive; to attempt to forcibly remount, call drive.mount(\"/content/drive\", force_remount=True).\n"
     ]
    }
   ],
   "source": [
    "from google.colab import drive # used to allow connection to google drive\n",
    "drive.mount('/content/drive') # access drive content"
   ]
  },
  {
   "cell_type": "code",
   "execution_count": null,
   "metadata": {
    "executionInfo": {
     "elapsed": 3,
     "status": "ok",
     "timestamp": 1748381347061,
     "user": {
      "displayName": "Darius Govender",
      "userId": "00086672342847538299"
     },
     "user_tz": -120
    },
    "id": "2G0HCi3gza3x"
   },
   "outputs": [],
   "source": [
    "# I have removed the path to the file for security reasons, add when running \n",
    "df = pd.read_csv(\"\")"
   ]
  },
  {
   "cell_type": "markdown",
   "metadata": {
    "id": "2ZdyHsSVzxxU"
   },
   "source": [
    "### 3. Data Cleaning"
   ]
  },
  {
   "cell_type": "markdown",
   "metadata": {
    "id": "YA5YeFul0FJ0"
   },
   "source": [
    "#### Initial inspection"
   ]
  },
  {
   "cell_type": "code",
   "execution_count": 163,
   "metadata": {
    "colab": {
     "base_uri": "https://localhost:8080/",
     "height": 0
    },
    "executionInfo": {
     "elapsed": 88,
     "status": "ok",
     "timestamp": 1748381349944,
     "user": {
      "displayName": "Darius Govender",
      "userId": "00086672342847538299"
     },
     "user_tz": -120
    },
    "id": "r8skbPOqEBNy",
    "outputId": "afe0ace6-fa5f-47c3-a480-0bf04952aa2e"
   },
   "outputs": [
    {
     "data": {
      "application/vnd.google.colaboratory.intrinsic+json": {
       "summary": "{\n  \"name\": \"df\",\n  \"rows\": 1500,\n  \"fields\": [\n    {\n      \"column\": \"Age\",\n      \"properties\": {\n        \"dtype\": \"number\",\n        \"std\": 17,\n        \"min\": 20,\n        \"max\": 80,\n        \"num_unique_values\": 61,\n        \"samples\": [\n          58,\n          27,\n          36\n        ],\n        \"semantic_type\": \"\",\n        \"description\": \"\"\n      }\n    },\n    {\n      \"column\": \"Gender\",\n      \"properties\": {\n        \"dtype\": \"number\",\n        \"std\": 0,\n        \"min\": 0,\n        \"max\": 1,\n        \"num_unique_values\": 2,\n        \"samples\": [\n          0,\n          1\n        ],\n        \"semantic_type\": \"\",\n        \"description\": \"\"\n      }\n    },\n    {\n      \"column\": \"BMI\",\n      \"properties\": {\n        \"dtype\": \"number\",\n        \"std\": 7.230012046648454,\n        \"min\": 15.000290868884154,\n        \"max\": 39.95868778482374,\n        \"num_unique_values\": 1500,\n        \"samples\": [\n          30.193803056318064,\n          33.54740817396788\n        ],\n        \"semantic_type\": \"\",\n        \"description\": \"\"\n      }\n    },\n    {\n      \"column\": \"Smoking\",\n      \"properties\": {\n        \"dtype\": \"number\",\n        \"std\": 0,\n        \"min\": 0,\n        \"max\": 1,\n        \"num_unique_values\": 2,\n        \"samples\": [\n          1,\n          0\n        ],\n        \"semantic_type\": \"\",\n        \"description\": \"\"\n      }\n    },\n    {\n      \"column\": \"GeneticRisk\",\n      \"properties\": {\n        \"dtype\": \"number\",\n        \"std\": 0,\n        \"min\": 0,\n        \"max\": 2,\n        \"num_unique_values\": 3,\n        \"samples\": [\n          1,\n          2\n        ],\n        \"semantic_type\": \"\",\n        \"description\": \"\"\n      }\n    },\n    {\n      \"column\": \"PhysicalActivity\",\n      \"properties\": {\n        \"dtype\": \"number\",\n        \"std\": 2.866161989646643,\n        \"min\": 0.0024100468513454,\n        \"max\": 9.994606810596732,\n        \"num_unique_values\": 1500,\n        \"samples\": [\n          7.111218170152859,\n          3.0476091279732573\n        ],\n        \"semantic_type\": \"\",\n        \"description\": \"\"\n      }\n    },\n    {\n      \"column\": \"AlcoholIntake\",\n      \"properties\": {\n        \"dtype\": \"number\",\n        \"std\": 1.4193177721662096,\n        \"min\": 0.0012146721725636,\n        \"max\": 4.9871146952677705,\n        \"num_unique_values\": 1500,\n        \"samples\": [\n          2.770848608055001,\n          2.570403478096366\n        ],\n        \"semantic_type\": \"\",\n        \"description\": \"\"\n      }\n    },\n    {\n      \"column\": \"CancerHistory\",\n      \"properties\": {\n        \"dtype\": \"number\",\n        \"std\": 0,\n        \"min\": 0,\n        \"max\": 1,\n        \"num_unique_values\": 2,\n        \"samples\": [\n          0,\n          1\n        ],\n        \"semantic_type\": \"\",\n        \"description\": \"\"\n      }\n    },\n    {\n      \"column\": \"Diagnosis\",\n      \"properties\": {\n        \"dtype\": \"number\",\n        \"std\": 0,\n        \"min\": 0,\n        \"max\": 1,\n        \"num_unique_values\": 2,\n        \"samples\": [\n          0,\n          1\n        ],\n        \"semantic_type\": \"\",\n        \"description\": \"\"\n      }\n    }\n  ]\n}",
       "type": "dataframe",
       "variable_name": "df"
      },
      "text/html": [
       "\n",
       "  <div id=\"df-157ef727-580f-4696-b9c9-bdf0eb6d8fac\" class=\"colab-df-container\">\n",
       "    <div>\n",
       "<style scoped>\n",
       "    .dataframe tbody tr th:only-of-type {\n",
       "        vertical-align: middle;\n",
       "    }\n",
       "\n",
       "    .dataframe tbody tr th {\n",
       "        vertical-align: top;\n",
       "    }\n",
       "\n",
       "    .dataframe thead th {\n",
       "        text-align: right;\n",
       "    }\n",
       "</style>\n",
       "<table border=\"1\" class=\"dataframe\">\n",
       "  <thead>\n",
       "    <tr style=\"text-align: right;\">\n",
       "      <th></th>\n",
       "      <th>Age</th>\n",
       "      <th>Gender</th>\n",
       "      <th>BMI</th>\n",
       "      <th>Smoking</th>\n",
       "      <th>GeneticRisk</th>\n",
       "      <th>PhysicalActivity</th>\n",
       "      <th>AlcoholIntake</th>\n",
       "      <th>CancerHistory</th>\n",
       "      <th>Diagnosis</th>\n",
       "    </tr>\n",
       "  </thead>\n",
       "  <tbody>\n",
       "    <tr>\n",
       "      <th>0</th>\n",
       "      <td>58</td>\n",
       "      <td>1</td>\n",
       "      <td>16.085313</td>\n",
       "      <td>0</td>\n",
       "      <td>1</td>\n",
       "      <td>8.146251</td>\n",
       "      <td>4.148219</td>\n",
       "      <td>1</td>\n",
       "      <td>1</td>\n",
       "    </tr>\n",
       "    <tr>\n",
       "      <th>1</th>\n",
       "      <td>71</td>\n",
       "      <td>0</td>\n",
       "      <td>30.828784</td>\n",
       "      <td>0</td>\n",
       "      <td>1</td>\n",
       "      <td>9.361630</td>\n",
       "      <td>3.519683</td>\n",
       "      <td>0</td>\n",
       "      <td>0</td>\n",
       "    </tr>\n",
       "    <tr>\n",
       "      <th>2</th>\n",
       "      <td>48</td>\n",
       "      <td>1</td>\n",
       "      <td>38.785084</td>\n",
       "      <td>0</td>\n",
       "      <td>2</td>\n",
       "      <td>5.135179</td>\n",
       "      <td>4.728368</td>\n",
       "      <td>0</td>\n",
       "      <td>1</td>\n",
       "    </tr>\n",
       "    <tr>\n",
       "      <th>3</th>\n",
       "      <td>34</td>\n",
       "      <td>0</td>\n",
       "      <td>30.040296</td>\n",
       "      <td>0</td>\n",
       "      <td>0</td>\n",
       "      <td>9.502792</td>\n",
       "      <td>2.044636</td>\n",
       "      <td>0</td>\n",
       "      <td>0</td>\n",
       "    </tr>\n",
       "    <tr>\n",
       "      <th>4</th>\n",
       "      <td>62</td>\n",
       "      <td>1</td>\n",
       "      <td>35.479721</td>\n",
       "      <td>0</td>\n",
       "      <td>0</td>\n",
       "      <td>5.356890</td>\n",
       "      <td>3.309849</td>\n",
       "      <td>0</td>\n",
       "      <td>1</td>\n",
       "    </tr>\n",
       "  </tbody>\n",
       "</table>\n",
       "</div>\n",
       "    <div class=\"colab-df-buttons\">\n",
       "\n",
       "  <div class=\"colab-df-container\">\n",
       "    <button class=\"colab-df-convert\" onclick=\"convertToInteractive('df-157ef727-580f-4696-b9c9-bdf0eb6d8fac')\"\n",
       "            title=\"Convert this dataframe to an interactive table.\"\n",
       "            style=\"display:none;\">\n",
       "\n",
       "  <svg xmlns=\"http://www.w3.org/2000/svg\" height=\"24px\" viewBox=\"0 -960 960 960\">\n",
       "    <path d=\"M120-120v-720h720v720H120Zm60-500h600v-160H180v160Zm220 220h160v-160H400v160Zm0 220h160v-160H400v160ZM180-400h160v-160H180v160Zm440 0h160v-160H620v160ZM180-180h160v-160H180v160Zm440 0h160v-160H620v160Z\"/>\n",
       "  </svg>\n",
       "    </button>\n",
       "\n",
       "  <style>\n",
       "    .colab-df-container {\n",
       "      display:flex;\n",
       "      gap: 12px;\n",
       "    }\n",
       "\n",
       "    .colab-df-convert {\n",
       "      background-color: #E8F0FE;\n",
       "      border: none;\n",
       "      border-radius: 50%;\n",
       "      cursor: pointer;\n",
       "      display: none;\n",
       "      fill: #1967D2;\n",
       "      height: 32px;\n",
       "      padding: 0 0 0 0;\n",
       "      width: 32px;\n",
       "    }\n",
       "\n",
       "    .colab-df-convert:hover {\n",
       "      background-color: #E2EBFA;\n",
       "      box-shadow: 0px 1px 2px rgba(60, 64, 67, 0.3), 0px 1px 3px 1px rgba(60, 64, 67, 0.15);\n",
       "      fill: #174EA6;\n",
       "    }\n",
       "\n",
       "    .colab-df-buttons div {\n",
       "      margin-bottom: 4px;\n",
       "    }\n",
       "\n",
       "    [theme=dark] .colab-df-convert {\n",
       "      background-color: #3B4455;\n",
       "      fill: #D2E3FC;\n",
       "    }\n",
       "\n",
       "    [theme=dark] .colab-df-convert:hover {\n",
       "      background-color: #434B5C;\n",
       "      box-shadow: 0px 1px 3px 1px rgba(0, 0, 0, 0.15);\n",
       "      filter: drop-shadow(0px 1px 2px rgba(0, 0, 0, 0.3));\n",
       "      fill: #FFFFFF;\n",
       "    }\n",
       "  </style>\n",
       "\n",
       "    <script>\n",
       "      const buttonEl =\n",
       "        document.querySelector('#df-157ef727-580f-4696-b9c9-bdf0eb6d8fac button.colab-df-convert');\n",
       "      buttonEl.style.display =\n",
       "        google.colab.kernel.accessAllowed ? 'block' : 'none';\n",
       "\n",
       "      async function convertToInteractive(key) {\n",
       "        const element = document.querySelector('#df-157ef727-580f-4696-b9c9-bdf0eb6d8fac');\n",
       "        const dataTable =\n",
       "          await google.colab.kernel.invokeFunction('convertToInteractive',\n",
       "                                                    [key], {});\n",
       "        if (!dataTable) return;\n",
       "\n",
       "        const docLinkHtml = 'Like what you see? Visit the ' +\n",
       "          '<a target=\"_blank\" href=https://colab.research.google.com/notebooks/data_table.ipynb>data table notebook</a>'\n",
       "          + ' to learn more about interactive tables.';\n",
       "        element.innerHTML = '';\n",
       "        dataTable['output_type'] = 'display_data';\n",
       "        await google.colab.output.renderOutput(dataTable, element);\n",
       "        const docLink = document.createElement('div');\n",
       "        docLink.innerHTML = docLinkHtml;\n",
       "        element.appendChild(docLink);\n",
       "      }\n",
       "    </script>\n",
       "  </div>\n",
       "\n",
       "\n",
       "    <div id=\"df-f65120c5-daf3-4cb5-b45d-e56345797f2d\">\n",
       "      <button class=\"colab-df-quickchart\" onclick=\"quickchart('df-f65120c5-daf3-4cb5-b45d-e56345797f2d')\"\n",
       "                title=\"Suggest charts\"\n",
       "                style=\"display:none;\">\n",
       "\n",
       "<svg xmlns=\"http://www.w3.org/2000/svg\" height=\"24px\"viewBox=\"0 0 24 24\"\n",
       "     width=\"24px\">\n",
       "    <g>\n",
       "        <path d=\"M19 3H5c-1.1 0-2 .9-2 2v14c0 1.1.9 2 2 2h14c1.1 0 2-.9 2-2V5c0-1.1-.9-2-2-2zM9 17H7v-7h2v7zm4 0h-2V7h2v10zm4 0h-2v-4h2v4z\"/>\n",
       "    </g>\n",
       "</svg>\n",
       "      </button>\n",
       "\n",
       "<style>\n",
       "  .colab-df-quickchart {\n",
       "      --bg-color: #E8F0FE;\n",
       "      --fill-color: #1967D2;\n",
       "      --hover-bg-color: #E2EBFA;\n",
       "      --hover-fill-color: #174EA6;\n",
       "      --disabled-fill-color: #AAA;\n",
       "      --disabled-bg-color: #DDD;\n",
       "  }\n",
       "\n",
       "  [theme=dark] .colab-df-quickchart {\n",
       "      --bg-color: #3B4455;\n",
       "      --fill-color: #D2E3FC;\n",
       "      --hover-bg-color: #434B5C;\n",
       "      --hover-fill-color: #FFFFFF;\n",
       "      --disabled-bg-color: #3B4455;\n",
       "      --disabled-fill-color: #666;\n",
       "  }\n",
       "\n",
       "  .colab-df-quickchart {\n",
       "    background-color: var(--bg-color);\n",
       "    border: none;\n",
       "    border-radius: 50%;\n",
       "    cursor: pointer;\n",
       "    display: none;\n",
       "    fill: var(--fill-color);\n",
       "    height: 32px;\n",
       "    padding: 0;\n",
       "    width: 32px;\n",
       "  }\n",
       "\n",
       "  .colab-df-quickchart:hover {\n",
       "    background-color: var(--hover-bg-color);\n",
       "    box-shadow: 0 1px 2px rgba(60, 64, 67, 0.3), 0 1px 3px 1px rgba(60, 64, 67, 0.15);\n",
       "    fill: var(--button-hover-fill-color);\n",
       "  }\n",
       "\n",
       "  .colab-df-quickchart-complete:disabled,\n",
       "  .colab-df-quickchart-complete:disabled:hover {\n",
       "    background-color: var(--disabled-bg-color);\n",
       "    fill: var(--disabled-fill-color);\n",
       "    box-shadow: none;\n",
       "  }\n",
       "\n",
       "  .colab-df-spinner {\n",
       "    border: 2px solid var(--fill-color);\n",
       "    border-color: transparent;\n",
       "    border-bottom-color: var(--fill-color);\n",
       "    animation:\n",
       "      spin 1s steps(1) infinite;\n",
       "  }\n",
       "\n",
       "  @keyframes spin {\n",
       "    0% {\n",
       "      border-color: transparent;\n",
       "      border-bottom-color: var(--fill-color);\n",
       "      border-left-color: var(--fill-color);\n",
       "    }\n",
       "    20% {\n",
       "      border-color: transparent;\n",
       "      border-left-color: var(--fill-color);\n",
       "      border-top-color: var(--fill-color);\n",
       "    }\n",
       "    30% {\n",
       "      border-color: transparent;\n",
       "      border-left-color: var(--fill-color);\n",
       "      border-top-color: var(--fill-color);\n",
       "      border-right-color: var(--fill-color);\n",
       "    }\n",
       "    40% {\n",
       "      border-color: transparent;\n",
       "      border-right-color: var(--fill-color);\n",
       "      border-top-color: var(--fill-color);\n",
       "    }\n",
       "    60% {\n",
       "      border-color: transparent;\n",
       "      border-right-color: var(--fill-color);\n",
       "    }\n",
       "    80% {\n",
       "      border-color: transparent;\n",
       "      border-right-color: var(--fill-color);\n",
       "      border-bottom-color: var(--fill-color);\n",
       "    }\n",
       "    90% {\n",
       "      border-color: transparent;\n",
       "      border-bottom-color: var(--fill-color);\n",
       "    }\n",
       "  }\n",
       "</style>\n",
       "\n",
       "      <script>\n",
       "        async function quickchart(key) {\n",
       "          const quickchartButtonEl =\n",
       "            document.querySelector('#' + key + ' button');\n",
       "          quickchartButtonEl.disabled = true;  // To prevent multiple clicks.\n",
       "          quickchartButtonEl.classList.add('colab-df-spinner');\n",
       "          try {\n",
       "            const charts = await google.colab.kernel.invokeFunction(\n",
       "                'suggestCharts', [key], {});\n",
       "          } catch (error) {\n",
       "            console.error('Error during call to suggestCharts:', error);\n",
       "          }\n",
       "          quickchartButtonEl.classList.remove('colab-df-spinner');\n",
       "          quickchartButtonEl.classList.add('colab-df-quickchart-complete');\n",
       "        }\n",
       "        (() => {\n",
       "          let quickchartButtonEl =\n",
       "            document.querySelector('#df-f65120c5-daf3-4cb5-b45d-e56345797f2d button');\n",
       "          quickchartButtonEl.style.display =\n",
       "            google.colab.kernel.accessAllowed ? 'block' : 'none';\n",
       "        })();\n",
       "      </script>\n",
       "    </div>\n",
       "\n",
       "    </div>\n",
       "  </div>\n"
      ],
      "text/plain": [
       "   Age  Gender        BMI  Smoking  GeneticRisk  PhysicalActivity  \\\n",
       "0   58       1  16.085313        0            1          8.146251   \n",
       "1   71       0  30.828784        0            1          9.361630   \n",
       "2   48       1  38.785084        0            2          5.135179   \n",
       "3   34       0  30.040296        0            0          9.502792   \n",
       "4   62       1  35.479721        0            0          5.356890   \n",
       "\n",
       "   AlcoholIntake  CancerHistory  Diagnosis  \n",
       "0       4.148219              1          1  \n",
       "1       3.519683              0          0  \n",
       "2       4.728368              0          1  \n",
       "3       2.044636              0          0  \n",
       "4       3.309849              0          1  "
      ]
     },
     "execution_count": 163,
     "metadata": {},
     "output_type": "execute_result"
    }
   ],
   "source": [
    "df.head() # Check first 5 rows of dataset to get a general understand of the dataset"
   ]
  },
  {
   "cell_type": "code",
   "execution_count": 164,
   "metadata": {
    "colab": {
     "base_uri": "https://localhost:8080/"
    },
    "executionInfo": {
     "elapsed": 38,
     "status": "ok",
     "timestamp": 1748381349984,
     "user": {
      "displayName": "Darius Govender",
      "userId": "00086672342847538299"
     },
     "user_tz": -120
    },
    "id": "FIVk89sgEPNq",
    "outputId": "e63b1050-d26e-47fe-bd1e-132885a81c46"
   },
   "outputs": [
    {
     "name": "stdout",
     "output_type": "stream",
     "text": [
      "<class 'pandas.core.frame.DataFrame'>\n",
      "RangeIndex: 1500 entries, 0 to 1499\n",
      "Data columns (total 9 columns):\n",
      " #   Column            Non-Null Count  Dtype  \n",
      "---  ------            --------------  -----  \n",
      " 0   Age               1500 non-null   int64  \n",
      " 1   Gender            1500 non-null   int64  \n",
      " 2   BMI               1500 non-null   float64\n",
      " 3   Smoking           1500 non-null   int64  \n",
      " 4   GeneticRisk       1500 non-null   int64  \n",
      " 5   PhysicalActivity  1500 non-null   float64\n",
      " 6   AlcoholIntake     1500 non-null   float64\n",
      " 7   CancerHistory     1500 non-null   int64  \n",
      " 8   Diagnosis         1500 non-null   int64  \n",
      "dtypes: float64(3), int64(6)\n",
      "memory usage: 105.6 KB\n"
     ]
    }
   ],
   "source": [
    "df.info()"
   ]
  },
  {
   "cell_type": "markdown",
   "metadata": {
    "id": "H-OCS_nlEWkR"
   },
   "source": [
    "* This shows the structure of the dataset, showing that there are 1500 entries and 9 columns.\n",
    "* This shows the data types within the dataset:\n",
    "\n",
    "  * **Numerical features**\n",
    "      1. Age: Integer values representing the patient's age\n",
    "      2. BMI: Continuous values representing Body Mass Index\n",
    "      3. PhysicalActivity: Continuous values representing hours per week spent on physical activities\n",
    "      4. AlcoholIntake: Continuous values representing alcohol units consumed per week\n",
    "\n",
    "  * **Binary Features (Numerical Encoded)**\n",
    "      5. Gender: binary encoded value representing 0 = Male, 1 = Female.\n",
    "      6. Smoking: binary encoded value representing 0 = No, 1 = Yes.\n",
    "      7. CancerHistory: binary encoded value representing 0 = No, 1 = Yes. This refers to whether the patient has a personal history of cancer.\n",
    "      8. Diagnosis: binary encoded value representing 0 = No Cancer, 1 = Cancer.\n",
    "\n",
    "  * **Categorical features**\n",
    "      9. GeneticRisk: encoded values representing 0 = Low, 1 = Medium, 2 = High. This refers to the genetic risk level for cancer of patient"
   ]
  },
  {
   "cell_type": "code",
   "execution_count": 165,
   "metadata": {
    "colab": {
     "base_uri": "https://localhost:8080/",
     "height": 0
    },
    "executionInfo": {
     "elapsed": 83,
     "status": "ok",
     "timestamp": 1748381350161,
     "user": {
      "displayName": "Darius Govender",
      "userId": "00086672342847538299"
     },
     "user_tz": -120
    },
    "id": "hmBmYamGFySg",
    "outputId": "5370c824-af3f-4b1b-f346-19df4964b9be"
   },
   "outputs": [
    {
     "data": {
      "text/html": [
       "<div>\n",
       "<style scoped>\n",
       "    .dataframe tbody tr th:only-of-type {\n",
       "        vertical-align: middle;\n",
       "    }\n",
       "\n",
       "    .dataframe tbody tr th {\n",
       "        vertical-align: top;\n",
       "    }\n",
       "\n",
       "    .dataframe thead th {\n",
       "        text-align: right;\n",
       "    }\n",
       "</style>\n",
       "<table border=\"1\" class=\"dataframe\">\n",
       "  <thead>\n",
       "    <tr style=\"text-align: right;\">\n",
       "      <th></th>\n",
       "      <th>0</th>\n",
       "    </tr>\n",
       "  </thead>\n",
       "  <tbody>\n",
       "    <tr>\n",
       "      <th>Age</th>\n",
       "      <td>61</td>\n",
       "    </tr>\n",
       "    <tr>\n",
       "      <th>Gender</th>\n",
       "      <td>2</td>\n",
       "    </tr>\n",
       "    <tr>\n",
       "      <th>BMI</th>\n",
       "      <td>1500</td>\n",
       "    </tr>\n",
       "    <tr>\n",
       "      <th>Smoking</th>\n",
       "      <td>2</td>\n",
       "    </tr>\n",
       "    <tr>\n",
       "      <th>GeneticRisk</th>\n",
       "      <td>3</td>\n",
       "    </tr>\n",
       "    <tr>\n",
       "      <th>PhysicalActivity</th>\n",
       "      <td>1500</td>\n",
       "    </tr>\n",
       "    <tr>\n",
       "      <th>AlcoholIntake</th>\n",
       "      <td>1500</td>\n",
       "    </tr>\n",
       "    <tr>\n",
       "      <th>CancerHistory</th>\n",
       "      <td>2</td>\n",
       "    </tr>\n",
       "    <tr>\n",
       "      <th>Diagnosis</th>\n",
       "      <td>2</td>\n",
       "    </tr>\n",
       "  </tbody>\n",
       "</table>\n",
       "</div><br><label><b>dtype:</b> int64</label>"
      ],
      "text/plain": [
       "Age                   61\n",
       "Gender                 2\n",
       "BMI                 1500\n",
       "Smoking                2\n",
       "GeneticRisk            3\n",
       "PhysicalActivity    1500\n",
       "AlcoholIntake       1500\n",
       "CancerHistory          2\n",
       "Diagnosis              2\n",
       "dtype: int64"
      ]
     },
     "execution_count": 165,
     "metadata": {},
     "output_type": "execute_result"
    }
   ],
   "source": [
    "df.nunique() # Calculate number of unique values in each column"
   ]
  },
  {
   "cell_type": "code",
   "execution_count": 166,
   "metadata": {
    "colab": {
     "base_uri": "https://localhost:8080/",
     "height": 0
    },
    "executionInfo": {
     "elapsed": 53,
     "status": "ok",
     "timestamp": 1748381350218,
     "user": {
      "displayName": "Darius Govender",
      "userId": "00086672342847538299"
     },
     "user_tz": -120
    },
    "id": "Ennl1LKmF5xR",
    "outputId": "a21a482c-39a3-46d7-9b39-634826528ef4"
   },
   "outputs": [
    {
     "name": "stdout",
     "output_type": "stream",
     "text": [
      "Numerical Features\n",
      "\n"
     ]
    },
    {
     "data": {
      "application/vnd.google.colaboratory.intrinsic+json": {
       "summary": "{\n  \"name\": \"df\",\n  \"rows\": 8,\n  \"fields\": [\n    {\n      \"column\": \"Age\",\n      \"properties\": {\n        \"dtype\": \"number\",\n        \"std\": 514.614011484571,\n        \"min\": 17.64096754216961,\n        \"max\": 1500.0,\n        \"num_unique_values\": 8,\n        \"samples\": [\n          50.32,\n          51.0,\n          1500.0\n        ],\n        \"semantic_type\": \"\",\n        \"description\": \"\"\n      }\n    },\n    {\n      \"column\": \"Gender\",\n      \"properties\": {\n        \"dtype\": \"number\",\n        \"std\": 530.179193819292,\n        \"min\": 0.0,\n        \"max\": 1500.0,\n        \"num_unique_values\": 5,\n        \"samples\": [\n          0.49066666666666664,\n          1.0,\n          0.5000796022914561\n        ],\n        \"semantic_type\": \"\",\n        \"description\": \"\"\n      }\n    },\n    {\n      \"column\": \"BMI\",\n      \"properties\": {\n        \"dtype\": \"number\",\n        \"std\": 521.7123803999519,\n        \"min\": 7.230012046648454,\n        \"max\": 1500.0,\n        \"num_unique_values\": 8,\n        \"samples\": [\n          27.51332130571539,\n          27.598494363554558,\n          1500.0\n        ],\n        \"semantic_type\": \"\",\n        \"description\": \"\"\n      }\n    },\n    {\n      \"column\": \"Smoking\",\n      \"properties\": {\n        \"dtype\": \"number\",\n        \"std\": 530.1932179919772,\n        \"min\": 0.0,\n        \"max\": 1500.0,\n        \"num_unique_values\": 5,\n        \"samples\": [\n          0.2693333333333333,\n          1.0,\n          0.4437613904679003\n        ],\n        \"semantic_type\": \"\",\n        \"description\": \"\"\n      }\n    },\n    {\n      \"column\": \"GeneticRisk\",\n      \"properties\": {\n        \"dtype\": \"number\",\n        \"std\": 530.1190152012516,\n        \"min\": 0.0,\n        \"max\": 1500.0,\n        \"num_unique_values\": 6,\n        \"samples\": [\n          1500.0,\n          0.5086666666666667,\n          2.0\n        ],\n        \"semantic_type\": \"\",\n        \"description\": \"\"\n      }\n    },\n    {\n      \"column\": \"PhysicalActivity\",\n      \"properties\": {\n        \"dtype\": \"number\",\n        \"std\": 528.7005342383862,\n        \"min\": 0.0024100468513454,\n        \"max\": 1500.0,\n        \"num_unique_values\": 8,\n        \"samples\": [\n          4.8979290547061485,\n          4.834315708880495,\n          1500.0\n        ],\n        \"semantic_type\": \"\",\n        \"description\": \"\"\n      }\n    },\n    {\n      \"column\": \"AlcoholIntake\",\n      \"properties\": {\n        \"dtype\": \"number\",\n        \"std\": 529.5238971557227,\n        \"min\": 0.0012146721725636,\n        \"max\": 1500.0,\n        \"num_unique_values\": 8,\n        \"samples\": [\n          2.4179873457994914,\n          2.3829709997263975,\n          1500.0\n        ],\n        \"semantic_type\": \"\",\n        \"description\": \"\"\n      }\n    },\n    {\n      \"column\": \"CancerHistory\",\n      \"properties\": {\n        \"dtype\": \"number\",\n        \"std\": 530.2546776339897,\n        \"min\": 0.0,\n        \"max\": 1500.0,\n        \"num_unique_values\": 5,\n        \"samples\": [\n          0.144,\n          1.0,\n          0.3512068205780552\n        ],\n        \"semantic_type\": \"\",\n        \"description\": \"\"\n      }\n    },\n    {\n      \"column\": \"Diagnosis\",\n      \"properties\": {\n        \"dtype\": \"number\",\n        \"std\": 530.1860666549646,\n        \"min\": 0.0,\n        \"max\": 1500.0,\n        \"num_unique_values\": 5,\n        \"samples\": [\n          0.37133333333333335,\n          1.0,\n          0.48332248306624537\n        ],\n        \"semantic_type\": \"\",\n        \"description\": \"\"\n      }\n    }\n  ]\n}",
       "type": "dataframe"
      },
      "text/html": [
       "\n",
       "  <div id=\"df-ab6b8f2b-131d-4721-a661-ddf910c1f0df\" class=\"colab-df-container\">\n",
       "    <div>\n",
       "<style scoped>\n",
       "    .dataframe tbody tr th:only-of-type {\n",
       "        vertical-align: middle;\n",
       "    }\n",
       "\n",
       "    .dataframe tbody tr th {\n",
       "        vertical-align: top;\n",
       "    }\n",
       "\n",
       "    .dataframe thead th {\n",
       "        text-align: right;\n",
       "    }\n",
       "</style>\n",
       "<table border=\"1\" class=\"dataframe\">\n",
       "  <thead>\n",
       "    <tr style=\"text-align: right;\">\n",
       "      <th></th>\n",
       "      <th>Age</th>\n",
       "      <th>Gender</th>\n",
       "      <th>BMI</th>\n",
       "      <th>Smoking</th>\n",
       "      <th>GeneticRisk</th>\n",
       "      <th>PhysicalActivity</th>\n",
       "      <th>AlcoholIntake</th>\n",
       "      <th>CancerHistory</th>\n",
       "      <th>Diagnosis</th>\n",
       "    </tr>\n",
       "  </thead>\n",
       "  <tbody>\n",
       "    <tr>\n",
       "      <th>count</th>\n",
       "      <td>1500.000000</td>\n",
       "      <td>1500.000000</td>\n",
       "      <td>1500.000000</td>\n",
       "      <td>1500.000000</td>\n",
       "      <td>1500.000000</td>\n",
       "      <td>1500.000000</td>\n",
       "      <td>1500.000000</td>\n",
       "      <td>1500.000000</td>\n",
       "      <td>1500.000000</td>\n",
       "    </tr>\n",
       "    <tr>\n",
       "      <th>mean</th>\n",
       "      <td>50.320000</td>\n",
       "      <td>0.490667</td>\n",
       "      <td>27.513321</td>\n",
       "      <td>0.269333</td>\n",
       "      <td>0.508667</td>\n",
       "      <td>4.897929</td>\n",
       "      <td>2.417987</td>\n",
       "      <td>0.144000</td>\n",
       "      <td>0.371333</td>\n",
       "    </tr>\n",
       "    <tr>\n",
       "      <th>std</th>\n",
       "      <td>17.640968</td>\n",
       "      <td>0.500080</td>\n",
       "      <td>7.230012</td>\n",
       "      <td>0.443761</td>\n",
       "      <td>0.678895</td>\n",
       "      <td>2.866162</td>\n",
       "      <td>1.419318</td>\n",
       "      <td>0.351207</td>\n",
       "      <td>0.483322</td>\n",
       "    </tr>\n",
       "    <tr>\n",
       "      <th>min</th>\n",
       "      <td>20.000000</td>\n",
       "      <td>0.000000</td>\n",
       "      <td>15.000291</td>\n",
       "      <td>0.000000</td>\n",
       "      <td>0.000000</td>\n",
       "      <td>0.002410</td>\n",
       "      <td>0.001215</td>\n",
       "      <td>0.000000</td>\n",
       "      <td>0.000000</td>\n",
       "    </tr>\n",
       "    <tr>\n",
       "      <th>25%</th>\n",
       "      <td>35.000000</td>\n",
       "      <td>0.000000</td>\n",
       "      <td>21.483134</td>\n",
       "      <td>0.000000</td>\n",
       "      <td>0.000000</td>\n",
       "      <td>2.434609</td>\n",
       "      <td>1.210598</td>\n",
       "      <td>0.000000</td>\n",
       "      <td>0.000000</td>\n",
       "    </tr>\n",
       "    <tr>\n",
       "      <th>50%</th>\n",
       "      <td>51.000000</td>\n",
       "      <td>0.000000</td>\n",
       "      <td>27.598494</td>\n",
       "      <td>0.000000</td>\n",
       "      <td>0.000000</td>\n",
       "      <td>4.834316</td>\n",
       "      <td>2.382971</td>\n",
       "      <td>0.000000</td>\n",
       "      <td>0.000000</td>\n",
       "    </tr>\n",
       "    <tr>\n",
       "      <th>75%</th>\n",
       "      <td>66.000000</td>\n",
       "      <td>1.000000</td>\n",
       "      <td>33.850837</td>\n",
       "      <td>1.000000</td>\n",
       "      <td>1.000000</td>\n",
       "      <td>7.409896</td>\n",
       "      <td>3.585624</td>\n",
       "      <td>0.000000</td>\n",
       "      <td>1.000000</td>\n",
       "    </tr>\n",
       "    <tr>\n",
       "      <th>max</th>\n",
       "      <td>80.000000</td>\n",
       "      <td>1.000000</td>\n",
       "      <td>39.958688</td>\n",
       "      <td>1.000000</td>\n",
       "      <td>2.000000</td>\n",
       "      <td>9.994607</td>\n",
       "      <td>4.987115</td>\n",
       "      <td>1.000000</td>\n",
       "      <td>1.000000</td>\n",
       "    </tr>\n",
       "  </tbody>\n",
       "</table>\n",
       "</div>\n",
       "    <div class=\"colab-df-buttons\">\n",
       "\n",
       "  <div class=\"colab-df-container\">\n",
       "    <button class=\"colab-df-convert\" onclick=\"convertToInteractive('df-ab6b8f2b-131d-4721-a661-ddf910c1f0df')\"\n",
       "            title=\"Convert this dataframe to an interactive table.\"\n",
       "            style=\"display:none;\">\n",
       "\n",
       "  <svg xmlns=\"http://www.w3.org/2000/svg\" height=\"24px\" viewBox=\"0 -960 960 960\">\n",
       "    <path d=\"M120-120v-720h720v720H120Zm60-500h600v-160H180v160Zm220 220h160v-160H400v160Zm0 220h160v-160H400v160ZM180-400h160v-160H180v160Zm440 0h160v-160H620v160ZM180-180h160v-160H180v160Zm440 0h160v-160H620v160Z\"/>\n",
       "  </svg>\n",
       "    </button>\n",
       "\n",
       "  <style>\n",
       "    .colab-df-container {\n",
       "      display:flex;\n",
       "      gap: 12px;\n",
       "    }\n",
       "\n",
       "    .colab-df-convert {\n",
       "      background-color: #E8F0FE;\n",
       "      border: none;\n",
       "      border-radius: 50%;\n",
       "      cursor: pointer;\n",
       "      display: none;\n",
       "      fill: #1967D2;\n",
       "      height: 32px;\n",
       "      padding: 0 0 0 0;\n",
       "      width: 32px;\n",
       "    }\n",
       "\n",
       "    .colab-df-convert:hover {\n",
       "      background-color: #E2EBFA;\n",
       "      box-shadow: 0px 1px 2px rgba(60, 64, 67, 0.3), 0px 1px 3px 1px rgba(60, 64, 67, 0.15);\n",
       "      fill: #174EA6;\n",
       "    }\n",
       "\n",
       "    .colab-df-buttons div {\n",
       "      margin-bottom: 4px;\n",
       "    }\n",
       "\n",
       "    [theme=dark] .colab-df-convert {\n",
       "      background-color: #3B4455;\n",
       "      fill: #D2E3FC;\n",
       "    }\n",
       "\n",
       "    [theme=dark] .colab-df-convert:hover {\n",
       "      background-color: #434B5C;\n",
       "      box-shadow: 0px 1px 3px 1px rgba(0, 0, 0, 0.15);\n",
       "      filter: drop-shadow(0px 1px 2px rgba(0, 0, 0, 0.3));\n",
       "      fill: #FFFFFF;\n",
       "    }\n",
       "  </style>\n",
       "\n",
       "    <script>\n",
       "      const buttonEl =\n",
       "        document.querySelector('#df-ab6b8f2b-131d-4721-a661-ddf910c1f0df button.colab-df-convert');\n",
       "      buttonEl.style.display =\n",
       "        google.colab.kernel.accessAllowed ? 'block' : 'none';\n",
       "\n",
       "      async function convertToInteractive(key) {\n",
       "        const element = document.querySelector('#df-ab6b8f2b-131d-4721-a661-ddf910c1f0df');\n",
       "        const dataTable =\n",
       "          await google.colab.kernel.invokeFunction('convertToInteractive',\n",
       "                                                    [key], {});\n",
       "        if (!dataTable) return;\n",
       "\n",
       "        const docLinkHtml = 'Like what you see? Visit the ' +\n",
       "          '<a target=\"_blank\" href=https://colab.research.google.com/notebooks/data_table.ipynb>data table notebook</a>'\n",
       "          + ' to learn more about interactive tables.';\n",
       "        element.innerHTML = '';\n",
       "        dataTable['output_type'] = 'display_data';\n",
       "        await google.colab.output.renderOutput(dataTable, element);\n",
       "        const docLink = document.createElement('div');\n",
       "        docLink.innerHTML = docLinkHtml;\n",
       "        element.appendChild(docLink);\n",
       "      }\n",
       "    </script>\n",
       "  </div>\n",
       "\n",
       "\n",
       "    <div id=\"df-b7d5f258-e540-4960-9319-d21ac448bcf4\">\n",
       "      <button class=\"colab-df-quickchart\" onclick=\"quickchart('df-b7d5f258-e540-4960-9319-d21ac448bcf4')\"\n",
       "                title=\"Suggest charts\"\n",
       "                style=\"display:none;\">\n",
       "\n",
       "<svg xmlns=\"http://www.w3.org/2000/svg\" height=\"24px\"viewBox=\"0 0 24 24\"\n",
       "     width=\"24px\">\n",
       "    <g>\n",
       "        <path d=\"M19 3H5c-1.1 0-2 .9-2 2v14c0 1.1.9 2 2 2h14c1.1 0 2-.9 2-2V5c0-1.1-.9-2-2-2zM9 17H7v-7h2v7zm4 0h-2V7h2v10zm4 0h-2v-4h2v4z\"/>\n",
       "    </g>\n",
       "</svg>\n",
       "      </button>\n",
       "\n",
       "<style>\n",
       "  .colab-df-quickchart {\n",
       "      --bg-color: #E8F0FE;\n",
       "      --fill-color: #1967D2;\n",
       "      --hover-bg-color: #E2EBFA;\n",
       "      --hover-fill-color: #174EA6;\n",
       "      --disabled-fill-color: #AAA;\n",
       "      --disabled-bg-color: #DDD;\n",
       "  }\n",
       "\n",
       "  [theme=dark] .colab-df-quickchart {\n",
       "      --bg-color: #3B4455;\n",
       "      --fill-color: #D2E3FC;\n",
       "      --hover-bg-color: #434B5C;\n",
       "      --hover-fill-color: #FFFFFF;\n",
       "      --disabled-bg-color: #3B4455;\n",
       "      --disabled-fill-color: #666;\n",
       "  }\n",
       "\n",
       "  .colab-df-quickchart {\n",
       "    background-color: var(--bg-color);\n",
       "    border: none;\n",
       "    border-radius: 50%;\n",
       "    cursor: pointer;\n",
       "    display: none;\n",
       "    fill: var(--fill-color);\n",
       "    height: 32px;\n",
       "    padding: 0;\n",
       "    width: 32px;\n",
       "  }\n",
       "\n",
       "  .colab-df-quickchart:hover {\n",
       "    background-color: var(--hover-bg-color);\n",
       "    box-shadow: 0 1px 2px rgba(60, 64, 67, 0.3), 0 1px 3px 1px rgba(60, 64, 67, 0.15);\n",
       "    fill: var(--button-hover-fill-color);\n",
       "  }\n",
       "\n",
       "  .colab-df-quickchart-complete:disabled,\n",
       "  .colab-df-quickchart-complete:disabled:hover {\n",
       "    background-color: var(--disabled-bg-color);\n",
       "    fill: var(--disabled-fill-color);\n",
       "    box-shadow: none;\n",
       "  }\n",
       "\n",
       "  .colab-df-spinner {\n",
       "    border: 2px solid var(--fill-color);\n",
       "    border-color: transparent;\n",
       "    border-bottom-color: var(--fill-color);\n",
       "    animation:\n",
       "      spin 1s steps(1) infinite;\n",
       "  }\n",
       "\n",
       "  @keyframes spin {\n",
       "    0% {\n",
       "      border-color: transparent;\n",
       "      border-bottom-color: var(--fill-color);\n",
       "      border-left-color: var(--fill-color);\n",
       "    }\n",
       "    20% {\n",
       "      border-color: transparent;\n",
       "      border-left-color: var(--fill-color);\n",
       "      border-top-color: var(--fill-color);\n",
       "    }\n",
       "    30% {\n",
       "      border-color: transparent;\n",
       "      border-left-color: var(--fill-color);\n",
       "      border-top-color: var(--fill-color);\n",
       "      border-right-color: var(--fill-color);\n",
       "    }\n",
       "    40% {\n",
       "      border-color: transparent;\n",
       "      border-right-color: var(--fill-color);\n",
       "      border-top-color: var(--fill-color);\n",
       "    }\n",
       "    60% {\n",
       "      border-color: transparent;\n",
       "      border-right-color: var(--fill-color);\n",
       "    }\n",
       "    80% {\n",
       "      border-color: transparent;\n",
       "      border-right-color: var(--fill-color);\n",
       "      border-bottom-color: var(--fill-color);\n",
       "    }\n",
       "    90% {\n",
       "      border-color: transparent;\n",
       "      border-bottom-color: var(--fill-color);\n",
       "    }\n",
       "  }\n",
       "</style>\n",
       "\n",
       "      <script>\n",
       "        async function quickchart(key) {\n",
       "          const quickchartButtonEl =\n",
       "            document.querySelector('#' + key + ' button');\n",
       "          quickchartButtonEl.disabled = true;  // To prevent multiple clicks.\n",
       "          quickchartButtonEl.classList.add('colab-df-spinner');\n",
       "          try {\n",
       "            const charts = await google.colab.kernel.invokeFunction(\n",
       "                'suggestCharts', [key], {});\n",
       "          } catch (error) {\n",
       "            console.error('Error during call to suggestCharts:', error);\n",
       "          }\n",
       "          quickchartButtonEl.classList.remove('colab-df-spinner');\n",
       "          quickchartButtonEl.classList.add('colab-df-quickchart-complete');\n",
       "        }\n",
       "        (() => {\n",
       "          let quickchartButtonEl =\n",
       "            document.querySelector('#df-b7d5f258-e540-4960-9319-d21ac448bcf4 button');\n",
       "          quickchartButtonEl.style.display =\n",
       "            google.colab.kernel.accessAllowed ? 'block' : 'none';\n",
       "        })();\n",
       "      </script>\n",
       "    </div>\n",
       "\n",
       "    </div>\n",
       "  </div>\n"
      ],
      "text/plain": [
       "               Age       Gender          BMI      Smoking  GeneticRisk  \\\n",
       "count  1500.000000  1500.000000  1500.000000  1500.000000  1500.000000   \n",
       "mean     50.320000     0.490667    27.513321     0.269333     0.508667   \n",
       "std      17.640968     0.500080     7.230012     0.443761     0.678895   \n",
       "min      20.000000     0.000000    15.000291     0.000000     0.000000   \n",
       "25%      35.000000     0.000000    21.483134     0.000000     0.000000   \n",
       "50%      51.000000     0.000000    27.598494     0.000000     0.000000   \n",
       "75%      66.000000     1.000000    33.850837     1.000000     1.000000   \n",
       "max      80.000000     1.000000    39.958688     1.000000     2.000000   \n",
       "\n",
       "       PhysicalActivity  AlcoholIntake  CancerHistory    Diagnosis  \n",
       "count       1500.000000    1500.000000    1500.000000  1500.000000  \n",
       "mean           4.897929       2.417987       0.144000     0.371333  \n",
       "std            2.866162       1.419318       0.351207     0.483322  \n",
       "min            0.002410       0.001215       0.000000     0.000000  \n",
       "25%            2.434609       1.210598       0.000000     0.000000  \n",
       "50%            4.834316       2.382971       0.000000     0.000000  \n",
       "75%            7.409896       3.585624       0.000000     1.000000  \n",
       "max            9.994607       4.987115       1.000000     1.000000  "
      ]
     },
     "execution_count": 166,
     "metadata": {},
     "output_type": "execute_result"
    }
   ],
   "source": [
    "print(\"Numerical Features\\n\")\n",
    "df.describe() # used for the numerical features to understand the basic stats"
   ]
  },
  {
   "cell_type": "markdown",
   "metadata": {
    "id": "vIdKlkou0MRR"
   },
   "source": [
    "#### Idenify and handle Missing values"
   ]
  },
  {
   "cell_type": "code",
   "execution_count": 167,
   "metadata": {
    "colab": {
     "base_uri": "https://localhost:8080/",
     "height": 0
    },
    "executionInfo": {
     "elapsed": 13,
     "status": "ok",
     "timestamp": 1748381350248,
     "user": {
      "displayName": "Darius Govender",
      "userId": "00086672342847538299"
     },
     "user_tz": -120
    },
    "id": "ITaE5GVZpfoI",
    "outputId": "81d0b8cc-7221-4747-b645-9b0c25f61aaf"
   },
   "outputs": [
    {
     "data": {
      "text/html": [
       "<div>\n",
       "<style scoped>\n",
       "    .dataframe tbody tr th:only-of-type {\n",
       "        vertical-align: middle;\n",
       "    }\n",
       "\n",
       "    .dataframe tbody tr th {\n",
       "        vertical-align: top;\n",
       "    }\n",
       "\n",
       "    .dataframe thead th {\n",
       "        text-align: right;\n",
       "    }\n",
       "</style>\n",
       "<table border=\"1\" class=\"dataframe\">\n",
       "  <thead>\n",
       "    <tr style=\"text-align: right;\">\n",
       "      <th></th>\n",
       "      <th>0</th>\n",
       "    </tr>\n",
       "  </thead>\n",
       "  <tbody>\n",
       "    <tr>\n",
       "      <th>Age</th>\n",
       "      <td>0</td>\n",
       "    </tr>\n",
       "    <tr>\n",
       "      <th>Gender</th>\n",
       "      <td>0</td>\n",
       "    </tr>\n",
       "    <tr>\n",
       "      <th>BMI</th>\n",
       "      <td>0</td>\n",
       "    </tr>\n",
       "    <tr>\n",
       "      <th>Smoking</th>\n",
       "      <td>0</td>\n",
       "    </tr>\n",
       "    <tr>\n",
       "      <th>GeneticRisk</th>\n",
       "      <td>0</td>\n",
       "    </tr>\n",
       "    <tr>\n",
       "      <th>PhysicalActivity</th>\n",
       "      <td>0</td>\n",
       "    </tr>\n",
       "    <tr>\n",
       "      <th>AlcoholIntake</th>\n",
       "      <td>0</td>\n",
       "    </tr>\n",
       "    <tr>\n",
       "      <th>CancerHistory</th>\n",
       "      <td>0</td>\n",
       "    </tr>\n",
       "    <tr>\n",
       "      <th>Diagnosis</th>\n",
       "      <td>0</td>\n",
       "    </tr>\n",
       "  </tbody>\n",
       "</table>\n",
       "</div><br><label><b>dtype:</b> int64</label>"
      ],
      "text/plain": [
       "Age                 0\n",
       "Gender              0\n",
       "BMI                 0\n",
       "Smoking             0\n",
       "GeneticRisk         0\n",
       "PhysicalActivity    0\n",
       "AlcoholIntake       0\n",
       "CancerHistory       0\n",
       "Diagnosis           0\n",
       "dtype: int64"
      ]
     },
     "execution_count": 167,
     "metadata": {},
     "output_type": "execute_result"
    }
   ],
   "source": [
    "df.isnull().sum() # Check for missing values"
   ]
  },
  {
   "cell_type": "markdown",
   "metadata": {
    "id": "S2lVZZC3OFOc"
   },
   "source": [
    "* No missing values are present in the dataset"
   ]
  },
  {
   "cell_type": "code",
   "execution_count": 215,
   "metadata": {
    "colab": {
     "base_uri": "https://localhost:8080/",
     "height": 0
    },
    "executionInfo": {
     "elapsed": 72,
     "status": "ok",
     "timestamp": 1748386403524,
     "user": {
      "displayName": "Darius Govender",
      "userId": "00086672342847538299"
     },
     "user_tz": -120
    },
    "id": "7YYv_5ht80Yy",
    "outputId": "64ac075c-eef9-49ae-938d-6839774ccf95"
   },
   "outputs": [
    {
     "data": {
      "text/html": [
       "<div>\n",
       "<style scoped>\n",
       "    .dataframe tbody tr th:only-of-type {\n",
       "        vertical-align: middle;\n",
       "    }\n",
       "\n",
       "    .dataframe tbody tr th {\n",
       "        vertical-align: top;\n",
       "    }\n",
       "\n",
       "    .dataframe thead th {\n",
       "        text-align: right;\n",
       "    }\n",
       "</style>\n",
       "<table border=\"1\" class=\"dataframe\">\n",
       "  <thead>\n",
       "    <tr style=\"text-align: right;\">\n",
       "      <th></th>\n",
       "      <th>0</th>\n",
       "    </tr>\n",
       "  </thead>\n",
       "  <tbody>\n",
       "    <tr>\n",
       "      <th>Age</th>\n",
       "      <td>0</td>\n",
       "    </tr>\n",
       "    <tr>\n",
       "      <th>Gender</th>\n",
       "      <td>0</td>\n",
       "    </tr>\n",
       "    <tr>\n",
       "      <th>BMI</th>\n",
       "      <td>0</td>\n",
       "    </tr>\n",
       "    <tr>\n",
       "      <th>Smoking</th>\n",
       "      <td>0</td>\n",
       "    </tr>\n",
       "    <tr>\n",
       "      <th>GeneticRisk</th>\n",
       "      <td>0</td>\n",
       "    </tr>\n",
       "    <tr>\n",
       "      <th>PhysicalActivity</th>\n",
       "      <td>0</td>\n",
       "    </tr>\n",
       "    <tr>\n",
       "      <th>AlcoholIntake</th>\n",
       "      <td>0</td>\n",
       "    </tr>\n",
       "    <tr>\n",
       "      <th>CancerHistory</th>\n",
       "      <td>0</td>\n",
       "    </tr>\n",
       "    <tr>\n",
       "      <th>Diagnosis</th>\n",
       "      <td>0</td>\n",
       "    </tr>\n",
       "  </tbody>\n",
       "</table>\n",
       "</div><br><label><b>dtype:</b> int64</label>"
      ],
      "text/plain": [
       "Age                 0\n",
       "Gender              0\n",
       "BMI                 0\n",
       "Smoking             0\n",
       "GeneticRisk         0\n",
       "PhysicalActivity    0\n",
       "AlcoholIntake       0\n",
       "CancerHistory       0\n",
       "Diagnosis           0\n",
       "dtype: int64"
      ]
     },
     "execution_count": 215,
     "metadata": {},
     "output_type": "execute_result"
    }
   ],
   "source": [
    "df.isna().sum()"
   ]
  },
  {
   "cell_type": "markdown",
   "metadata": {
    "id": "l8SdTQ4887lJ"
   },
   "source": [
    "* No missing values are present in the dataset"
   ]
  },
  {
   "cell_type": "markdown",
   "metadata": {
    "id": "RjMZQlkH0RDU"
   },
   "source": [
    "#### Identify and handle duplicate values"
   ]
  },
  {
   "cell_type": "code",
   "execution_count": 168,
   "metadata": {
    "colab": {
     "base_uri": "https://localhost:8080/"
    },
    "executionInfo": {
     "elapsed": 131,
     "status": "ok",
     "timestamp": 1748381350382,
     "user": {
      "displayName": "Darius Govender",
      "userId": "00086672342847538299"
     },
     "user_tz": -120
    },
    "id": "guXbnpK-nmfJ",
    "outputId": "3c32fa10-a15f-4e97-c3ed-11ff92f018f7"
   },
   "outputs": [
    {
     "data": {
      "text/plain": [
       "np.int64(0)"
      ]
     },
     "execution_count": 168,
     "metadata": {},
     "output_type": "execute_result"
    }
   ],
   "source": [
    "df.duplicated().sum() # Check for duplicates"
   ]
  },
  {
   "cell_type": "markdown",
   "metadata": {
    "id": "KkiQ_qmLnx4N"
   },
   "source": [
    "* There are no duplicate values present"
   ]
  },
  {
   "cell_type": "markdown",
   "metadata": {
    "id": "oXJ4iRhx0XfK"
   },
   "source": [
    "#### Idenify and handle ouitliers"
   ]
  },
  {
   "cell_type": "code",
   "execution_count": 169,
   "metadata": {
    "colab": {
     "base_uri": "https://localhost:8080/"
    },
    "executionInfo": {
     "elapsed": 129,
     "status": "ok",
     "timestamp": 1748381350603,
     "user": {
      "displayName": "Darius Govender",
      "userId": "00086672342847538299"
     },
     "user_tz": -120
    },
    "id": "Nj56_D_7qlkM",
    "outputId": "d1779415-8651-4a61-a311-8db11f72b8f2"
   },
   "outputs": [
    {
     "data": {
      "text/plain": [
       "Index(['Age', 'Gender', 'BMI', 'Smoking', 'GeneticRisk', 'PhysicalActivity',\n",
       "       'AlcoholIntake', 'CancerHistory', 'Diagnosis'],\n",
       "      dtype='object')"
      ]
     },
     "execution_count": 169,
     "metadata": {},
     "output_type": "execute_result"
    }
   ],
   "source": [
    "df.columns"
   ]
  },
  {
   "cell_type": "code",
   "execution_count": 170,
   "metadata": {
    "colab": {
     "base_uri": "https://localhost:8080/"
    },
    "executionInfo": {
     "elapsed": 34,
     "status": "ok",
     "timestamp": 1748381350644,
     "user": {
      "displayName": "Darius Govender",
      "userId": "00086672342847538299"
     },
     "user_tz": -120
    },
    "id": "3kh6bsdmqRMq",
    "outputId": "08665b34-c57f-414f-90be-5a8bc517b973"
   },
   "outputs": [
    {
     "name": "stdout",
     "output_type": "stream",
     "text": [
      "\n",
      "Numerical outliers\n",
      "                  Outlier Count\n",
      "Age                           0\n",
      "BMI                           0\n",
      "PhysicalActivity              0\n",
      "AlcoholIntake                 0\n"
     ]
    }
   ],
   "source": [
    "# Finding outliers in numerical values\n",
    "numeric_cols = ['Age', 'BMI', 'PhysicalActivity','AlcoholIntake']\n",
    "\n",
    "outliers_iqr = {}\n",
    "\n",
    "for col in numeric_cols:\n",
    "    Q1 = df[col].quantile(0.25)\n",
    "    Q3 = df[col].quantile(0.75)\n",
    "    IQR = Q3 - Q1\n",
    "    lower_bound = Q1 - 1.5 * IQR\n",
    "    upper_bound = Q3 + 1.5 * IQR\n",
    "\n",
    "    outliers = df[(df[col] < lower_bound) | (df[col] > upper_bound)]\n",
    "    outliers_iqr[col] = len(outliers)\n",
    "\n",
    "print(\"\\nNumerical outliers\")\n",
    "print(pd.DataFrame.from_dict(outliers_iqr, orient='index', columns=['Outlier Count']))\n"
   ]
  },
  {
   "cell_type": "markdown",
   "metadata": {
    "id": "DY8ZSSPKrSBL"
   },
   "source": [
    "* No outliers found in the dataset"
   ]
  },
  {
   "cell_type": "markdown",
   "metadata": {
    "id": "_FgPecOO0lJn"
   },
   "source": [
    "#### Feature Encoding"
   ]
  },
  {
   "cell_type": "code",
   "execution_count": 171,
   "metadata": {
    "colab": {
     "base_uri": "https://localhost:8080/",
     "height": 0
    },
    "executionInfo": {
     "elapsed": 41,
     "status": "ok",
     "timestamp": 1748381350701,
     "user": {
      "displayName": "Darius Govender",
      "userId": "00086672342847538299"
     },
     "user_tz": -120
    },
    "id": "jdzwmfhJx0wG",
    "outputId": "2fe92675-c01b-48d7-c46f-578fc13311f3"
   },
   "outputs": [
    {
     "data": {
      "application/vnd.google.colaboratory.intrinsic+json": {
       "summary": "{\n  \"name\": \"df\",\n  \"rows\": 1500,\n  \"fields\": [\n    {\n      \"column\": \"Age\",\n      \"properties\": {\n        \"dtype\": \"number\",\n        \"std\": 17,\n        \"min\": 20,\n        \"max\": 80,\n        \"num_unique_values\": 61,\n        \"samples\": [\n          58,\n          27,\n          36\n        ],\n        \"semantic_type\": \"\",\n        \"description\": \"\"\n      }\n    },\n    {\n      \"column\": \"Gender\",\n      \"properties\": {\n        \"dtype\": \"number\",\n        \"std\": 0,\n        \"min\": 0,\n        \"max\": 1,\n        \"num_unique_values\": 2,\n        \"samples\": [\n          0,\n          1\n        ],\n        \"semantic_type\": \"\",\n        \"description\": \"\"\n      }\n    },\n    {\n      \"column\": \"BMI\",\n      \"properties\": {\n        \"dtype\": \"number\",\n        \"std\": 7.230012046648454,\n        \"min\": 15.000290868884154,\n        \"max\": 39.95868778482374,\n        \"num_unique_values\": 1500,\n        \"samples\": [\n          30.193803056318064,\n          33.54740817396788\n        ],\n        \"semantic_type\": \"\",\n        \"description\": \"\"\n      }\n    },\n    {\n      \"column\": \"Smoking\",\n      \"properties\": {\n        \"dtype\": \"number\",\n        \"std\": 0,\n        \"min\": 0,\n        \"max\": 1,\n        \"num_unique_values\": 2,\n        \"samples\": [\n          1,\n          0\n        ],\n        \"semantic_type\": \"\",\n        \"description\": \"\"\n      }\n    },\n    {\n      \"column\": \"GeneticRisk\",\n      \"properties\": {\n        \"dtype\": \"number\",\n        \"std\": 0,\n        \"min\": 0,\n        \"max\": 2,\n        \"num_unique_values\": 3,\n        \"samples\": [\n          1,\n          2\n        ],\n        \"semantic_type\": \"\",\n        \"description\": \"\"\n      }\n    },\n    {\n      \"column\": \"PhysicalActivity\",\n      \"properties\": {\n        \"dtype\": \"number\",\n        \"std\": 2.866161989646643,\n        \"min\": 0.0024100468513454,\n        \"max\": 9.994606810596732,\n        \"num_unique_values\": 1500,\n        \"samples\": [\n          7.111218170152859,\n          3.0476091279732573\n        ],\n        \"semantic_type\": \"\",\n        \"description\": \"\"\n      }\n    },\n    {\n      \"column\": \"AlcoholIntake\",\n      \"properties\": {\n        \"dtype\": \"number\",\n        \"std\": 1.4193177721662096,\n        \"min\": 0.0012146721725636,\n        \"max\": 4.9871146952677705,\n        \"num_unique_values\": 1500,\n        \"samples\": [\n          2.770848608055001,\n          2.570403478096366\n        ],\n        \"semantic_type\": \"\",\n        \"description\": \"\"\n      }\n    },\n    {\n      \"column\": \"CancerHistory\",\n      \"properties\": {\n        \"dtype\": \"number\",\n        \"std\": 0,\n        \"min\": 0,\n        \"max\": 1,\n        \"num_unique_values\": 2,\n        \"samples\": [\n          0,\n          1\n        ],\n        \"semantic_type\": \"\",\n        \"description\": \"\"\n      }\n    },\n    {\n      \"column\": \"Diagnosis\",\n      \"properties\": {\n        \"dtype\": \"number\",\n        \"std\": 0,\n        \"min\": 0,\n        \"max\": 1,\n        \"num_unique_values\": 2,\n        \"samples\": [\n          0,\n          1\n        ],\n        \"semantic_type\": \"\",\n        \"description\": \"\"\n      }\n    }\n  ]\n}",
       "type": "dataframe",
       "variable_name": "df"
      },
      "text/html": [
       "\n",
       "  <div id=\"df-d70a47b6-86d7-4a7e-815a-5780ee552d43\" class=\"colab-df-container\">\n",
       "    <div>\n",
       "<style scoped>\n",
       "    .dataframe tbody tr th:only-of-type {\n",
       "        vertical-align: middle;\n",
       "    }\n",
       "\n",
       "    .dataframe tbody tr th {\n",
       "        vertical-align: top;\n",
       "    }\n",
       "\n",
       "    .dataframe thead th {\n",
       "        text-align: right;\n",
       "    }\n",
       "</style>\n",
       "<table border=\"1\" class=\"dataframe\">\n",
       "  <thead>\n",
       "    <tr style=\"text-align: right;\">\n",
       "      <th></th>\n",
       "      <th>Age</th>\n",
       "      <th>Gender</th>\n",
       "      <th>BMI</th>\n",
       "      <th>Smoking</th>\n",
       "      <th>GeneticRisk</th>\n",
       "      <th>PhysicalActivity</th>\n",
       "      <th>AlcoholIntake</th>\n",
       "      <th>CancerHistory</th>\n",
       "      <th>Diagnosis</th>\n",
       "    </tr>\n",
       "  </thead>\n",
       "  <tbody>\n",
       "    <tr>\n",
       "      <th>0</th>\n",
       "      <td>58</td>\n",
       "      <td>1</td>\n",
       "      <td>16.085313</td>\n",
       "      <td>0</td>\n",
       "      <td>1</td>\n",
       "      <td>8.146251</td>\n",
       "      <td>4.148219</td>\n",
       "      <td>1</td>\n",
       "      <td>1</td>\n",
       "    </tr>\n",
       "    <tr>\n",
       "      <th>1</th>\n",
       "      <td>71</td>\n",
       "      <td>0</td>\n",
       "      <td>30.828784</td>\n",
       "      <td>0</td>\n",
       "      <td>1</td>\n",
       "      <td>9.361630</td>\n",
       "      <td>3.519683</td>\n",
       "      <td>0</td>\n",
       "      <td>0</td>\n",
       "    </tr>\n",
       "    <tr>\n",
       "      <th>2</th>\n",
       "      <td>48</td>\n",
       "      <td>1</td>\n",
       "      <td>38.785084</td>\n",
       "      <td>0</td>\n",
       "      <td>2</td>\n",
       "      <td>5.135179</td>\n",
       "      <td>4.728368</td>\n",
       "      <td>0</td>\n",
       "      <td>1</td>\n",
       "    </tr>\n",
       "    <tr>\n",
       "      <th>3</th>\n",
       "      <td>34</td>\n",
       "      <td>0</td>\n",
       "      <td>30.040296</td>\n",
       "      <td>0</td>\n",
       "      <td>0</td>\n",
       "      <td>9.502792</td>\n",
       "      <td>2.044636</td>\n",
       "      <td>0</td>\n",
       "      <td>0</td>\n",
       "    </tr>\n",
       "    <tr>\n",
       "      <th>4</th>\n",
       "      <td>62</td>\n",
       "      <td>1</td>\n",
       "      <td>35.479721</td>\n",
       "      <td>0</td>\n",
       "      <td>0</td>\n",
       "      <td>5.356890</td>\n",
       "      <td>3.309849</td>\n",
       "      <td>0</td>\n",
       "      <td>1</td>\n",
       "    </tr>\n",
       "  </tbody>\n",
       "</table>\n",
       "</div>\n",
       "    <div class=\"colab-df-buttons\">\n",
       "\n",
       "  <div class=\"colab-df-container\">\n",
       "    <button class=\"colab-df-convert\" onclick=\"convertToInteractive('df-d70a47b6-86d7-4a7e-815a-5780ee552d43')\"\n",
       "            title=\"Convert this dataframe to an interactive table.\"\n",
       "            style=\"display:none;\">\n",
       "\n",
       "  <svg xmlns=\"http://www.w3.org/2000/svg\" height=\"24px\" viewBox=\"0 -960 960 960\">\n",
       "    <path d=\"M120-120v-720h720v720H120Zm60-500h600v-160H180v160Zm220 220h160v-160H400v160Zm0 220h160v-160H400v160ZM180-400h160v-160H180v160Zm440 0h160v-160H620v160ZM180-180h160v-160H180v160Zm440 0h160v-160H620v160Z\"/>\n",
       "  </svg>\n",
       "    </button>\n",
       "\n",
       "  <style>\n",
       "    .colab-df-container {\n",
       "      display:flex;\n",
       "      gap: 12px;\n",
       "    }\n",
       "\n",
       "    .colab-df-convert {\n",
       "      background-color: #E8F0FE;\n",
       "      border: none;\n",
       "      border-radius: 50%;\n",
       "      cursor: pointer;\n",
       "      display: none;\n",
       "      fill: #1967D2;\n",
       "      height: 32px;\n",
       "      padding: 0 0 0 0;\n",
       "      width: 32px;\n",
       "    }\n",
       "\n",
       "    .colab-df-convert:hover {\n",
       "      background-color: #E2EBFA;\n",
       "      box-shadow: 0px 1px 2px rgba(60, 64, 67, 0.3), 0px 1px 3px 1px rgba(60, 64, 67, 0.15);\n",
       "      fill: #174EA6;\n",
       "    }\n",
       "\n",
       "    .colab-df-buttons div {\n",
       "      margin-bottom: 4px;\n",
       "    }\n",
       "\n",
       "    [theme=dark] .colab-df-convert {\n",
       "      background-color: #3B4455;\n",
       "      fill: #D2E3FC;\n",
       "    }\n",
       "\n",
       "    [theme=dark] .colab-df-convert:hover {\n",
       "      background-color: #434B5C;\n",
       "      box-shadow: 0px 1px 3px 1px rgba(0, 0, 0, 0.15);\n",
       "      filter: drop-shadow(0px 1px 2px rgba(0, 0, 0, 0.3));\n",
       "      fill: #FFFFFF;\n",
       "    }\n",
       "  </style>\n",
       "\n",
       "    <script>\n",
       "      const buttonEl =\n",
       "        document.querySelector('#df-d70a47b6-86d7-4a7e-815a-5780ee552d43 button.colab-df-convert');\n",
       "      buttonEl.style.display =\n",
       "        google.colab.kernel.accessAllowed ? 'block' : 'none';\n",
       "\n",
       "      async function convertToInteractive(key) {\n",
       "        const element = document.querySelector('#df-d70a47b6-86d7-4a7e-815a-5780ee552d43');\n",
       "        const dataTable =\n",
       "          await google.colab.kernel.invokeFunction('convertToInteractive',\n",
       "                                                    [key], {});\n",
       "        if (!dataTable) return;\n",
       "\n",
       "        const docLinkHtml = 'Like what you see? Visit the ' +\n",
       "          '<a target=\"_blank\" href=https://colab.research.google.com/notebooks/data_table.ipynb>data table notebook</a>'\n",
       "          + ' to learn more about interactive tables.';\n",
       "        element.innerHTML = '';\n",
       "        dataTable['output_type'] = 'display_data';\n",
       "        await google.colab.output.renderOutput(dataTable, element);\n",
       "        const docLink = document.createElement('div');\n",
       "        docLink.innerHTML = docLinkHtml;\n",
       "        element.appendChild(docLink);\n",
       "      }\n",
       "    </script>\n",
       "  </div>\n",
       "\n",
       "\n",
       "    <div id=\"df-3e5d0745-c7cc-4314-9768-20c70c55ca72\">\n",
       "      <button class=\"colab-df-quickchart\" onclick=\"quickchart('df-3e5d0745-c7cc-4314-9768-20c70c55ca72')\"\n",
       "                title=\"Suggest charts\"\n",
       "                style=\"display:none;\">\n",
       "\n",
       "<svg xmlns=\"http://www.w3.org/2000/svg\" height=\"24px\"viewBox=\"0 0 24 24\"\n",
       "     width=\"24px\">\n",
       "    <g>\n",
       "        <path d=\"M19 3H5c-1.1 0-2 .9-2 2v14c0 1.1.9 2 2 2h14c1.1 0 2-.9 2-2V5c0-1.1-.9-2-2-2zM9 17H7v-7h2v7zm4 0h-2V7h2v10zm4 0h-2v-4h2v4z\"/>\n",
       "    </g>\n",
       "</svg>\n",
       "      </button>\n",
       "\n",
       "<style>\n",
       "  .colab-df-quickchart {\n",
       "      --bg-color: #E8F0FE;\n",
       "      --fill-color: #1967D2;\n",
       "      --hover-bg-color: #E2EBFA;\n",
       "      --hover-fill-color: #174EA6;\n",
       "      --disabled-fill-color: #AAA;\n",
       "      --disabled-bg-color: #DDD;\n",
       "  }\n",
       "\n",
       "  [theme=dark] .colab-df-quickchart {\n",
       "      --bg-color: #3B4455;\n",
       "      --fill-color: #D2E3FC;\n",
       "      --hover-bg-color: #434B5C;\n",
       "      --hover-fill-color: #FFFFFF;\n",
       "      --disabled-bg-color: #3B4455;\n",
       "      --disabled-fill-color: #666;\n",
       "  }\n",
       "\n",
       "  .colab-df-quickchart {\n",
       "    background-color: var(--bg-color);\n",
       "    border: none;\n",
       "    border-radius: 50%;\n",
       "    cursor: pointer;\n",
       "    display: none;\n",
       "    fill: var(--fill-color);\n",
       "    height: 32px;\n",
       "    padding: 0;\n",
       "    width: 32px;\n",
       "  }\n",
       "\n",
       "  .colab-df-quickchart:hover {\n",
       "    background-color: var(--hover-bg-color);\n",
       "    box-shadow: 0 1px 2px rgba(60, 64, 67, 0.3), 0 1px 3px 1px rgba(60, 64, 67, 0.15);\n",
       "    fill: var(--button-hover-fill-color);\n",
       "  }\n",
       "\n",
       "  .colab-df-quickchart-complete:disabled,\n",
       "  .colab-df-quickchart-complete:disabled:hover {\n",
       "    background-color: var(--disabled-bg-color);\n",
       "    fill: var(--disabled-fill-color);\n",
       "    box-shadow: none;\n",
       "  }\n",
       "\n",
       "  .colab-df-spinner {\n",
       "    border: 2px solid var(--fill-color);\n",
       "    border-color: transparent;\n",
       "    border-bottom-color: var(--fill-color);\n",
       "    animation:\n",
       "      spin 1s steps(1) infinite;\n",
       "  }\n",
       "\n",
       "  @keyframes spin {\n",
       "    0% {\n",
       "      border-color: transparent;\n",
       "      border-bottom-color: var(--fill-color);\n",
       "      border-left-color: var(--fill-color);\n",
       "    }\n",
       "    20% {\n",
       "      border-color: transparent;\n",
       "      border-left-color: var(--fill-color);\n",
       "      border-top-color: var(--fill-color);\n",
       "    }\n",
       "    30% {\n",
       "      border-color: transparent;\n",
       "      border-left-color: var(--fill-color);\n",
       "      border-top-color: var(--fill-color);\n",
       "      border-right-color: var(--fill-color);\n",
       "    }\n",
       "    40% {\n",
       "      border-color: transparent;\n",
       "      border-right-color: var(--fill-color);\n",
       "      border-top-color: var(--fill-color);\n",
       "    }\n",
       "    60% {\n",
       "      border-color: transparent;\n",
       "      border-right-color: var(--fill-color);\n",
       "    }\n",
       "    80% {\n",
       "      border-color: transparent;\n",
       "      border-right-color: var(--fill-color);\n",
       "      border-bottom-color: var(--fill-color);\n",
       "    }\n",
       "    90% {\n",
       "      border-color: transparent;\n",
       "      border-bottom-color: var(--fill-color);\n",
       "    }\n",
       "  }\n",
       "</style>\n",
       "\n",
       "      <script>\n",
       "        async function quickchart(key) {\n",
       "          const quickchartButtonEl =\n",
       "            document.querySelector('#' + key + ' button');\n",
       "          quickchartButtonEl.disabled = true;  // To prevent multiple clicks.\n",
       "          quickchartButtonEl.classList.add('colab-df-spinner');\n",
       "          try {\n",
       "            const charts = await google.colab.kernel.invokeFunction(\n",
       "                'suggestCharts', [key], {});\n",
       "          } catch (error) {\n",
       "            console.error('Error during call to suggestCharts:', error);\n",
       "          }\n",
       "          quickchartButtonEl.classList.remove('colab-df-spinner');\n",
       "          quickchartButtonEl.classList.add('colab-df-quickchart-complete');\n",
       "        }\n",
       "        (() => {\n",
       "          let quickchartButtonEl =\n",
       "            document.querySelector('#df-3e5d0745-c7cc-4314-9768-20c70c55ca72 button');\n",
       "          quickchartButtonEl.style.display =\n",
       "            google.colab.kernel.accessAllowed ? 'block' : 'none';\n",
       "        })();\n",
       "      </script>\n",
       "    </div>\n",
       "\n",
       "    </div>\n",
       "  </div>\n"
      ],
      "text/plain": [
       "   Age  Gender        BMI  Smoking  GeneticRisk  PhysicalActivity  \\\n",
       "0   58       1  16.085313        0            1          8.146251   \n",
       "1   71       0  30.828784        0            1          9.361630   \n",
       "2   48       1  38.785084        0            2          5.135179   \n",
       "3   34       0  30.040296        0            0          9.502792   \n",
       "4   62       1  35.479721        0            0          5.356890   \n",
       "\n",
       "   AlcoholIntake  CancerHistory  Diagnosis  \n",
       "0       4.148219              1          1  \n",
       "1       3.519683              0          0  \n",
       "2       4.728368              0          1  \n",
       "3       2.044636              0          0  \n",
       "4       3.309849              0          1  "
      ]
     },
     "execution_count": 171,
     "metadata": {},
     "output_type": "execute_result"
    }
   ],
   "source": [
    "df.head()"
   ]
  },
  {
   "cell_type": "markdown",
   "metadata": {
    "id": "TBF_qE_V1CVc"
   },
   "source": [
    "* The dataset is already preprocessed and not ferature encoding is needed."
   ]
  },
  {
   "cell_type": "markdown",
   "metadata": {
    "id": "BND2lMnd0tIo"
   },
   "source": [
    "#### Idenify class imbalance"
   ]
  },
  {
   "cell_type": "code",
   "execution_count": 172,
   "metadata": {
    "colab": {
     "base_uri": "https://localhost:8080/",
     "height": 0
    },
    "executionInfo": {
     "elapsed": 66,
     "status": "ok",
     "timestamp": 1748381350893,
     "user": {
      "displayName": "Darius Govender",
      "userId": "00086672342847538299"
     },
     "user_tz": -120
    },
    "id": "MTn1bbfm1Zuo",
    "outputId": "08582fa7-4960-4c1a-8ac2-0ddd646444a4"
   },
   "outputs": [
    {
     "data": {
      "text/html": [
       "<div>\n",
       "<style scoped>\n",
       "    .dataframe tbody tr th:only-of-type {\n",
       "        vertical-align: middle;\n",
       "    }\n",
       "\n",
       "    .dataframe tbody tr th {\n",
       "        vertical-align: top;\n",
       "    }\n",
       "\n",
       "    .dataframe thead th {\n",
       "        text-align: right;\n",
       "    }\n",
       "</style>\n",
       "<table border=\"1\" class=\"dataframe\">\n",
       "  <thead>\n",
       "    <tr style=\"text-align: right;\">\n",
       "      <th></th>\n",
       "      <th>proportion</th>\n",
       "    </tr>\n",
       "    <tr>\n",
       "      <th>Diagnosis</th>\n",
       "      <th></th>\n",
       "    </tr>\n",
       "  </thead>\n",
       "  <tbody>\n",
       "    <tr>\n",
       "      <th>0</th>\n",
       "      <td>62.866667</td>\n",
       "    </tr>\n",
       "    <tr>\n",
       "      <th>1</th>\n",
       "      <td>37.133333</td>\n",
       "    </tr>\n",
       "  </tbody>\n",
       "</table>\n",
       "</div><br><label><b>dtype:</b> float64</label>"
      ],
      "text/plain": [
       "Diagnosis\n",
       "0    62.866667\n",
       "1    37.133333\n",
       "Name: proportion, dtype: float64"
      ]
     },
     "execution_count": 172,
     "metadata": {},
     "output_type": "execute_result"
    }
   ],
   "source": [
    "df['Diagnosis'].value_counts(normalize=True) * 100"
   ]
  },
  {
   "cell_type": "markdown",
   "metadata": {
    "id": "ruwtdNEm6kUx"
   },
   "source": [
    "* The dataset is balanced since the split is within the range of the imbalance  thereold of 70%/30%.\n"
   ]
  },
  {
   "cell_type": "markdown",
   "metadata": {
    "id": "8S2s9OEs0x4w"
   },
   "source": [
    "### 4. Exploratory Data Analysis (EDA)"
   ]
  },
  {
   "cell_type": "markdown",
   "metadata": {
    "id": "wsmHcZjwC4au"
   },
   "source": [
    "#### Univariate Analysis"
   ]
  },
  {
   "cell_type": "markdown",
   "metadata": {
    "id": "S7ETUyAqxv0Y"
   },
   "source": [
    "##### Numerical Features"
   ]
  },
  {
   "cell_type": "code",
   "execution_count": 173,
   "metadata": {
    "colab": {
     "base_uri": "https://localhost:8080/",
     "height": 0
    },
    "executionInfo": {
     "elapsed": 1944,
     "status": "ok",
     "timestamp": 1748381356136,
     "user": {
      "displayName": "Darius Govender",
      "userId": "00086672342847538299"
     },
     "user_tz": -120
    },
    "id": "S42MhCpmxl7y",
    "outputId": "879235bc-da08-462a-b347-f6e1995d155d"
   },
   "outputs": [
    {
     "data": {
      "image/png": "[encoded data removed]",
      "text/plain": [
       "<Figure size 1500x1000 with 4 Axes>"
      ]
     },
     "metadata": {},
     "output_type": "display_data"
    },
    {
     "name": "stdout",
     "output_type": "stream",
     "text": [
      "\n",
      "\u001b[1mDESCRIPTIVE STATISTICS:\u001b[0m\n",
      "\n",
      "\u001b[1mAGE:\u001b[0m\n",
      "count    1500.000000\n",
      "mean       50.320000\n",
      "std        17.640968\n",
      "min        20.000000\n",
      "25%        35.000000\n",
      "50%        51.000000\n",
      "75%        66.000000\n",
      "max        80.000000\n",
      "\n",
      "\u001b[1mBMI:\u001b[0m\n",
      "count    1500.000000\n",
      "mean       27.513321\n",
      "std         7.230012\n",
      "min        15.000291\n",
      "25%        21.483134\n",
      "50%        27.598494\n",
      "75%        33.850837\n",
      "max        39.958688\n",
      "\n",
      "\u001b[1mPHYSICALACTIVITY:\u001b[0m\n",
      "count    1500.000000\n",
      "mean        4.897929\n",
      "std         2.866162\n",
      "min         0.002410\n",
      "25%         2.434609\n",
      "50%         4.834316\n",
      "75%         7.409896\n",
      "max         9.994607\n",
      "\n",
      "\u001b[1mALCOHOLINTAKE:\u001b[0m\n",
      "count    1500.000000\n",
      "mean        2.417987\n",
      "std         1.419318\n",
      "min         0.001215\n",
      "25%         1.210598\n",
      "50%         2.382971\n",
      "75%         3.585624\n",
      "max         4.987115\n"
     ]
    }
   ],
   "source": [
    "# Set up the figure\n",
    "plt.figure(figsize=(15, 10))\n",
    "\n",
    "# ======================\n",
    "# 1. Age (Continuous)\n",
    "# ======================\n",
    "plt.subplot(2, 2, 1)\n",
    "sns.histplot(df['Age'], kde=True, color='skyblue', bins=20)\n",
    "plt.title('Age Distribution', pad=20)\n",
    "plt.xlabel('Age (years)')\n",
    "plt.ylabel('Frequency')\n",
    "\n",
    "# ======================\n",
    "# 2. BMI (Continuous)\n",
    "# ======================\n",
    "plt.subplot(2, 2, 2)\n",
    "sns.histplot(df['BMI'], kde=True, color='salmon', bins=20)\n",
    "plt.title('BMI Distribution', pad=20)\n",
    "plt.xlabel('Body Mass Index')\n",
    "plt.ylabel('Frequency')\n",
    "\n",
    "# ======================\n",
    "# 3. Physical Activity (Continuous)\n",
    "# ======================\n",
    "plt.subplot(2, 2, 3)\n",
    "sns.histplot(df['PhysicalActivity'], kde=True, color='lightgreen', bins=15)\n",
    "plt.title('Physical Activity Distribution', pad=20)\n",
    "plt.xlabel('Hours per week')\n",
    "plt.ylabel('Frequency')\n",
    "\n",
    "# ======================\n",
    "# 4. Alcohol Intake (Continuous)\n",
    "# ======================\n",
    "plt.subplot(2, 2, 4)\n",
    "sns.histplot(df['AlcoholIntake'], kde=True, color='gold', bins=15)\n",
    "plt.title('Alcohol Intake Distribution', pad=20)\n",
    "plt.xlabel('Units per week')\n",
    "plt.ylabel('Frequency')\n",
    "\n",
    "plt.tight_layout(pad=3.0)\n",
    "plt.show()\n",
    "\n",
    "# ======================\n",
    "# Descriptive Statistics\n",
    "# ======================\n",
    "print(\"\\n\\033[1mDESCRIPTIVE STATISTICS:\\033[0m\")\n",
    "for col in ['Age', 'BMI', 'PhysicalActivity', 'AlcoholIntake']:\n",
    "    print(f\"\\n\\033[1m{col.upper()}:\\033[0m\")\n",
    "    print(df[col].describe().to_string())"
   ]
  },
  {
   "cell_type": "markdown",
   "metadata": {
    "id": "gtj9RZGYBzgO"
   },
   "source": [
    "* Age: Normally distributed (mean=50.3) with patients ranging from 20-80 years, representing a typical adult population.\n",
    "\n",
    "* BMI: Slightly right-skewed (mean=27.5), showing most patients are overweight (25-30 BMI range) with some extremes (15-40).\n",
    "\n",
    "* PhysicalActivity: Bimodal distribution (mean=4.9 hrs/week), suggesting distinct groups of active and non-active patients.\n",
    "\n",
    "* AlcoholIntake: Right-skewed (mean=2.4 units/week), with most patients showing moderate consumption below recommended limits."
   ]
  },
  {
   "cell_type": "markdown",
   "metadata": {
    "id": "980QspsGyN1U"
   },
   "source": [
    "##### Categorical/Binary Features"
   ]
  },
  {
   "cell_type": "code",
   "execution_count": 174,
   "metadata": {
    "colab": {
     "base_uri": "https://localhost:8080/",
     "height": 0
    },
    "executionInfo": {
     "elapsed": 1601,
     "status": "ok",
     "timestamp": 1748381357741,
     "user": {
      "displayName": "Darius Govender",
      "userId": "00086672342847538299"
     },
     "user_tz": -120
    },
    "id": "AIJFbINeyNTk",
    "outputId": "63877773-f218-41d8-d96d-7cf2004f607e"
   },
   "outputs": [
    {
     "name": "stderr",
     "output_type": "stream",
     "text": [
      "<ipython-input-174-ad6e8a028da4>:7: FutureWarning: \n",
      "\n",
      "Passing `palette` without assigning `hue` is deprecated and will be removed in v0.14.0. Assign the `x` variable to `hue` and set `legend=False` for the same effect.\n",
      "\n",
      "  sns.countplot(x='Gender', data=df, palette='pastel')\n",
      "<ipython-input-174-ad6e8a028da4>:16: FutureWarning: \n",
      "\n",
      "Passing `palette` without assigning `hue` is deprecated and will be removed in v0.14.0. Assign the `x` variable to `hue` and set `legend=False` for the same effect.\n",
      "\n",
      "  sns.countplot(x='Smoking', data=df, palette='Set2')\n",
      "<ipython-input-174-ad6e8a028da4>:25: FutureWarning: \n",
      "\n",
      "Passing `palette` without assigning `hue` is deprecated and will be removed in v0.14.0. Assign the `x` variable to `hue` and set `legend=False` for the same effect.\n",
      "\n",
      "  sns.countplot(x='GeneticRisk', data=df, palette='husl', order=[0, 1, 2])\n",
      "<ipython-input-174-ad6e8a028da4>:34: FutureWarning: \n",
      "\n",
      "Passing `palette` without assigning `hue` is deprecated and will be removed in v0.14.0. Assign the `x` variable to `hue` and set `legend=False` for the same effect.\n",
      "\n",
      "  sns.countplot(x='CancerHistory', data=df, palette='coolwarm')\n",
      "<ipython-input-174-ad6e8a028da4>:43: FutureWarning: \n",
      "\n",
      "Passing `palette` without assigning `hue` is deprecated and will be removed in v0.14.0. Assign the `x` variable to `hue` and set `legend=False` for the same effect.\n",
      "\n",
      "  sns.countplot(x='Diagnosis', data=df, palette='viridis')\n"
     ]
    },
    {
     "data": {
      "image/png": "[encoded data removed]",
      "text/plain": [
       "<Figure size 1500x1000 with 5 Axes>"
      ]
     },
     "metadata": {},
     "output_type": "display_data"
    },
    {
     "name": "stdout",
     "output_type": "stream",
     "text": [
      "\n",
      "\u001b[1mGender:\u001b[0m\n",
      "Gender\n",
      "0    764\n",
      "1    736\n",
      "\n",
      "\u001b[1mSmoking:\u001b[0m\n",
      "Smoking\n",
      "0    1096\n",
      "1     404\n",
      "\n",
      "\u001b[1mCancerHistory:\u001b[0m\n",
      "CancerHistory\n",
      "0    1284\n",
      "1     216\n",
      "\n",
      "\u001b[1mDiagnosis:\u001b[0m\n",
      "Diagnosis\n",
      "0    943\n",
      "1    557\n",
      "\n",
      "\u001b[1mGeneticRisk:\u001b[0m\n",
      "GeneticRisk\n",
      "0    895\n",
      "1    447\n",
      "2    158\n"
     ]
    }
   ],
   "source": [
    "plt.figure(figsize=(15, 10))\n",
    "\n",
    "# ======================\n",
    "# 1. Gender (Categorical)\n",
    "# ======================\n",
    "plt.subplot(2, 3, 1)\n",
    "sns.countplot(x='Gender', data=df, palette='pastel')\n",
    "plt.title('Gender Distribution (0=Male, 1=Female)', pad=20)\n",
    "plt.xlabel('Gender')\n",
    "plt.ylabel('Count')\n",
    "\n",
    "# ======================\n",
    "# 2. Smoking (Categorical)\n",
    "# ======================\n",
    "plt.subplot(2, 3, 2)\n",
    "sns.countplot(x='Smoking', data=df, palette='Set2')\n",
    "plt.title('Smoking Distribution (0=No, 1=Yes)', pad=20)\n",
    "plt.xlabel('Smoking Status')\n",
    "plt.ylabel('Count')\n",
    "\n",
    "# ======================\n",
    "# 3. Genetic Risk (Categorical)\n",
    "# ======================\n",
    "plt.subplot(2, 3, 3)\n",
    "sns.countplot(x='GeneticRisk', data=df, palette='husl', order=[0, 1, 2])\n",
    "plt.title('Genetic Risk Distribution (0=Low, 1=Medium, 2=High)', pad=20)\n",
    "plt.xlabel('Genetic Risk Level')\n",
    "plt.ylabel('Count')\n",
    "\n",
    "# ======================\n",
    "# 4. Cancer History (Categorical)\n",
    "# ======================\n",
    "plt.subplot(2, 3, 4)\n",
    "sns.countplot(x='CancerHistory', data=df, palette='coolwarm')\n",
    "plt.title('Cancer History Distribution (0=No, 1=Yes)', pad=20)\n",
    "plt.xlabel('Cancer History')\n",
    "plt.ylabel('Count')\n",
    "\n",
    "plt.tight_layout(pad=3.0)\n",
    "plt.show()\n",
    "\n",
    "\n",
    "binary_features = ['Gender', 'Smoking', 'CancerHistory', 'GeneticRisk']\n",
    "\n",
    "for feature in binary_features:\n",
    "    print(f\"\\n\\033[1m{feature}:\\033[0m\")\n",
    "    print(df[feature].value_counts().sort_index().to_string())"
   ]
  },
  {
   "cell_type": "markdown",
   "metadata": {
    "id": "8_k25lIcDE0o"
   },
   "source": [
    "* Gender: Nearly balanced distribution (764 Male, 736 Female) showing equal representation of both genders in the dataset.\n",
    "\n",
    "* Smoking: Majority non-smokers (1096 vs 404 smokers) indicating smoking is a less common risk factor in this population.\n",
    "\n",
    "* GeneticRisk: Most patients have low genetic risk (895), with decreasing numbers for medium (447) and high risk (158).\n",
    "\n",
    "* CancerHistory: Fewer patients have prior cancer history (216 vs 1284), suggesting most cases are new diagnoses."
   ]
  },
  {
   "cell_type": "markdown",
   "metadata": {
    "id": "fA2V6Wt8Mq_y"
   },
   "source": [
    "####  Bivariate Analysis"
   ]
  },
  {
   "cell_type": "markdown",
   "metadata": {
    "id": "5yPJ5XQRLhrs"
   },
   "source": [
    "##### Numerical Features"
   ]
  },
  {
   "cell_type": "code",
   "execution_count": 175,
   "metadata": {
    "colab": {
     "base_uri": "https://localhost:8080/",
     "height": 0
    },
    "executionInfo": {
     "elapsed": 292,
     "status": "ok",
     "timestamp": 1748381358055,
     "user": {
      "displayName": "Darius Govender",
      "userId": "00086672342847538299"
     },
     "user_tz": -120
    },
    "id": "YMbMxtj7Lgwl",
    "outputId": "095ffc14-72c9-4094-f622-1a28eee414cc"
   },
   "outputs": [
    {
     "data": {
      "image/png": "[encoded data removed]",
      "text/plain": [
       "<Figure size 1500x1000 with 4 Axes>"
      ]
     },
     "metadata": {},
     "output_type": "display_data"
    }
   ],
   "source": [
    "# Plot distributions for numerical features\n",
    "num_cols = ['Age', 'BMI', 'PhysicalActivity', 'AlcoholIntake']\n",
    "\n",
    "plt.figure(figsize=(15, 10))\n",
    "for i, col in enumerate(num_cols, 1):\n",
    "    plt.subplot(2, 2, i)\n",
    "    sns.boxplot(x='Diagnosis', y=col, data=df)\n",
    "    plt.title(f'{col} vs Diagnosis')\n",
    "plt.tight_layout()\n",
    "plt.show()"
   ]
  },
  {
   "cell_type": "markdown",
   "metadata": {
    "id": "mQdXsVd_d3jw"
   },
   "source": [
    "* **Age vs Diagnosis:** Younger patients (20-40) show lower cancer prevalence, while risk increases with age (peaking around 40+ years)\n",
    "\n",
    "* **BMI vs Diagnosis:** Higher BMI (25+) correlates with increased cancer diagnoses, suggesting obesity may be a risk factor\n",
    "\n",
    "* **PhysicalActivity vs Diagnosis:** Lower physical activity levels (0-5 hrs/week) associate with higher cancer rates (Diagnosis=1)\n",
    "\n",
    "* **AlcoholIntake vs Diagnosis:** Cancer cases (Diagnosis=1) cluster around higher alcohol consumption (3+ units/week)"
   ]
  },
  {
   "cell_type": "markdown",
   "metadata": {
    "id": "A8ht8Mj_Lkhs"
   },
   "source": [
    "##### Categorical Features\n"
   ]
  },
  {
   "cell_type": "code",
   "execution_count": 176,
   "metadata": {
    "colab": {
     "base_uri": "https://localhost:8080/",
     "height": 0
    },
    "executionInfo": {
     "elapsed": 1089,
     "status": "ok",
     "timestamp": 1748381359154,
     "user": {
      "displayName": "Darius Govender",
      "userId": "00086672342847538299"
     },
     "user_tz": -120
    },
    "id": "OqTXIWJBWjqP",
    "outputId": "181b2719-fd59-42d1-ec59-e20d6306e709"
   },
   "outputs": [
    {
     "data": {
      "image/png": "[encoded data removed]",
      "text/plain": [
       "<Figure size 1500x1000 with 4 Axes>"
      ]
     },
     "metadata": {},
     "output_type": "display_data"
    }
   ],
   "source": [
    "cat_cols = ['Gender', 'Smoking', 'GeneticRisk', 'CancerHistory']\n",
    "\n",
    "plt.figure(figsize=(15, 10))\n",
    "for i, col in enumerate(cat_cols, 1):\n",
    "    plt.subplot(2, 3, i)\n",
    "    sns.countplot(x=col, hue='Diagnosis', data=df)\n",
    "    plt.title(f'{col} vs Diagnosis')\n",
    "plt.tight_layout()\n",
    "plt.show()"
   ]
  },
  {
   "cell_type": "markdown",
   "metadata": {
    "id": "bYlHm2_gnIlf"
   },
   "source": [
    "* **Gender**: Females have a higher proportion of cancer diagnoses compared to males.\n",
    "\n",
    "* **Smoking**: Smokers are more likely to be diagnosed with cancer than non-smokers.\n",
    "\n",
    "* **GeneticRisk**: Higher genetic risk levels are strongly associated with increased cancer diagnoses.\n",
    "\n",
    "* **CancerHistory**: Individuals with a cancer history are significantly more likely to be diagnosed with cancer."
   ]
  },
  {
   "cell_type": "markdown",
   "metadata": {
    "id": "i3IgbrcdGh4_"
   },
   "source": [
    "##### Correlation Analysis"
   ]
  },
  {
   "cell_type": "code",
   "execution_count": 177,
   "metadata": {
    "colab": {
     "base_uri": "https://localhost:8080/",
     "height": 0
    },
    "executionInfo": {
     "elapsed": 887,
     "status": "ok",
     "timestamp": 1748381360065,
     "user": {
      "displayName": "Darius Govender",
      "userId": "00086672342847538299"
     },
     "user_tz": -120
    },
    "id": "VMY9vc0Too8L",
    "outputId": "b365fae1-4273-4ebe-ccee-1d47523f0ab9"
   },
   "outputs": [
    {
     "data": {
      "image/png": "[encoded data removed]",
      "text/plain": [
       "<Figure size 1000x800 with 2 Axes>"
      ]
     },
     "metadata": {},
     "output_type": "display_data"
    }
   ],
   "source": [
    "corr = df.corr()\n",
    "\n",
    "plt.figure(figsize=(10, 8))\n",
    "sns.heatmap(corr, annot=True, cmap='coolwarm', center=0)\n",
    "plt.show()"
   ]
  },
  {
   "cell_type": "markdown",
   "metadata": {
    "id": "2995THuyr9Un"
   },
   "source": [
    "* **CancerHistory** (0.39) shows the strongest positive correlation with Diagnosis, indicating it is a key factor.\n",
    "\n",
    "* **Gender**, **GeneticRisk** (each 0.25) and Smoking (0.23) also have moderate positive correlations with Diagnosis.\n",
    "\n",
    "* **Age** (0.20), **BMI** (0.19), and **AlcoholIntake** (0.21) show weaker positive correlations.\n",
    "\n",
    "* **PhysicalActivity** (-0.15) has a weak negative correlation, suggesting higher activity slightly lowers cancer risk."
   ]
  },
  {
   "cell_type": "markdown",
   "metadata": {
    "id": "Rf6i1albhnEZ"
   },
   "source": [
    "##### Multicollinearity Check"
   ]
  },
  {
   "cell_type": "code",
   "execution_count": 178,
   "metadata": {
    "colab": {
     "base_uri": "https://localhost:8080/"
    },
    "executionInfo": {
     "elapsed": 121,
     "status": "ok",
     "timestamp": 1748381360205,
     "user": {
      "displayName": "Darius Govender",
      "userId": "00086672342847538299"
     },
     "user_tz": -120
    },
    "id": "Wt0UzsKIhoDw",
    "outputId": "5ec25339-a213-48da-cc4a-31726580b014"
   },
   "outputs": [
    {
     "name": "stdout",
     "output_type": "stream",
     "text": [
      "VIF score: \n",
      "            features       VIF\n",
      "0               Age  6.919515\n",
      "1            Gender  1.912233\n",
      "2               BMI  8.545902\n",
      "3           Smoking  1.349765\n",
      "4       GeneticRisk  1.525967\n",
      "5  PhysicalActivity  3.614549\n",
      "6     AlcoholIntake  3.590933\n",
      "7     CancerHistory  1.168166\n"
     ]
    }
   ],
   "source": [
    "X_column = df.drop('Diagnosis', axis=1)\n",
    "\n",
    "vif_data = pd.DataFrame()\n",
    "vif_data[\"features\"] = X_column.columns\n",
    "vif_data[\"VIF\"] = [variance_inflation_factor(X_column.values, i) for i in range(X_column.shape[1])]\n",
    "print(\"VIF score: \\n\", vif_data)"
   ]
  },
  {
   "cell_type": "markdown",
   "metadata": {
    "id": "lQzNX-UxVzM7"
   },
   "source": [
    "Since all VIF values are lower than 10 this means that the multicollinearity is not extreme and does not have to be handled. A note to take is that Age and BMI have higher VIF suggest that maybe a combination of features are causing this."
   ]
  },
  {
   "cell_type": "markdown",
   "metadata": {
    "id": "ucStGOCSMsuc"
   },
   "source": [
    "#### Feature Selection"
   ]
  },
  {
   "cell_type": "code",
   "execution_count": 214,
   "metadata": {
    "colab": {
     "base_uri": "https://localhost:8080/"
    },
    "executionInfo": {
     "elapsed": 93,
     "status": "ok",
     "timestamp": 1748383939560,
     "user": {
      "displayName": "Darius Govender",
      "userId": "00086672342847538299"
     },
     "user_tz": -120
    },
    "id": "wTjYCstJynKS",
    "outputId": "78d67a20-a4f5-42e8-897e-0eae41781b7a"
   },
   "outputs": [
    {
     "name": "stdout",
     "output_type": "stream",
     "text": [
      "T-tests for numerical features:\n",
      "Age: p-value = 1.552194493526227e-14\n",
      "BMI: p-value = 2.421387282341022e-13\n",
      "PhysicalActivity: p-value = 5.183260180323288e-09\n",
      "AlcoholIntake: p-value = 8.131718342826579e-17\n",
      "\n",
      "Chi-square tests for categorical features:\n",
      "Gender: p-value = 5.3132575921938845e-22\n",
      "Smoking: p-value = 2.5154945727364104e-18\n",
      "GeneticRisk: p-value = 4.390123801444167e-37\n",
      "CancerHistory: p-value = 1.324116206890441e-51\n"
     ]
    }
   ],
   "source": [
    "# For numerical features\n",
    "print(\"T-tests for numerical features:\")\n",
    "for col in num_cols:\n",
    "    group1 = df[df['Diagnosis'] == 0][col]\n",
    "    group2 = df[df['Diagnosis'] == 1][col]\n",
    "    t_stat, p_val = ttest_ind(group1, group2)\n",
    "    print(f\"{col}: p-value = {p_val}\")\n",
    "\n",
    "# For categorical features\n",
    "print(\"\\nChi-square tests for categorical features:\")\n",
    "for col in ['Gender', 'Smoking', 'GeneticRisk', 'CancerHistory']:\n",
    "    contingency_table = pd.crosstab(df[col], df['Diagnosis'])\n",
    "    chi2, p_val, dof, expected = chi2_contingency(contingency_table)\n",
    "    print(f\"{col}: p-value = {p_val}\")"
   ]
  },
  {
   "cell_type": "markdown",
   "metadata": {
    "id": "g-zFwxEs4_0I"
   },
   "source": [
    "* All p-values are less that 0.05 this means that all features have a high significanence in distinguishing between the two groups. This is backed by domain knowledge, According to Virginia Commonwealth University (2025),  all of these features Age, Gender, BMI, Smoking, GeneticRisk, PhysicalActivity, AlcoholIntake, and  CancerHistory have a strong influence on the likelihood of cancer outcomes.\n",
    "* Features like **CancerHistory** and **GeneticRisk** have the lowest p-values, meaning they are the strongest in distinguishing between the two groups. Other features taht show high promise are **Age**, **BMI**, **AlcoholIntake**, and **Smoking**."
   ]
  },
  {
   "cell_type": "code",
   "execution_count": 211,
   "metadata": {
    "colab": {
     "base_uri": "https://localhost:8080/"
    },
    "executionInfo": {
     "elapsed": 102,
     "status": "ok",
     "timestamp": 1748383725835,
     "user": {
      "displayName": "Darius Govender",
      "userId": "00086672342847538299"
     },
     "user_tz": -120
    },
    "id": "sFXlBs8JBPII",
    "outputId": "17bc4af8-d85b-461f-991f-a2468412bf42"
   },
   "outputs": [
    {
     "name": "stdout",
     "output_type": "stream",
     "text": [
      "           Features     F-Score\n",
      "7     CancerHistory  272.290765\n",
      "4       GeneticRisk  102.851514\n",
      "1            Gender  100.153161\n",
      "3           Smoking   81.383210\n",
      "6     AlcoholIntake   71.033153\n",
      "0               Age   60.229806\n",
      "2               BMI   54.619194\n",
      "5  PhysicalActivity   34.522534\n"
     ]
    }
   ],
   "source": [
    "X = df.drop('Diagnosis', axis=1)\n",
    "y = df['Diagnosis']\n",
    "\n",
    "# Calculate F-scores\n",
    "f_scores, _ = f_classif(X, y)\n",
    "\n",
    "# Create a DataFrame for a better display\n",
    "anova_df = pd.DataFrame({'Features': X.columns,'F-Score': f_scores}).sort_values('F-Score', ascending=False)\n",
    "\n",
    "print(anova_df)"
   ]
  },
  {
   "cell_type": "markdown",
   "metadata": {
    "id": "CGtGyOH6-n4e"
   },
   "source": [
    "* Very strong predictor: Patients with prior **cancer history** are more likely to be diagnosed with cancer again\n",
    "* Very strong predictor: Patients with higher **genetic risk** are more likely to be diagnosed with cancer again.\n",
    "* Good predictor: Patients who **smoke** are more likely to be diagnosed with cancer again.\n"
   ]
  },
  {
   "cell_type": "markdown",
   "metadata": {
    "id": "DGCUSKdjLcB7"
   },
   "source": [
    "##### Results of feature selection"
   ]
  },
  {
   "cell_type": "markdown",
   "metadata": {
    "id": "5MTEUSRRLgW2"
   },
   "source": [
    "* Based all univariate analysis, bivariate analysis and statistical tests preformed it is determined that all features have value and should not be removed."
   ]
  },
  {
   "cell_type": "markdown",
   "metadata": {
    "id": "X7v7UEIG-bKx"
   },
   "source": [
    "### Step 5: Modelling\n"
   ]
  },
  {
   "cell_type": "markdown",
   "metadata": {
    "id": "77kwww0poQIQ"
   },
   "source": [
    "Seperate dataset into the predictor variables and the target variables"
   ]
  },
  {
   "cell_type": "code",
   "execution_count": 181,
   "metadata": {
    "executionInfo": {
     "elapsed": 11,
     "status": "ok",
     "timestamp": 1748381361453,
     "user": {
      "displayName": "Darius Govender",
      "userId": "00086672342847538299"
     },
     "user_tz": -120
    },
    "id": "3TD3l4D4g5X6"
   },
   "outputs": [],
   "source": [
    "X = df.drop('Diagnosis', axis=1)\n",
    "y = df['Diagnosis']"
   ]
  },
  {
   "cell_type": "code",
   "execution_count": 182,
   "metadata": {
    "colab": {
     "base_uri": "https://localhost:8080/"
    },
    "executionInfo": {
     "elapsed": 45,
     "status": "ok",
     "timestamp": 1748381364582,
     "user": {
      "displayName": "Darius Govender",
      "userId": "00086672342847538299"
     },
     "user_tz": -120
    },
    "id": "dX_1jzvmjaQe",
    "outputId": "68d250e7-afce-4cca-ce5c-45797a49a595"
   },
   "outputs": [
    {
     "name": "stdout",
     "output_type": "stream",
     "text": [
      "X= (1500, 8) \n",
      "y= (1500,)\n"
     ]
    }
   ],
   "source": [
    "print(\"X=\",X.shape,\"\\ny=\", y.shape)"
   ]
  },
  {
   "cell_type": "markdown",
   "metadata": {
    "id": "UVI3BejIvMEn"
   },
   "source": [
    "Splits data into test and training datasets, follows 80-20 rule"
   ]
  },
  {
   "cell_type": "code",
   "execution_count": 183,
   "metadata": {
    "executionInfo": {
     "elapsed": 159,
     "status": "ok",
     "timestamp": 1748381366971,
     "user": {
      "displayName": "Darius Govender",
      "userId": "00086672342847538299"
     },
     "user_tz": -120
    },
    "id": "fEh81hx-jls_"
   },
   "outputs": [],
   "source": [
    "X_train, X_test, y_train, y_test = train_test_split(X, y, test_size=0.2, random_state=42)"
   ]
  },
  {
   "cell_type": "code",
   "execution_count": 184,
   "metadata": {
    "executionInfo": {
     "elapsed": 40,
     "status": "ok",
     "timestamp": 1748381368250,
     "user": {
      "displayName": "Darius Govender",
      "userId": "00086672342847538299"
     },
     "user_tz": -120
    },
    "id": "OgFZza-HvVV-"
   },
   "outputs": [],
   "source": [
    "scaler = StandardScaler() ## initialise scaler"
   ]
  },
  {
   "cell_type": "code",
   "execution_count": 185,
   "metadata": {
    "executionInfo": {
     "elapsed": 130,
     "status": "ok",
     "timestamp": 1748381369463,
     "user": {
      "displayName": "Darius Govender",
      "userId": "00086672342847538299"
     },
     "user_tz": -120
    },
    "id": "SZjWBfOBgCjL"
   },
   "outputs": [],
   "source": [
    "X_train[['Age','BMI','PhysicalActivity','AlcoholIntake']] = scaler.fit_transform(X_train[['Age','BMI','PhysicalActivity','AlcoholIntake']])\n",
    "X_test[['Age','BMI','PhysicalActivity','AlcoholIntake']] = scaler.transform(X_test[['Age','BMI','PhysicalActivity','AlcoholIntake']])"
   ]
  },
  {
   "cell_type": "markdown",
   "metadata": {
    "id": "JkI12IB8RYz0"
   },
   "source": [
    "##### SMOTE implementation"
   ]
  },
  {
   "cell_type": "markdown",
   "metadata": {
    "id": "W4msRZSPSL8y"
   },
   "source": [
    "***Note***: That the use of SMOTE was attempted however, it negatively impacted the models performance. As stated above that the class imbalance is not extreme and falls within the 70/30 range. For this reason SMOTE was not kept in the modelling process\n",
    "\n",
    "\n",
    "\n",
    "```\n",
    "smote = SMOTE()\n",
    "X_train_resampled, y_train_resampled = smote.fit_resample(X_train, y_train)\n",
    "```\n",
    "\n"
   ]
  },
  {
   "cell_type": "markdown",
   "metadata": {
    "id": "UoH5jJQKxYSL"
   },
   "source": [
    "##### Normal Logistic Regression"
   ]
  },
  {
   "cell_type": "code",
   "execution_count": 186,
   "metadata": {
    "colab": {
     "base_uri": "https://localhost:8080/",
     "height": 0
    },
    "executionInfo": {
     "elapsed": 137,
     "status": "ok",
     "timestamp": 1748381373576,
     "user": {
      "displayName": "Darius Govender",
      "userId": "00086672342847538299"
     },
     "user_tz": -120
    },
    "id": "R5SD7rmmxem6",
    "outputId": "9607fc88-83db-4e47-aade-1d9bf39373b0"
   },
   "outputs": [
    {
     "data": {
      "text/html": [
       "<style>#sk-container-id-21 {\n",
       "  /* Definition of color scheme common for light and dark mode */\n",
       "  --sklearn-color-text: #000;\n",
       "  --sklearn-color-text-muted: #666;\n",
       "  --sklearn-color-line: gray;\n",
       "  /* Definition of color scheme for unfitted estimators */\n",
       "  --sklearn-color-unfitted-level-0: #fff5e6;\n",
       "  --sklearn-color-unfitted-level-1: #f6e4d2;\n",
       "  --sklearn-color-unfitted-level-2: #ffe0b3;\n",
       "  --sklearn-color-unfitted-level-3: chocolate;\n",
       "  /* Definition of color scheme for fitted estimators */\n",
       "  --sklearn-color-fitted-level-0: #f0f8ff;\n",
       "  --sklearn-color-fitted-level-1: #d4ebff;\n",
       "  --sklearn-color-fitted-level-2: #b3dbfd;\n",
       "  --sklearn-color-fitted-level-3: cornflowerblue;\n",
       "\n",
       "  /* Specific color for light theme */\n",
       "  --sklearn-color-text-on-default-background: var(--sg-text-color, var(--theme-code-foreground, var(--jp-content-font-color1, black)));\n",
       "  --sklearn-color-background: var(--sg-background-color, var(--theme-background, var(--jp-layout-color0, white)));\n",
       "  --sklearn-color-border-box: var(--sg-text-color, var(--theme-code-foreground, var(--jp-content-font-color1, black)));\n",
       "  --sklearn-color-icon: #696969;\n",
       "\n",
       "  @media (prefers-color-scheme: dark) {\n",
       "    /* Redefinition of color scheme for dark theme */\n",
       "    --sklearn-color-text-on-default-background: var(--sg-text-color, var(--theme-code-foreground, var(--jp-content-font-color1, white)));\n",
       "    --sklearn-color-background: var(--sg-background-color, var(--theme-background, var(--jp-layout-color0, #111)));\n",
       "    --sklearn-color-border-box: var(--sg-text-color, var(--theme-code-foreground, var(--jp-content-font-color1, white)));\n",
       "    --sklearn-color-icon: #878787;\n",
       "  }\n",
       "}\n",
       "\n",
       "#sk-container-id-21 {\n",
       "  color: var(--sklearn-color-text);\n",
       "}\n",
       "\n",
       "#sk-container-id-21 pre {\n",
       "  padding: 0;\n",
       "}\n",
       "\n",
       "#sk-container-id-21 input.sk-hidden--visually {\n",
       "  border: 0;\n",
       "  clip: rect(1px 1px 1px 1px);\n",
       "  clip: rect(1px, 1px, 1px, 1px);\n",
       "  height: 1px;\n",
       "  margin: -1px;\n",
       "  overflow: hidden;\n",
       "  padding: 0;\n",
       "  position: absolute;\n",
       "  width: 1px;\n",
       "}\n",
       "\n",
       "#sk-container-id-21 div.sk-dashed-wrapped {\n",
       "  border: 1px dashed var(--sklearn-color-line);\n",
       "  margin: 0 0.4em 0.5em 0.4em;\n",
       "  box-sizing: border-box;\n",
       "  padding-bottom: 0.4em;\n",
       "  background-color: var(--sklearn-color-background);\n",
       "}\n",
       "\n",
       "#sk-container-id-21 div.sk-container {\n",
       "  /* jupyter's `normalize.less` sets `[hidden] { display: none; }`\n",
       "     but bootstrap.min.css set `[hidden] { display: none !important; }`\n",
       "     so we also need the `!important` here to be able to override the\n",
       "     default hidden behavior on the sphinx rendered scikit-learn.org.\n",
       "     See: https://github.com/scikit-learn/scikit-learn/issues/21755 */\n",
       "  display: inline-block !important;\n",
       "  position: relative;\n",
       "}\n",
       "\n",
       "#sk-container-id-21 div.sk-text-repr-fallback {\n",
       "  display: none;\n",
       "}\n",
       "\n",
       "div.sk-parallel-item,\n",
       "div.sk-serial,\n",
       "div.sk-item {\n",
       "  /* draw centered vertical line to link estimators */\n",
       "  background-image: linear-gradient(var(--sklearn-color-text-on-default-background), var(--sklearn-color-text-on-default-background));\n",
       "  background-size: 2px 100%;\n",
       "  background-repeat: no-repeat;\n",
       "  background-position: center center;\n",
       "}\n",
       "\n",
       "/* Parallel-specific style estimator block */\n",
       "\n",
       "#sk-container-id-21 div.sk-parallel-item::after {\n",
       "  content: \"\";\n",
       "  width: 100%;\n",
       "  border-bottom: 2px solid var(--sklearn-color-text-on-default-background);\n",
       "  flex-grow: 1;\n",
       "}\n",
       "\n",
       "#sk-container-id-21 div.sk-parallel {\n",
       "  display: flex;\n",
       "  align-items: stretch;\n",
       "  justify-content: center;\n",
       "  background-color: var(--sklearn-color-background);\n",
       "  position: relative;\n",
       "}\n",
       "\n",
       "#sk-container-id-21 div.sk-parallel-item {\n",
       "  display: flex;\n",
       "  flex-direction: column;\n",
       "}\n",
       "\n",
       "#sk-container-id-21 div.sk-parallel-item:first-child::after {\n",
       "  align-self: flex-end;\n",
       "  width: 50%;\n",
       "}\n",
       "\n",
       "#sk-container-id-21 div.sk-parallel-item:last-child::after {\n",
       "  align-self: flex-start;\n",
       "  width: 50%;\n",
       "}\n",
       "\n",
       "#sk-container-id-21 div.sk-parallel-item:only-child::after {\n",
       "  width: 0;\n",
       "}\n",
       "\n",
       "/* Serial-specific style estimator block */\n",
       "\n",
       "#sk-container-id-21 div.sk-serial {\n",
       "  display: flex;\n",
       "  flex-direction: column;\n",
       "  align-items: center;\n",
       "  background-color: var(--sklearn-color-background);\n",
       "  padding-right: 1em;\n",
       "  padding-left: 1em;\n",
       "}\n",
       "\n",
       "\n",
       "/* Toggleable style: style used for estimator/Pipeline/ColumnTransformer box that is\n",
       "clickable and can be expanded/collapsed.\n",
       "- Pipeline and ColumnTransformer use this feature and define the default style\n",
       "- Estimators will overwrite some part of the style using the `sk-estimator` class\n",
       "*/\n",
       "\n",
       "/* Pipeline and ColumnTransformer style (default) */\n",
       "\n",
       "#sk-container-id-21 div.sk-toggleable {\n",
       "  /* Default theme specific background. It is overwritten whether we have a\n",
       "  specific estimator or a Pipeline/ColumnTransformer */\n",
       "  background-color: var(--sklearn-color-background);\n",
       "}\n",
       "\n",
       "/* Toggleable label */\n",
       "#sk-container-id-21 label.sk-toggleable__label {\n",
       "  cursor: pointer;\n",
       "  display: flex;\n",
       "  width: 100%;\n",
       "  margin-bottom: 0;\n",
       "  padding: 0.5em;\n",
       "  box-sizing: border-box;\n",
       "  text-align: center;\n",
       "  align-items: start;\n",
       "  justify-content: space-between;\n",
       "  gap: 0.5em;\n",
       "}\n",
       "\n",
       "#sk-container-id-21 label.sk-toggleable__label .caption {\n",
       "  font-size: 0.6rem;\n",
       "  font-weight: lighter;\n",
       "  color: var(--sklearn-color-text-muted);\n",
       "}\n",
       "\n",
       "#sk-container-id-21 label.sk-toggleable__label-arrow:before {\n",
       "  /* Arrow on the left of the label */\n",
       "  content: \"▸\";\n",
       "  float: left;\n",
       "  margin-right: 0.25em;\n",
       "  color: var(--sklearn-color-icon);\n",
       "}\n",
       "\n",
       "#sk-container-id-21 label.sk-toggleable__label-arrow:hover:before {\n",
       "  color: var(--sklearn-color-text);\n",
       "}\n",
       "\n",
       "/* Toggleable content - dropdown */\n",
       "\n",
       "#sk-container-id-21 div.sk-toggleable__content {\n",
       "  max-height: 0;\n",
       "  max-width: 0;\n",
       "  overflow: hidden;\n",
       "  text-align: left;\n",
       "  /* unfitted */\n",
       "  background-color: var(--sklearn-color-unfitted-level-0);\n",
       "}\n",
       "\n",
       "#sk-container-id-21 div.sk-toggleable__content.fitted {\n",
       "  /* fitted */\n",
       "  background-color: var(--sklearn-color-fitted-level-0);\n",
       "}\n",
       "\n",
       "#sk-container-id-21 div.sk-toggleable__content pre {\n",
       "  margin: 0.2em;\n",
       "  border-radius: 0.25em;\n",
       "  color: var(--sklearn-color-text);\n",
       "  /* unfitted */\n",
       "  background-color: var(--sklearn-color-unfitted-level-0);\n",
       "}\n",
       "\n",
       "#sk-container-id-21 div.sk-toggleable__content.fitted pre {\n",
       "  /* unfitted */\n",
       "  background-color: var(--sklearn-color-fitted-level-0);\n",
       "}\n",
       "\n",
       "#sk-container-id-21 input.sk-toggleable__control:checked~div.sk-toggleable__content {\n",
       "  /* Expand drop-down */\n",
       "  max-height: 200px;\n",
       "  max-width: 100%;\n",
       "  overflow: auto;\n",
       "}\n",
       "\n",
       "#sk-container-id-21 input.sk-toggleable__control:checked~label.sk-toggleable__label-arrow:before {\n",
       "  content: \"▾\";\n",
       "}\n",
       "\n",
       "/* Pipeline/ColumnTransformer-specific style */\n",
       "\n",
       "#sk-container-id-21 div.sk-label input.sk-toggleable__control:checked~label.sk-toggleable__label {\n",
       "  color: var(--sklearn-color-text);\n",
       "  background-color: var(--sklearn-color-unfitted-level-2);\n",
       "}\n",
       "\n",
       "#sk-container-id-21 div.sk-label.fitted input.sk-toggleable__control:checked~label.sk-toggleable__label {\n",
       "  background-color: var(--sklearn-color-fitted-level-2);\n",
       "}\n",
       "\n",
       "/* Estimator-specific style */\n",
       "\n",
       "/* Colorize estimator box */\n",
       "#sk-container-id-21 div.sk-estimator input.sk-toggleable__control:checked~label.sk-toggleable__label {\n",
       "  /* unfitted */\n",
       "  background-color: var(--sklearn-color-unfitted-level-2);\n",
       "}\n",
       "\n",
       "#sk-container-id-21 div.sk-estimator.fitted input.sk-toggleable__control:checked~label.sk-toggleable__label {\n",
       "  /* fitted */\n",
       "  background-color: var(--sklearn-color-fitted-level-2);\n",
       "}\n",
       "\n",
       "#sk-container-id-21 div.sk-label label.sk-toggleable__label,\n",
       "#sk-container-id-21 div.sk-label label {\n",
       "  /* The background is the default theme color */\n",
       "  color: var(--sklearn-color-text-on-default-background);\n",
       "}\n",
       "\n",
       "/* On hover, darken the color of the background */\n",
       "#sk-container-id-21 div.sk-label:hover label.sk-toggleable__label {\n",
       "  color: var(--sklearn-color-text);\n",
       "  background-color: var(--sklearn-color-unfitted-level-2);\n",
       "}\n",
       "\n",
       "/* Label box, darken color on hover, fitted */\n",
       "#sk-container-id-21 div.sk-label.fitted:hover label.sk-toggleable__label.fitted {\n",
       "  color: var(--sklearn-color-text);\n",
       "  background-color: var(--sklearn-color-fitted-level-2);\n",
       "}\n",
       "\n",
       "/* Estimator label */\n",
       "\n",
       "#sk-container-id-21 div.sk-label label {\n",
       "  font-family: monospace;\n",
       "  font-weight: bold;\n",
       "  display: inline-block;\n",
       "  line-height: 1.2em;\n",
       "}\n",
       "\n",
       "#sk-container-id-21 div.sk-label-container {\n",
       "  text-align: center;\n",
       "}\n",
       "\n",
       "/* Estimator-specific */\n",
       "#sk-container-id-21 div.sk-estimator {\n",
       "  font-family: monospace;\n",
       "  border: 1px dotted var(--sklearn-color-border-box);\n",
       "  border-radius: 0.25em;\n",
       "  box-sizing: border-box;\n",
       "  margin-bottom: 0.5em;\n",
       "  /* unfitted */\n",
       "  background-color: var(--sklearn-color-unfitted-level-0);\n",
       "}\n",
       "\n",
       "#sk-container-id-21 div.sk-estimator.fitted {\n",
       "  /* fitted */\n",
       "  background-color: var(--sklearn-color-fitted-level-0);\n",
       "}\n",
       "\n",
       "/* on hover */\n",
       "#sk-container-id-21 div.sk-estimator:hover {\n",
       "  /* unfitted */\n",
       "  background-color: var(--sklearn-color-unfitted-level-2);\n",
       "}\n",
       "\n",
       "#sk-container-id-21 div.sk-estimator.fitted:hover {\n",
       "  /* fitted */\n",
       "  background-color: var(--sklearn-color-fitted-level-2);\n",
       "}\n",
       "\n",
       "/* Specification for estimator info (e.g. \"i\" and \"?\") */\n",
       "\n",
       "/* Common style for \"i\" and \"?\" */\n",
       "\n",
       ".sk-estimator-doc-link,\n",
       "a:link.sk-estimator-doc-link,\n",
       "a:visited.sk-estimator-doc-link {\n",
       "  float: right;\n",
       "  font-size: smaller;\n",
       "  line-height: 1em;\n",
       "  font-family: monospace;\n",
       "  background-color: var(--sklearn-color-background);\n",
       "  border-radius: 1em;\n",
       "  height: 1em;\n",
       "  width: 1em;\n",
       "  text-decoration: none !important;\n",
       "  margin-left: 0.5em;\n",
       "  text-align: center;\n",
       "  /* unfitted */\n",
       "  border: var(--sklearn-color-unfitted-level-1) 1pt solid;\n",
       "  color: var(--sklearn-color-unfitted-level-1);\n",
       "}\n",
       "\n",
       ".sk-estimator-doc-link.fitted,\n",
       "a:link.sk-estimator-doc-link.fitted,\n",
       "a:visited.sk-estimator-doc-link.fitted {\n",
       "  /* fitted */\n",
       "  border: var(--sklearn-color-fitted-level-1) 1pt solid;\n",
       "  color: var(--sklearn-color-fitted-level-1);\n",
       "}\n",
       "\n",
       "/* On hover */\n",
       "div.sk-estimator:hover .sk-estimator-doc-link:hover,\n",
       ".sk-estimator-doc-link:hover,\n",
       "div.sk-label-container:hover .sk-estimator-doc-link:hover,\n",
       ".sk-estimator-doc-link:hover {\n",
       "  /* unfitted */\n",
       "  background-color: var(--sklearn-color-unfitted-level-3);\n",
       "  color: var(--sklearn-color-background);\n",
       "  text-decoration: none;\n",
       "}\n",
       "\n",
       "div.sk-estimator.fitted:hover .sk-estimator-doc-link.fitted:hover,\n",
       ".sk-estimator-doc-link.fitted:hover,\n",
       "div.sk-label-container:hover .sk-estimator-doc-link.fitted:hover,\n",
       ".sk-estimator-doc-link.fitted:hover {\n",
       "  /* fitted */\n",
       "  background-color: var(--sklearn-color-fitted-level-3);\n",
       "  color: var(--sklearn-color-background);\n",
       "  text-decoration: none;\n",
       "}\n",
       "\n",
       "/* Span, style for the box shown on hovering the info icon */\n",
       ".sk-estimator-doc-link span {\n",
       "  display: none;\n",
       "  z-index: 9999;\n",
       "  position: relative;\n",
       "  font-weight: normal;\n",
       "  right: .2ex;\n",
       "  padding: .5ex;\n",
       "  margin: .5ex;\n",
       "  width: min-content;\n",
       "  min-width: 20ex;\n",
       "  max-width: 50ex;\n",
       "  color: var(--sklearn-color-text);\n",
       "  box-shadow: 2pt 2pt 4pt #999;\n",
       "  /* unfitted */\n",
       "  background: var(--sklearn-color-unfitted-level-0);\n",
       "  border: .5pt solid var(--sklearn-color-unfitted-level-3);\n",
       "}\n",
       "\n",
       ".sk-estimator-doc-link.fitted span {\n",
       "  /* fitted */\n",
       "  background: var(--sklearn-color-fitted-level-0);\n",
       "  border: var(--sklearn-color-fitted-level-3);\n",
       "}\n",
       "\n",
       ".sk-estimator-doc-link:hover span {\n",
       "  display: block;\n",
       "}\n",
       "\n",
       "/* \"?\"-specific style due to the `<a>` HTML tag */\n",
       "\n",
       "#sk-container-id-21 a.estimator_doc_link {\n",
       "  float: right;\n",
       "  font-size: 1rem;\n",
       "  line-height: 1em;\n",
       "  font-family: monospace;\n",
       "  background-color: var(--sklearn-color-background);\n",
       "  border-radius: 1rem;\n",
       "  height: 1rem;\n",
       "  width: 1rem;\n",
       "  text-decoration: none;\n",
       "  /* unfitted */\n",
       "  color: var(--sklearn-color-unfitted-level-1);\n",
       "  border: var(--sklearn-color-unfitted-level-1) 1pt solid;\n",
       "}\n",
       "\n",
       "#sk-container-id-21 a.estimator_doc_link.fitted {\n",
       "  /* fitted */\n",
       "  border: var(--sklearn-color-fitted-level-1) 1pt solid;\n",
       "  color: var(--sklearn-color-fitted-level-1);\n",
       "}\n",
       "\n",
       "/* On hover */\n",
       "#sk-container-id-21 a.estimator_doc_link:hover {\n",
       "  /* unfitted */\n",
       "  background-color: var(--sklearn-color-unfitted-level-3);\n",
       "  color: var(--sklearn-color-background);\n",
       "  text-decoration: none;\n",
       "}\n",
       "\n",
       "#sk-container-id-21 a.estimator_doc_link.fitted:hover {\n",
       "  /* fitted */\n",
       "  background-color: var(--sklearn-color-fitted-level-3);\n",
       "}\n",
       "</style><div id=\"sk-container-id-21\" class=\"sk-top-container\"><div class=\"sk-text-repr-fallback\"><pre>LogisticRegression()</pre><b>In a Jupyter environment, please rerun this cell to show the HTML representation or trust the notebook. <br />On GitHub, the HTML representation is unable to render, please try loading this page with nbviewer.org.</b></div><div class=\"sk-container\" hidden><div class=\"sk-item\"><div class=\"sk-estimator fitted sk-toggleable\"><input class=\"sk-toggleable__control sk-hidden--visually\" id=\"sk-estimator-id-21\" type=\"checkbox\" checked><label for=\"sk-estimator-id-21\" class=\"sk-toggleable__label fitted sk-toggleable__label-arrow\"><div><div>LogisticRegression</div></div><div><a class=\"sk-estimator-doc-link fitted\" rel=\"noreferrer\" target=\"_blank\" href=\"https://scikit-learn.org/1.6/modules/generated/sklearn.linear_model.LogisticRegression.html\">?<span>Documentation for LogisticRegression</span></a><span class=\"sk-estimator-doc-link fitted\">i<span>Fitted</span></span></div></label><div class=\"sk-toggleable__content fitted\"><pre>LogisticRegression()</pre></div> </div></div></div></div>"
      ],
      "text/plain": [
       "LogisticRegression()"
      ]
     },
     "execution_count": 186,
     "metadata": {},
     "output_type": "execute_result"
    }
   ],
   "source": [
    "normal_model = LogisticRegression()\n",
    "normal_model.fit(X_train, y_train)"
   ]
  },
  {
   "cell_type": "markdown",
   "metadata": {
    "id": "BWP3T8OLgN2P"
   },
   "source": [
    "##### Gradient Decent Logistic Regression"
   ]
  },
  {
   "cell_type": "code",
   "execution_count": 201,
   "metadata": {
    "colab": {
     "base_uri": "https://localhost:8080/",
     "height": 0
    },
    "executionInfo": {
     "elapsed": 133,
     "status": "ok",
     "timestamp": 1748382696374,
     "user": {
      "displayName": "Darius Govender",
      "userId": "00086672342847538299"
     },
     "user_tz": -120
    },
    "id": "JShfKuQegS3N",
    "outputId": "e6de9c20-c8bf-439e-df1f-ac7ef5bf2ee8"
   },
   "outputs": [
    {
     "data": {
      "text/html": [
       "<style>#sk-container-id-27 {\n",
       "  /* Definition of color scheme common for light and dark mode */\n",
       "  --sklearn-color-text: #000;\n",
       "  --sklearn-color-text-muted: #666;\n",
       "  --sklearn-color-line: gray;\n",
       "  /* Definition of color scheme for unfitted estimators */\n",
       "  --sklearn-color-unfitted-level-0: #fff5e6;\n",
       "  --sklearn-color-unfitted-level-1: #f6e4d2;\n",
       "  --sklearn-color-unfitted-level-2: #ffe0b3;\n",
       "  --sklearn-color-unfitted-level-3: chocolate;\n",
       "  /* Definition of color scheme for fitted estimators */\n",
       "  --sklearn-color-fitted-level-0: #f0f8ff;\n",
       "  --sklearn-color-fitted-level-1: #d4ebff;\n",
       "  --sklearn-color-fitted-level-2: #b3dbfd;\n",
       "  --sklearn-color-fitted-level-3: cornflowerblue;\n",
       "\n",
       "  /* Specific color for light theme */\n",
       "  --sklearn-color-text-on-default-background: var(--sg-text-color, var(--theme-code-foreground, var(--jp-content-font-color1, black)));\n",
       "  --sklearn-color-background: var(--sg-background-color, var(--theme-background, var(--jp-layout-color0, white)));\n",
       "  --sklearn-color-border-box: var(--sg-text-color, var(--theme-code-foreground, var(--jp-content-font-color1, black)));\n",
       "  --sklearn-color-icon: #696969;\n",
       "\n",
       "  @media (prefers-color-scheme: dark) {\n",
       "    /* Redefinition of color scheme for dark theme */\n",
       "    --sklearn-color-text-on-default-background: var(--sg-text-color, var(--theme-code-foreground, var(--jp-content-font-color1, white)));\n",
       "    --sklearn-color-background: var(--sg-background-color, var(--theme-background, var(--jp-layout-color0, #111)));\n",
       "    --sklearn-color-border-box: var(--sg-text-color, var(--theme-code-foreground, var(--jp-content-font-color1, white)));\n",
       "    --sklearn-color-icon: #878787;\n",
       "  }\n",
       "}\n",
       "\n",
       "#sk-container-id-27 {\n",
       "  color: var(--sklearn-color-text);\n",
       "}\n",
       "\n",
       "#sk-container-id-27 pre {\n",
       "  padding: 0;\n",
       "}\n",
       "\n",
       "#sk-container-id-27 input.sk-hidden--visually {\n",
       "  border: 0;\n",
       "  clip: rect(1px 1px 1px 1px);\n",
       "  clip: rect(1px, 1px, 1px, 1px);\n",
       "  height: 1px;\n",
       "  margin: -1px;\n",
       "  overflow: hidden;\n",
       "  padding: 0;\n",
       "  position: absolute;\n",
       "  width: 1px;\n",
       "}\n",
       "\n",
       "#sk-container-id-27 div.sk-dashed-wrapped {\n",
       "  border: 1px dashed var(--sklearn-color-line);\n",
       "  margin: 0 0.4em 0.5em 0.4em;\n",
       "  box-sizing: border-box;\n",
       "  padding-bottom: 0.4em;\n",
       "  background-color: var(--sklearn-color-background);\n",
       "}\n",
       "\n",
       "#sk-container-id-27 div.sk-container {\n",
       "  /* jupyter's `normalize.less` sets `[hidden] { display: none; }`\n",
       "     but bootstrap.min.css set `[hidden] { display: none !important; }`\n",
       "     so we also need the `!important` here to be able to override the\n",
       "     default hidden behavior on the sphinx rendered scikit-learn.org.\n",
       "     See: https://github.com/scikit-learn/scikit-learn/issues/21755 */\n",
       "  display: inline-block !important;\n",
       "  position: relative;\n",
       "}\n",
       "\n",
       "#sk-container-id-27 div.sk-text-repr-fallback {\n",
       "  display: none;\n",
       "}\n",
       "\n",
       "div.sk-parallel-item,\n",
       "div.sk-serial,\n",
       "div.sk-item {\n",
       "  /* draw centered vertical line to link estimators */\n",
       "  background-image: linear-gradient(var(--sklearn-color-text-on-default-background), var(--sklearn-color-text-on-default-background));\n",
       "  background-size: 2px 100%;\n",
       "  background-repeat: no-repeat;\n",
       "  background-position: center center;\n",
       "}\n",
       "\n",
       "/* Parallel-specific style estimator block */\n",
       "\n",
       "#sk-container-id-27 div.sk-parallel-item::after {\n",
       "  content: \"\";\n",
       "  width: 100%;\n",
       "  border-bottom: 2px solid var(--sklearn-color-text-on-default-background);\n",
       "  flex-grow: 1;\n",
       "}\n",
       "\n",
       "#sk-container-id-27 div.sk-parallel {\n",
       "  display: flex;\n",
       "  align-items: stretch;\n",
       "  justify-content: center;\n",
       "  background-color: var(--sklearn-color-background);\n",
       "  position: relative;\n",
       "}\n",
       "\n",
       "#sk-container-id-27 div.sk-parallel-item {\n",
       "  display: flex;\n",
       "  flex-direction: column;\n",
       "}\n",
       "\n",
       "#sk-container-id-27 div.sk-parallel-item:first-child::after {\n",
       "  align-self: flex-end;\n",
       "  width: 50%;\n",
       "}\n",
       "\n",
       "#sk-container-id-27 div.sk-parallel-item:last-child::after {\n",
       "  align-self: flex-start;\n",
       "  width: 50%;\n",
       "}\n",
       "\n",
       "#sk-container-id-27 div.sk-parallel-item:only-child::after {\n",
       "  width: 0;\n",
       "}\n",
       "\n",
       "/* Serial-specific style estimator block */\n",
       "\n",
       "#sk-container-id-27 div.sk-serial {\n",
       "  display: flex;\n",
       "  flex-direction: column;\n",
       "  align-items: center;\n",
       "  background-color: var(--sklearn-color-background);\n",
       "  padding-right: 1em;\n",
       "  padding-left: 1em;\n",
       "}\n",
       "\n",
       "\n",
       "/* Toggleable style: style used for estimator/Pipeline/ColumnTransformer box that is\n",
       "clickable and can be expanded/collapsed.\n",
       "- Pipeline and ColumnTransformer use this feature and define the default style\n",
       "- Estimators will overwrite some part of the style using the `sk-estimator` class\n",
       "*/\n",
       "\n",
       "/* Pipeline and ColumnTransformer style (default) */\n",
       "\n",
       "#sk-container-id-27 div.sk-toggleable {\n",
       "  /* Default theme specific background. It is overwritten whether we have a\n",
       "  specific estimator or a Pipeline/ColumnTransformer */\n",
       "  background-color: var(--sklearn-color-background);\n",
       "}\n",
       "\n",
       "/* Toggleable label */\n",
       "#sk-container-id-27 label.sk-toggleable__label {\n",
       "  cursor: pointer;\n",
       "  display: flex;\n",
       "  width: 100%;\n",
       "  margin-bottom: 0;\n",
       "  padding: 0.5em;\n",
       "  box-sizing: border-box;\n",
       "  text-align: center;\n",
       "  align-items: start;\n",
       "  justify-content: space-between;\n",
       "  gap: 0.5em;\n",
       "}\n",
       "\n",
       "#sk-container-id-27 label.sk-toggleable__label .caption {\n",
       "  font-size: 0.6rem;\n",
       "  font-weight: lighter;\n",
       "  color: var(--sklearn-color-text-muted);\n",
       "}\n",
       "\n",
       "#sk-container-id-27 label.sk-toggleable__label-arrow:before {\n",
       "  /* Arrow on the left of the label */\n",
       "  content: \"▸\";\n",
       "  float: left;\n",
       "  margin-right: 0.25em;\n",
       "  color: var(--sklearn-color-icon);\n",
       "}\n",
       "\n",
       "#sk-container-id-27 label.sk-toggleable__label-arrow:hover:before {\n",
       "  color: var(--sklearn-color-text);\n",
       "}\n",
       "\n",
       "/* Toggleable content - dropdown */\n",
       "\n",
       "#sk-container-id-27 div.sk-toggleable__content {\n",
       "  max-height: 0;\n",
       "  max-width: 0;\n",
       "  overflow: hidden;\n",
       "  text-align: left;\n",
       "  /* unfitted */\n",
       "  background-color: var(--sklearn-color-unfitted-level-0);\n",
       "}\n",
       "\n",
       "#sk-container-id-27 div.sk-toggleable__content.fitted {\n",
       "  /* fitted */\n",
       "  background-color: var(--sklearn-color-fitted-level-0);\n",
       "}\n",
       "\n",
       "#sk-container-id-27 div.sk-toggleable__content pre {\n",
       "  margin: 0.2em;\n",
       "  border-radius: 0.25em;\n",
       "  color: var(--sklearn-color-text);\n",
       "  /* unfitted */\n",
       "  background-color: var(--sklearn-color-unfitted-level-0);\n",
       "}\n",
       "\n",
       "#sk-container-id-27 div.sk-toggleable__content.fitted pre {\n",
       "  /* unfitted */\n",
       "  background-color: var(--sklearn-color-fitted-level-0);\n",
       "}\n",
       "\n",
       "#sk-container-id-27 input.sk-toggleable__control:checked~div.sk-toggleable__content {\n",
       "  /* Expand drop-down */\n",
       "  max-height: 200px;\n",
       "  max-width: 100%;\n",
       "  overflow: auto;\n",
       "}\n",
       "\n",
       "#sk-container-id-27 input.sk-toggleable__control:checked~label.sk-toggleable__label-arrow:before {\n",
       "  content: \"▾\";\n",
       "}\n",
       "\n",
       "/* Pipeline/ColumnTransformer-specific style */\n",
       "\n",
       "#sk-container-id-27 div.sk-label input.sk-toggleable__control:checked~label.sk-toggleable__label {\n",
       "  color: var(--sklearn-color-text);\n",
       "  background-color: var(--sklearn-color-unfitted-level-2);\n",
       "}\n",
       "\n",
       "#sk-container-id-27 div.sk-label.fitted input.sk-toggleable__control:checked~label.sk-toggleable__label {\n",
       "  background-color: var(--sklearn-color-fitted-level-2);\n",
       "}\n",
       "\n",
       "/* Estimator-specific style */\n",
       "\n",
       "/* Colorize estimator box */\n",
       "#sk-container-id-27 div.sk-estimator input.sk-toggleable__control:checked~label.sk-toggleable__label {\n",
       "  /* unfitted */\n",
       "  background-color: var(--sklearn-color-unfitted-level-2);\n",
       "}\n",
       "\n",
       "#sk-container-id-27 div.sk-estimator.fitted input.sk-toggleable__control:checked~label.sk-toggleable__label {\n",
       "  /* fitted */\n",
       "  background-color: var(--sklearn-color-fitted-level-2);\n",
       "}\n",
       "\n",
       "#sk-container-id-27 div.sk-label label.sk-toggleable__label,\n",
       "#sk-container-id-27 div.sk-label label {\n",
       "  /* The background is the default theme color */\n",
       "  color: var(--sklearn-color-text-on-default-background);\n",
       "}\n",
       "\n",
       "/* On hover, darken the color of the background */\n",
       "#sk-container-id-27 div.sk-label:hover label.sk-toggleable__label {\n",
       "  color: var(--sklearn-color-text);\n",
       "  background-color: var(--sklearn-color-unfitted-level-2);\n",
       "}\n",
       "\n",
       "/* Label box, darken color on hover, fitted */\n",
       "#sk-container-id-27 div.sk-label.fitted:hover label.sk-toggleable__label.fitted {\n",
       "  color: var(--sklearn-color-text);\n",
       "  background-color: var(--sklearn-color-fitted-level-2);\n",
       "}\n",
       "\n",
       "/* Estimator label */\n",
       "\n",
       "#sk-container-id-27 div.sk-label label {\n",
       "  font-family: monospace;\n",
       "  font-weight: bold;\n",
       "  display: inline-block;\n",
       "  line-height: 1.2em;\n",
       "}\n",
       "\n",
       "#sk-container-id-27 div.sk-label-container {\n",
       "  text-align: center;\n",
       "}\n",
       "\n",
       "/* Estimator-specific */\n",
       "#sk-container-id-27 div.sk-estimator {\n",
       "  font-family: monospace;\n",
       "  border: 1px dotted var(--sklearn-color-border-box);\n",
       "  border-radius: 0.25em;\n",
       "  box-sizing: border-box;\n",
       "  margin-bottom: 0.5em;\n",
       "  /* unfitted */\n",
       "  background-color: var(--sklearn-color-unfitted-level-0);\n",
       "}\n",
       "\n",
       "#sk-container-id-27 div.sk-estimator.fitted {\n",
       "  /* fitted */\n",
       "  background-color: var(--sklearn-color-fitted-level-0);\n",
       "}\n",
       "\n",
       "/* on hover */\n",
       "#sk-container-id-27 div.sk-estimator:hover {\n",
       "  /* unfitted */\n",
       "  background-color: var(--sklearn-color-unfitted-level-2);\n",
       "}\n",
       "\n",
       "#sk-container-id-27 div.sk-estimator.fitted:hover {\n",
       "  /* fitted */\n",
       "  background-color: var(--sklearn-color-fitted-level-2);\n",
       "}\n",
       "\n",
       "/* Specification for estimator info (e.g. \"i\" and \"?\") */\n",
       "\n",
       "/* Common style for \"i\" and \"?\" */\n",
       "\n",
       ".sk-estimator-doc-link,\n",
       "a:link.sk-estimator-doc-link,\n",
       "a:visited.sk-estimator-doc-link {\n",
       "  float: right;\n",
       "  font-size: smaller;\n",
       "  line-height: 1em;\n",
       "  font-family: monospace;\n",
       "  background-color: var(--sklearn-color-background);\n",
       "  border-radius: 1em;\n",
       "  height: 1em;\n",
       "  width: 1em;\n",
       "  text-decoration: none !important;\n",
       "  margin-left: 0.5em;\n",
       "  text-align: center;\n",
       "  /* unfitted */\n",
       "  border: var(--sklearn-color-unfitted-level-1) 1pt solid;\n",
       "  color: var(--sklearn-color-unfitted-level-1);\n",
       "}\n",
       "\n",
       ".sk-estimator-doc-link.fitted,\n",
       "a:link.sk-estimator-doc-link.fitted,\n",
       "a:visited.sk-estimator-doc-link.fitted {\n",
       "  /* fitted */\n",
       "  border: var(--sklearn-color-fitted-level-1) 1pt solid;\n",
       "  color: var(--sklearn-color-fitted-level-1);\n",
       "}\n",
       "\n",
       "/* On hover */\n",
       "div.sk-estimator:hover .sk-estimator-doc-link:hover,\n",
       ".sk-estimator-doc-link:hover,\n",
       "div.sk-label-container:hover .sk-estimator-doc-link:hover,\n",
       ".sk-estimator-doc-link:hover {\n",
       "  /* unfitted */\n",
       "  background-color: var(--sklearn-color-unfitted-level-3);\n",
       "  color: var(--sklearn-color-background);\n",
       "  text-decoration: none;\n",
       "}\n",
       "\n",
       "div.sk-estimator.fitted:hover .sk-estimator-doc-link.fitted:hover,\n",
       ".sk-estimator-doc-link.fitted:hover,\n",
       "div.sk-label-container:hover .sk-estimator-doc-link.fitted:hover,\n",
       ".sk-estimator-doc-link.fitted:hover {\n",
       "  /* fitted */\n",
       "  background-color: var(--sklearn-color-fitted-level-3);\n",
       "  color: var(--sklearn-color-background);\n",
       "  text-decoration: none;\n",
       "}\n",
       "\n",
       "/* Span, style for the box shown on hovering the info icon */\n",
       ".sk-estimator-doc-link span {\n",
       "  display: none;\n",
       "  z-index: 9999;\n",
       "  position: relative;\n",
       "  font-weight: normal;\n",
       "  right: .2ex;\n",
       "  padding: .5ex;\n",
       "  margin: .5ex;\n",
       "  width: min-content;\n",
       "  min-width: 20ex;\n",
       "  max-width: 50ex;\n",
       "  color: var(--sklearn-color-text);\n",
       "  box-shadow: 2pt 2pt 4pt #999;\n",
       "  /* unfitted */\n",
       "  background: var(--sklearn-color-unfitted-level-0);\n",
       "  border: .5pt solid var(--sklearn-color-unfitted-level-3);\n",
       "}\n",
       "\n",
       ".sk-estimator-doc-link.fitted span {\n",
       "  /* fitted */\n",
       "  background: var(--sklearn-color-fitted-level-0);\n",
       "  border: var(--sklearn-color-fitted-level-3);\n",
       "}\n",
       "\n",
       ".sk-estimator-doc-link:hover span {\n",
       "  display: block;\n",
       "}\n",
       "\n",
       "/* \"?\"-specific style due to the `<a>` HTML tag */\n",
       "\n",
       "#sk-container-id-27 a.estimator_doc_link {\n",
       "  float: right;\n",
       "  font-size: 1rem;\n",
       "  line-height: 1em;\n",
       "  font-family: monospace;\n",
       "  background-color: var(--sklearn-color-background);\n",
       "  border-radius: 1rem;\n",
       "  height: 1rem;\n",
       "  width: 1rem;\n",
       "  text-decoration: none;\n",
       "  /* unfitted */\n",
       "  color: var(--sklearn-color-unfitted-level-1);\n",
       "  border: var(--sklearn-color-unfitted-level-1) 1pt solid;\n",
       "}\n",
       "\n",
       "#sk-container-id-27 a.estimator_doc_link.fitted {\n",
       "  /* fitted */\n",
       "  border: var(--sklearn-color-fitted-level-1) 1pt solid;\n",
       "  color: var(--sklearn-color-fitted-level-1);\n",
       "}\n",
       "\n",
       "/* On hover */\n",
       "#sk-container-id-27 a.estimator_doc_link:hover {\n",
       "  /* unfitted */\n",
       "  background-color: var(--sklearn-color-unfitted-level-3);\n",
       "  color: var(--sklearn-color-background);\n",
       "  text-decoration: none;\n",
       "}\n",
       "\n",
       "#sk-container-id-27 a.estimator_doc_link.fitted:hover {\n",
       "  /* fitted */\n",
       "  background-color: var(--sklearn-color-fitted-level-3);\n",
       "}\n",
       "</style><div id=\"sk-container-id-27\" class=\"sk-top-container\"><div class=\"sk-text-repr-fallback\"><pre>SGDClassifier(class_weight=&#x27;balanced&#x27;, eta0=0.01, learning_rate=&#x27;constant&#x27;,\n",
       "              loss=&#x27;log_loss&#x27;, penalty=None, random_state=42)</pre><b>In a Jupyter environment, please rerun this cell to show the HTML representation or trust the notebook. <br />On GitHub, the HTML representation is unable to render, please try loading this page with nbviewer.org.</b></div><div class=\"sk-container\" hidden><div class=\"sk-item\"><div class=\"sk-estimator fitted sk-toggleable\"><input class=\"sk-toggleable__control sk-hidden--visually\" id=\"sk-estimator-id-27\" type=\"checkbox\" checked><label for=\"sk-estimator-id-27\" class=\"sk-toggleable__label fitted sk-toggleable__label-arrow\"><div><div>SGDClassifier</div></div><div><a class=\"sk-estimator-doc-link fitted\" rel=\"noreferrer\" target=\"_blank\" href=\"https://scikit-learn.org/1.6/modules/generated/sklearn.linear_model.SGDClassifier.html\">?<span>Documentation for SGDClassifier</span></a><span class=\"sk-estimator-doc-link fitted\">i<span>Fitted</span></span></div></label><div class=\"sk-toggleable__content fitted\"><pre>SGDClassifier(class_weight=&#x27;balanced&#x27;, eta0=0.01, learning_rate=&#x27;constant&#x27;,\n",
       "              loss=&#x27;log_loss&#x27;, penalty=None, random_state=42)</pre></div> </div></div></div></div>"
      ],
      "text/plain": [
       "SGDClassifier(class_weight='balanced', eta0=0.01, learning_rate='constant',\n",
       "              loss='log_loss', penalty=None, random_state=42)"
      ]
     },
     "execution_count": 201,
     "metadata": {},
     "output_type": "execute_result"
    }
   ],
   "source": [
    "## GeekForGeeks;\n",
    "## 24 April 2025;\n",
    "## Comparing various online solvers in Scikit Learn;\n",
    "## 1;\n",
    "## source code;\n",
    "## Available at: https://www.geeksforgeeks.org/comparing-various-online-solvers-in-scikit-learn/;\n",
    "## [Accessed on: 19 May 2025].\n",
    "\n",
    "gradient_descent_model = SGDClassifier(\n",
    "    loss='log_loss',\n",
    "    penalty=None,\n",
    "    max_iter=1000,\n",
    "    learning_rate='constant',\n",
    "    eta0=0.01,\n",
    "    class_weight='balanced',\n",
    "    random_state=42\n",
    ")\n",
    "\n",
    "gradient_descent_model.fit(X_train, y_train)"
   ]
  },
  {
   "cell_type": "markdown",
   "metadata": {
    "id": "QL0LoqixOtKy"
   },
   "source": [
    "##### ElasticNet Logistic Regression"
   ]
  },
  {
   "cell_type": "code",
   "execution_count": 200,
   "metadata": {
    "colab": {
     "base_uri": "https://localhost:8080/",
     "height": 0
    },
    "executionInfo": {
     "elapsed": 1781,
     "status": "ok",
     "timestamp": 1748382689913,
     "user": {
      "displayName": "Darius Govender",
      "userId": "00086672342847538299"
     },
     "user_tz": -120
    },
    "id": "Y9VHvavkOwcK",
    "outputId": "57c2431e-620c-427a-abb7-126693f69598"
   },
   "outputs": [
    {
     "data": {
      "text/html": [
       "<style>#sk-container-id-26 {\n",
       "  /* Definition of color scheme common for light and dark mode */\n",
       "  --sklearn-color-text: #000;\n",
       "  --sklearn-color-text-muted: #666;\n",
       "  --sklearn-color-line: gray;\n",
       "  /* Definition of color scheme for unfitted estimators */\n",
       "  --sklearn-color-unfitted-level-0: #fff5e6;\n",
       "  --sklearn-color-unfitted-level-1: #f6e4d2;\n",
       "  --sklearn-color-unfitted-level-2: #ffe0b3;\n",
       "  --sklearn-color-unfitted-level-3: chocolate;\n",
       "  /* Definition of color scheme for fitted estimators */\n",
       "  --sklearn-color-fitted-level-0: #f0f8ff;\n",
       "  --sklearn-color-fitted-level-1: #d4ebff;\n",
       "  --sklearn-color-fitted-level-2: #b3dbfd;\n",
       "  --sklearn-color-fitted-level-3: cornflowerblue;\n",
       "\n",
       "  /* Specific color for light theme */\n",
       "  --sklearn-color-text-on-default-background: var(--sg-text-color, var(--theme-code-foreground, var(--jp-content-font-color1, black)));\n",
       "  --sklearn-color-background: var(--sg-background-color, var(--theme-background, var(--jp-layout-color0, white)));\n",
       "  --sklearn-color-border-box: var(--sg-text-color, var(--theme-code-foreground, var(--jp-content-font-color1, black)));\n",
       "  --sklearn-color-icon: #696969;\n",
       "\n",
       "  @media (prefers-color-scheme: dark) {\n",
       "    /* Redefinition of color scheme for dark theme */\n",
       "    --sklearn-color-text-on-default-background: var(--sg-text-color, var(--theme-code-foreground, var(--jp-content-font-color1, white)));\n",
       "    --sklearn-color-background: var(--sg-background-color, var(--theme-background, var(--jp-layout-color0, #111)));\n",
       "    --sklearn-color-border-box: var(--sg-text-color, var(--theme-code-foreground, var(--jp-content-font-color1, white)));\n",
       "    --sklearn-color-icon: #878787;\n",
       "  }\n",
       "}\n",
       "\n",
       "#sk-container-id-26 {\n",
       "  color: var(--sklearn-color-text);\n",
       "}\n",
       "\n",
       "#sk-container-id-26 pre {\n",
       "  padding: 0;\n",
       "}\n",
       "\n",
       "#sk-container-id-26 input.sk-hidden--visually {\n",
       "  border: 0;\n",
       "  clip: rect(1px 1px 1px 1px);\n",
       "  clip: rect(1px, 1px, 1px, 1px);\n",
       "  height: 1px;\n",
       "  margin: -1px;\n",
       "  overflow: hidden;\n",
       "  padding: 0;\n",
       "  position: absolute;\n",
       "  width: 1px;\n",
       "}\n",
       "\n",
       "#sk-container-id-26 div.sk-dashed-wrapped {\n",
       "  border: 1px dashed var(--sklearn-color-line);\n",
       "  margin: 0 0.4em 0.5em 0.4em;\n",
       "  box-sizing: border-box;\n",
       "  padding-bottom: 0.4em;\n",
       "  background-color: var(--sklearn-color-background);\n",
       "}\n",
       "\n",
       "#sk-container-id-26 div.sk-container {\n",
       "  /* jupyter's `normalize.less` sets `[hidden] { display: none; }`\n",
       "     but bootstrap.min.css set `[hidden] { display: none !important; }`\n",
       "     so we also need the `!important` here to be able to override the\n",
       "     default hidden behavior on the sphinx rendered scikit-learn.org.\n",
       "     See: https://github.com/scikit-learn/scikit-learn/issues/21755 */\n",
       "  display: inline-block !important;\n",
       "  position: relative;\n",
       "}\n",
       "\n",
       "#sk-container-id-26 div.sk-text-repr-fallback {\n",
       "  display: none;\n",
       "}\n",
       "\n",
       "div.sk-parallel-item,\n",
       "div.sk-serial,\n",
       "div.sk-item {\n",
       "  /* draw centered vertical line to link estimators */\n",
       "  background-image: linear-gradient(var(--sklearn-color-text-on-default-background), var(--sklearn-color-text-on-default-background));\n",
       "  background-size: 2px 100%;\n",
       "  background-repeat: no-repeat;\n",
       "  background-position: center center;\n",
       "}\n",
       "\n",
       "/* Parallel-specific style estimator block */\n",
       "\n",
       "#sk-container-id-26 div.sk-parallel-item::after {\n",
       "  content: \"\";\n",
       "  width: 100%;\n",
       "  border-bottom: 2px solid var(--sklearn-color-text-on-default-background);\n",
       "  flex-grow: 1;\n",
       "}\n",
       "\n",
       "#sk-container-id-26 div.sk-parallel {\n",
       "  display: flex;\n",
       "  align-items: stretch;\n",
       "  justify-content: center;\n",
       "  background-color: var(--sklearn-color-background);\n",
       "  position: relative;\n",
       "}\n",
       "\n",
       "#sk-container-id-26 div.sk-parallel-item {\n",
       "  display: flex;\n",
       "  flex-direction: column;\n",
       "}\n",
       "\n",
       "#sk-container-id-26 div.sk-parallel-item:first-child::after {\n",
       "  align-self: flex-end;\n",
       "  width: 50%;\n",
       "}\n",
       "\n",
       "#sk-container-id-26 div.sk-parallel-item:last-child::after {\n",
       "  align-self: flex-start;\n",
       "  width: 50%;\n",
       "}\n",
       "\n",
       "#sk-container-id-26 div.sk-parallel-item:only-child::after {\n",
       "  width: 0;\n",
       "}\n",
       "\n",
       "/* Serial-specific style estimator block */\n",
       "\n",
       "#sk-container-id-26 div.sk-serial {\n",
       "  display: flex;\n",
       "  flex-direction: column;\n",
       "  align-items: center;\n",
       "  background-color: var(--sklearn-color-background);\n",
       "  padding-right: 1em;\n",
       "  padding-left: 1em;\n",
       "}\n",
       "\n",
       "\n",
       "/* Toggleable style: style used for estimator/Pipeline/ColumnTransformer box that is\n",
       "clickable and can be expanded/collapsed.\n",
       "- Pipeline and ColumnTransformer use this feature and define the default style\n",
       "- Estimators will overwrite some part of the style using the `sk-estimator` class\n",
       "*/\n",
       "\n",
       "/* Pipeline and ColumnTransformer style (default) */\n",
       "\n",
       "#sk-container-id-26 div.sk-toggleable {\n",
       "  /* Default theme specific background. It is overwritten whether we have a\n",
       "  specific estimator or a Pipeline/ColumnTransformer */\n",
       "  background-color: var(--sklearn-color-background);\n",
       "}\n",
       "\n",
       "/* Toggleable label */\n",
       "#sk-container-id-26 label.sk-toggleable__label {\n",
       "  cursor: pointer;\n",
       "  display: flex;\n",
       "  width: 100%;\n",
       "  margin-bottom: 0;\n",
       "  padding: 0.5em;\n",
       "  box-sizing: border-box;\n",
       "  text-align: center;\n",
       "  align-items: start;\n",
       "  justify-content: space-between;\n",
       "  gap: 0.5em;\n",
       "}\n",
       "\n",
       "#sk-container-id-26 label.sk-toggleable__label .caption {\n",
       "  font-size: 0.6rem;\n",
       "  font-weight: lighter;\n",
       "  color: var(--sklearn-color-text-muted);\n",
       "}\n",
       "\n",
       "#sk-container-id-26 label.sk-toggleable__label-arrow:before {\n",
       "  /* Arrow on the left of the label */\n",
       "  content: \"▸\";\n",
       "  float: left;\n",
       "  margin-right: 0.25em;\n",
       "  color: var(--sklearn-color-icon);\n",
       "}\n",
       "\n",
       "#sk-container-id-26 label.sk-toggleable__label-arrow:hover:before {\n",
       "  color: var(--sklearn-color-text);\n",
       "}\n",
       "\n",
       "/* Toggleable content - dropdown */\n",
       "\n",
       "#sk-container-id-26 div.sk-toggleable__content {\n",
       "  max-height: 0;\n",
       "  max-width: 0;\n",
       "  overflow: hidden;\n",
       "  text-align: left;\n",
       "  /* unfitted */\n",
       "  background-color: var(--sklearn-color-unfitted-level-0);\n",
       "}\n",
       "\n",
       "#sk-container-id-26 div.sk-toggleable__content.fitted {\n",
       "  /* fitted */\n",
       "  background-color: var(--sklearn-color-fitted-level-0);\n",
       "}\n",
       "\n",
       "#sk-container-id-26 div.sk-toggleable__content pre {\n",
       "  margin: 0.2em;\n",
       "  border-radius: 0.25em;\n",
       "  color: var(--sklearn-color-text);\n",
       "  /* unfitted */\n",
       "  background-color: var(--sklearn-color-unfitted-level-0);\n",
       "}\n",
       "\n",
       "#sk-container-id-26 div.sk-toggleable__content.fitted pre {\n",
       "  /* unfitted */\n",
       "  background-color: var(--sklearn-color-fitted-level-0);\n",
       "}\n",
       "\n",
       "#sk-container-id-26 input.sk-toggleable__control:checked~div.sk-toggleable__content {\n",
       "  /* Expand drop-down */\n",
       "  max-height: 200px;\n",
       "  max-width: 100%;\n",
       "  overflow: auto;\n",
       "}\n",
       "\n",
       "#sk-container-id-26 input.sk-toggleable__control:checked~label.sk-toggleable__label-arrow:before {\n",
       "  content: \"▾\";\n",
       "}\n",
       "\n",
       "/* Pipeline/ColumnTransformer-specific style */\n",
       "\n",
       "#sk-container-id-26 div.sk-label input.sk-toggleable__control:checked~label.sk-toggleable__label {\n",
       "  color: var(--sklearn-color-text);\n",
       "  background-color: var(--sklearn-color-unfitted-level-2);\n",
       "}\n",
       "\n",
       "#sk-container-id-26 div.sk-label.fitted input.sk-toggleable__control:checked~label.sk-toggleable__label {\n",
       "  background-color: var(--sklearn-color-fitted-level-2);\n",
       "}\n",
       "\n",
       "/* Estimator-specific style */\n",
       "\n",
       "/* Colorize estimator box */\n",
       "#sk-container-id-26 div.sk-estimator input.sk-toggleable__control:checked~label.sk-toggleable__label {\n",
       "  /* unfitted */\n",
       "  background-color: var(--sklearn-color-unfitted-level-2);\n",
       "}\n",
       "\n",
       "#sk-container-id-26 div.sk-estimator.fitted input.sk-toggleable__control:checked~label.sk-toggleable__label {\n",
       "  /* fitted */\n",
       "  background-color: var(--sklearn-color-fitted-level-2);\n",
       "}\n",
       "\n",
       "#sk-container-id-26 div.sk-label label.sk-toggleable__label,\n",
       "#sk-container-id-26 div.sk-label label {\n",
       "  /* The background is the default theme color */\n",
       "  color: var(--sklearn-color-text-on-default-background);\n",
       "}\n",
       "\n",
       "/* On hover, darken the color of the background */\n",
       "#sk-container-id-26 div.sk-label:hover label.sk-toggleable__label {\n",
       "  color: var(--sklearn-color-text);\n",
       "  background-color: var(--sklearn-color-unfitted-level-2);\n",
       "}\n",
       "\n",
       "/* Label box, darken color on hover, fitted */\n",
       "#sk-container-id-26 div.sk-label.fitted:hover label.sk-toggleable__label.fitted {\n",
       "  color: var(--sklearn-color-text);\n",
       "  background-color: var(--sklearn-color-fitted-level-2);\n",
       "}\n",
       "\n",
       "/* Estimator label */\n",
       "\n",
       "#sk-container-id-26 div.sk-label label {\n",
       "  font-family: monospace;\n",
       "  font-weight: bold;\n",
       "  display: inline-block;\n",
       "  line-height: 1.2em;\n",
       "}\n",
       "\n",
       "#sk-container-id-26 div.sk-label-container {\n",
       "  text-align: center;\n",
       "}\n",
       "\n",
       "/* Estimator-specific */\n",
       "#sk-container-id-26 div.sk-estimator {\n",
       "  font-family: monospace;\n",
       "  border: 1px dotted var(--sklearn-color-border-box);\n",
       "  border-radius: 0.25em;\n",
       "  box-sizing: border-box;\n",
       "  margin-bottom: 0.5em;\n",
       "  /* unfitted */\n",
       "  background-color: var(--sklearn-color-unfitted-level-0);\n",
       "}\n",
       "\n",
       "#sk-container-id-26 div.sk-estimator.fitted {\n",
       "  /* fitted */\n",
       "  background-color: var(--sklearn-color-fitted-level-0);\n",
       "}\n",
       "\n",
       "/* on hover */\n",
       "#sk-container-id-26 div.sk-estimator:hover {\n",
       "  /* unfitted */\n",
       "  background-color: var(--sklearn-color-unfitted-level-2);\n",
       "}\n",
       "\n",
       "#sk-container-id-26 div.sk-estimator.fitted:hover {\n",
       "  /* fitted */\n",
       "  background-color: var(--sklearn-color-fitted-level-2);\n",
       "}\n",
       "\n",
       "/* Specification for estimator info (e.g. \"i\" and \"?\") */\n",
       "\n",
       "/* Common style for \"i\" and \"?\" */\n",
       "\n",
       ".sk-estimator-doc-link,\n",
       "a:link.sk-estimator-doc-link,\n",
       "a:visited.sk-estimator-doc-link {\n",
       "  float: right;\n",
       "  font-size: smaller;\n",
       "  line-height: 1em;\n",
       "  font-family: monospace;\n",
       "  background-color: var(--sklearn-color-background);\n",
       "  border-radius: 1em;\n",
       "  height: 1em;\n",
       "  width: 1em;\n",
       "  text-decoration: none !important;\n",
       "  margin-left: 0.5em;\n",
       "  text-align: center;\n",
       "  /* unfitted */\n",
       "  border: var(--sklearn-color-unfitted-level-1) 1pt solid;\n",
       "  color: var(--sklearn-color-unfitted-level-1);\n",
       "}\n",
       "\n",
       ".sk-estimator-doc-link.fitted,\n",
       "a:link.sk-estimator-doc-link.fitted,\n",
       "a:visited.sk-estimator-doc-link.fitted {\n",
       "  /* fitted */\n",
       "  border: var(--sklearn-color-fitted-level-1) 1pt solid;\n",
       "  color: var(--sklearn-color-fitted-level-1);\n",
       "}\n",
       "\n",
       "/* On hover */\n",
       "div.sk-estimator:hover .sk-estimator-doc-link:hover,\n",
       ".sk-estimator-doc-link:hover,\n",
       "div.sk-label-container:hover .sk-estimator-doc-link:hover,\n",
       ".sk-estimator-doc-link:hover {\n",
       "  /* unfitted */\n",
       "  background-color: var(--sklearn-color-unfitted-level-3);\n",
       "  color: var(--sklearn-color-background);\n",
       "  text-decoration: none;\n",
       "}\n",
       "\n",
       "div.sk-estimator.fitted:hover .sk-estimator-doc-link.fitted:hover,\n",
       ".sk-estimator-doc-link.fitted:hover,\n",
       "div.sk-label-container:hover .sk-estimator-doc-link.fitted:hover,\n",
       ".sk-estimator-doc-link.fitted:hover {\n",
       "  /* fitted */\n",
       "  background-color: var(--sklearn-color-fitted-level-3);\n",
       "  color: var(--sklearn-color-background);\n",
       "  text-decoration: none;\n",
       "}\n",
       "\n",
       "/* Span, style for the box shown on hovering the info icon */\n",
       ".sk-estimator-doc-link span {\n",
       "  display: none;\n",
       "  z-index: 9999;\n",
       "  position: relative;\n",
       "  font-weight: normal;\n",
       "  right: .2ex;\n",
       "  padding: .5ex;\n",
       "  margin: .5ex;\n",
       "  width: min-content;\n",
       "  min-width: 20ex;\n",
       "  max-width: 50ex;\n",
       "  color: var(--sklearn-color-text);\n",
       "  box-shadow: 2pt 2pt 4pt #999;\n",
       "  /* unfitted */\n",
       "  background: var(--sklearn-color-unfitted-level-0);\n",
       "  border: .5pt solid var(--sklearn-color-unfitted-level-3);\n",
       "}\n",
       "\n",
       ".sk-estimator-doc-link.fitted span {\n",
       "  /* fitted */\n",
       "  background: var(--sklearn-color-fitted-level-0);\n",
       "  border: var(--sklearn-color-fitted-level-3);\n",
       "}\n",
       "\n",
       ".sk-estimator-doc-link:hover span {\n",
       "  display: block;\n",
       "}\n",
       "\n",
       "/* \"?\"-specific style due to the `<a>` HTML tag */\n",
       "\n",
       "#sk-container-id-26 a.estimator_doc_link {\n",
       "  float: right;\n",
       "  font-size: 1rem;\n",
       "  line-height: 1em;\n",
       "  font-family: monospace;\n",
       "  background-color: var(--sklearn-color-background);\n",
       "  border-radius: 1rem;\n",
       "  height: 1rem;\n",
       "  width: 1rem;\n",
       "  text-decoration: none;\n",
       "  /* unfitted */\n",
       "  color: var(--sklearn-color-unfitted-level-1);\n",
       "  border: var(--sklearn-color-unfitted-level-1) 1pt solid;\n",
       "}\n",
       "\n",
       "#sk-container-id-26 a.estimator_doc_link.fitted {\n",
       "  /* fitted */\n",
       "  border: var(--sklearn-color-fitted-level-1) 1pt solid;\n",
       "  color: var(--sklearn-color-fitted-level-1);\n",
       "}\n",
       "\n",
       "/* On hover */\n",
       "#sk-container-id-26 a.estimator_doc_link:hover {\n",
       "  /* unfitted */\n",
       "  background-color: var(--sklearn-color-unfitted-level-3);\n",
       "  color: var(--sklearn-color-background);\n",
       "  text-decoration: none;\n",
       "}\n",
       "\n",
       "#sk-container-id-26 a.estimator_doc_link.fitted:hover {\n",
       "  /* fitted */\n",
       "  background-color: var(--sklearn-color-fitted-level-3);\n",
       "}\n",
       "</style><div id=\"sk-container-id-26\" class=\"sk-top-container\"><div class=\"sk-text-repr-fallback\"><pre>LogisticRegressionCV(class_weight=&#x27;balanced&#x27;, cv=5,\n",
       "                     l1_ratios=[0.1, 0.5, 0.7, 0.9, 1], max_iter=1000,\n",
       "                     penalty=&#x27;elasticnet&#x27;, random_state=42, solver=&#x27;saga&#x27;)</pre><b>In a Jupyter environment, please rerun this cell to show the HTML representation or trust the notebook. <br />On GitHub, the HTML representation is unable to render, please try loading this page with nbviewer.org.</b></div><div class=\"sk-container\" hidden><div class=\"sk-item\"><div class=\"sk-estimator fitted sk-toggleable\"><input class=\"sk-toggleable__control sk-hidden--visually\" id=\"sk-estimator-id-26\" type=\"checkbox\" checked><label for=\"sk-estimator-id-26\" class=\"sk-toggleable__label fitted sk-toggleable__label-arrow\"><div><div>LogisticRegressionCV</div></div><div><a class=\"sk-estimator-doc-link fitted\" rel=\"noreferrer\" target=\"_blank\" href=\"https://scikit-learn.org/1.6/modules/generated/sklearn.linear_model.LogisticRegressionCV.html\">?<span>Documentation for LogisticRegressionCV</span></a><span class=\"sk-estimator-doc-link fitted\">i<span>Fitted</span></span></div></label><div class=\"sk-toggleable__content fitted\"><pre>LogisticRegressionCV(class_weight=&#x27;balanced&#x27;, cv=5,\n",
       "                     l1_ratios=[0.1, 0.5, 0.7, 0.9, 1], max_iter=1000,\n",
       "                     penalty=&#x27;elasticnet&#x27;, random_state=42, solver=&#x27;saga&#x27;)</pre></div> </div></div></div></div>"
      ],
      "text/plain": [
       "LogisticRegressionCV(class_weight='balanced', cv=5,\n",
       "                     l1_ratios=[0.1, 0.5, 0.7, 0.9, 1], max_iter=1000,\n",
       "                     penalty='elasticnet', random_state=42, solver='saga')"
      ]
     },
     "execution_count": 200,
     "metadata": {},
     "output_type": "execute_result"
    }
   ],
   "source": [
    "## GeekForGeeks;\n",
    "## 24 April 2025;\n",
    "## Comparing various online solvers in Scikit Learn;\n",
    "## 1;\n",
    "## source code;\n",
    "## Available at: https://www.geeksforgeeks.org/comparing-various-online-solvers-in-scikit-learn/;\n",
    "## [Accessed on: 19 May 2025].\n",
    "\n",
    "elastic_net_model = LogisticRegressionCV(\n",
    "    penalty='elasticnet',\n",
    "    solver='saga',\n",
    "    l1_ratios=[0.1, 0.5, 0.7, 0.9, 1],\n",
    "    cv=5,\n",
    "    max_iter=1000,\n",
    "    class_weight='balanced',\n",
    "    random_state=42\n",
    ")\n",
    "\n",
    "elastic_net_model.fit(X_train, y_train)"
   ]
  },
  {
   "cell_type": "markdown",
   "metadata": {
    "id": "cSk5kPSo-Zgr"
   },
   "source": [
    "### Step 6: Evaluation\n"
   ]
  },
  {
   "cell_type": "code",
   "execution_count": 202,
   "metadata": {
    "colab": {
     "base_uri": "https://localhost:8080/"
    },
    "executionInfo": {
     "elapsed": 95,
     "status": "ok",
     "timestamp": 1748382701451,
     "user": {
      "displayName": "Darius Govender",
      "userId": "00086672342847538299"
     },
     "user_tz": -120
    },
    "id": "IOrfFFszm9wS",
    "outputId": "6dd51624-9f2d-4ad4-a02c-840eff10d086"
   },
   "outputs": [
    {
     "name": "stdout",
     "output_type": "stream",
     "text": [
      "=== Normal Logistic Regression ===\n",
      "Classification Report:\n",
      "              precision    recall  f1-score   support\n",
      "\n",
      "           0       0.85      0.93      0.89       184\n",
      "           1       0.87      0.75      0.81       116\n",
      "\n",
      "    accuracy                           0.86       300\n",
      "   macro avg       0.86      0.84      0.85       300\n",
      "weighted avg       0.86      0.86      0.86       300\n",
      "\n",
      "ROC-AUC Score: 0.943\n",
      "\n",
      "=== Gradient Descent Logistic Regression ===\n",
      "Classification Report:\n",
      "              precision    recall  f1-score   support\n",
      "\n",
      "           0       0.92      0.87      0.90       184\n",
      "           1       0.81      0.89      0.85       116\n",
      "\n",
      "    accuracy                           0.88       300\n",
      "   macro avg       0.87      0.88      0.87       300\n",
      "weighted avg       0.88      0.88      0.88       300\n",
      "\n",
      "ROC-AUC Score: 0.943\n",
      "\n",
      "\n",
      "=== ElasticNet ===\n",
      "Classification Report:\n",
      "              precision    recall  f1-score   support\n",
      "\n",
      "           0       0.92      0.88      0.90       184\n",
      "           1       0.82      0.87      0.85       116\n",
      "\n",
      "    accuracy                           0.88       300\n",
      "   macro avg       0.87      0.88      0.87       300\n",
      "weighted avg       0.88      0.88      0.88       300\n",
      "\n",
      "ROC-AUC Score: 0.943\n",
      "\n"
     ]
    }
   ],
   "source": [
    "def evaluate_model(model, X_test, y_test):\n",
    "    y_pred = model.predict(X_test)\n",
    "    y_proba = model.predict_proba(X_test)[:, 1]\n",
    "\n",
    "    print(\"Classification Report:\")\n",
    "    print(classification_report(y_test, y_pred))\n",
    "    print(f\"ROC-AUC Score: {roc_auc_score(y_test, y_proba):.3f}\\n\")\n",
    "\n",
    "# Evaluate Normal\n",
    "print(\"=== Normal Logistic Regression ===\")\n",
    "evaluate_model(normal_model, X_test, y_test)\n",
    "\n",
    "# Evaluate Gradient Descent\n",
    "print(\"=== Gradient Descent Logistic Regression ===\")\n",
    "evaluate_model(gradient_descent_model, X_test, y_test)\n",
    "\n",
    "# Evaluate ElasticNet\n",
    "print(\"\\n=== ElasticNet ===\")\n",
    "evaluate_model(elastic_net_model, X_test, y_test)"
   ]
  },
  {
   "cell_type": "markdown",
   "metadata": {
    "id": "NQ92NDAKFR1_"
   },
   "source": [
    "* All ROC-AUC Scores are the same (0.943) for all three models, this means all models have the same level of performance in terms of  distinguish between classes.\n",
    "\n",
    "* In terms of accuracy the basline Logistic Regression model have an accuracy of 86% whereas the Logistic Regression model with Gradient Decent and the Logistic Regression model with Hyperparameter(ElasticNet) Tuning and Cross-Validation have an accuracy of 88%.\n"
   ]
  },
  {
   "cell_type": "code",
   "execution_count": 203,
   "metadata": {
    "colab": {
     "base_uri": "https://localhost:8080/"
    },
    "executionInfo": {
     "elapsed": 52,
     "status": "ok",
     "timestamp": 1748382704837,
     "user": {
      "displayName": "Darius Govender",
      "userId": "00086672342847538299"
     },
     "user_tz": -120
    },
    "id": "cSxshxcNitWa",
    "outputId": "109bc501-d2bd-41dd-a362-9b86d50f63fd"
   },
   "outputs": [
    {
     "name": "stdout",
     "output_type": "stream",
     "text": [
      "=== Normal Logistic Regression ===\n",
      "Train Accuracy: 0.847\n",
      "Test Accuracy: 0.860\n",
      "\n",
      "=== Gradient Descent Logistic Regression ===\n",
      "Train Accuracy: 0.835\n",
      "Test Accuracy: 0.877\n",
      "\n",
      "=== ElasticNet ===\n",
      "Train Accuracy: 0.831\n",
      "Test Accuracy: 0.877\n",
      "\n"
     ]
    }
   ],
   "source": [
    "train_accuracy_normal_model = normal_model.score(X_train, y_train)\n",
    "test_accuracy_normal_model = normal_model.score(X_test, y_test)\n",
    "\n",
    "train_accuracy_gradient_descent_model = gradient_descent_model.score(X_train, y_train)\n",
    "test_accuracy_gradient_descent_model = gradient_descent_model.score(X_test, y_test)\n",
    "\n",
    "train_accuracy_elastic_net_model = elastic_net_model.score(X_train, y_train)\n",
    "test_accuracy_elastic_net_model = elastic_net_model.score(X_test, y_test)\n",
    "\n",
    "print(\"=== Normal Logistic Regression ===\")\n",
    "print(f\"Train Accuracy: {train_accuracy_normal_model:.3f}\")\n",
    "print(f\"Test Accuracy: {test_accuracy_normal_model:.3f}\\n\")\n",
    "\n",
    "print(\"=== Gradient Descent Logistic Regression ===\")\n",
    "print(f\"Train Accuracy: {train_accuracy_gradient_descent_model:.3f}\")\n",
    "print(f\"Test Accuracy: {test_accuracy_gradient_descent_model:.3f}\\n\")\n",
    "\n",
    "print(\"=== ElasticNet ===\")\n",
    "print(f\"Train Accuracy: {train_accuracy_elastic_net_model:.3f}\")\n",
    "print(f\"Test Accuracy: {test_accuracy_elastic_net_model:.3f}\\n\")"
   ]
  },
  {
   "cell_type": "markdown",
   "metadata": {
    "id": "iGTv6itPqtCI"
   },
   "source": [
    "* The above values are with class_weight = 'balanced' applied to the Gradient Decent model and ElasticNet model.\n",
    "\n",
    "* Here are the scores without class_weight = 'balanced' applied:\n",
    "\n",
    "| Model                          | Train Accuracy | Test Accuracy |\n",
    "|--------------------------------|----------------|---------------|\n",
    "| Normal Logistic Regression     | 0.847 (84.7%)  | 0.860 (86.0%) |\n",
    "| Gradient Descent Logistic Reg. | 0.848 (84.8%)  | 0.860 (86.0%) |\n",
    "| ElasticNet                     | 0.848 (84.8%)  | 0.860 (86.0%) |\n",
    "\n",
    "* It is determined that when the balance is applied to the models it causes the variations, however this does not result in **overfitting** (test accuracy ≥ train accuracy) or **underfitting** (both accuracies are high)."
   ]
  },
  {
   "cell_type": "code",
   "execution_count": 204,
   "metadata": {
    "colab": {
     "base_uri": "https://localhost:8080/",
     "height": 718
    },
    "executionInfo": {
     "elapsed": 572,
     "status": "ok",
     "timestamp": 1748382727585,
     "user": {
      "displayName": "Darius Govender",
      "userId": "00086672342847538299"
     },
     "user_tz": -120
    },
    "id": "k4KpJvqsvI4v",
    "outputId": "05f9e12a-f786-40f3-9dfe-df45381633ce"
   },
   "outputs": [
    {
     "data": {
      "image/png": "[encoded data removed]",
      "text/plain": [
       "<Figure size 1000x800 with 1 Axes>"
      ]
     },
     "metadata": {},
     "output_type": "display_data"
    }
   ],
   "source": [
    "models = [('Normal Model', normal_model),\n",
    "          ('Gradient Descent Model', gradient_descent_model),\n",
    "          ('Elastic Net Model', elastic_net_model)]\n",
    "\n",
    "plt.figure(figsize=(10, 8))\n",
    "\n",
    "for name, model in models:\n",
    "    if hasattr(model, 'predict_proba'):\n",
    "        y_score = model.predict_proba(X_test)[:, 1]\n",
    "    else:\n",
    "        y_score = model.decision_function(X_test)\n",
    "\n",
    "    fpr, tpr, _ = roc_curve(y_test, y_score)\n",
    "    roc_auc = auc(fpr, tpr)\n",
    "\n",
    "    plt.plot(fpr, tpr, label=f'{name} (AUC = {roc_auc:.2f})')\n",
    "\n",
    "plt.xlim([0.0, 1.0])\n",
    "plt.ylim([0.0, 1.05])\n",
    "plt.xlabel('False Positive Rate')\n",
    "plt.ylabel('True Positive Rate')\n",
    "plt.title('ROC Curves Comparison')\n",
    "plt.legend(loc=\"lower right\")\n",
    "plt.grid(True)\n",
    "plt.show()"
   ]
  },
  {
   "cell_type": "markdown",
   "metadata": {
    "id": "0tpzJ1_RhcgB"
   },
   "source": [
    "- This serves as a visual representation for the ROC-AUC Score of the models.\n",
    "- All models have the same ROC-AUC Scores so we will make use of the confusion matrix to find underlying strengths and weaknesses of each model, to determine the best possible model."
   ]
  },
  {
   "cell_type": "code",
   "execution_count": 192,
   "metadata": {
    "colab": {
     "base_uri": "https://localhost:8080/",
     "height": 609
    },
    "executionInfo": {
     "elapsed": 990,
     "status": "ok",
     "timestamp": 1748381406009,
     "user": {
      "displayName": "Darius Govender",
      "userId": "00086672342847538299"
     },
     "user_tz": -120
    },
    "id": "sA6qjQtMwFcF",
    "outputId": "c49b9eae-dc11-4ea1-a8dc-4772b0641184"
   },
   "outputs": [
    {
     "data": {
      "image/png": "[encoded data removed]",
      "text/plain": [
       "<Figure size 1800x600 with 6 Axes>"
      ]
     },
     "metadata": {},
     "output_type": "display_data"
    }
   ],
   "source": [
    "fig, axes = plt.subplots(1, 3, figsize=(18, 6))\n",
    "fig.suptitle('Confusion Matrices', fontsize=16)\n",
    "\n",
    "for idx, (name, model) in enumerate(models):\n",
    "    y_pred = model.predict(X_test)\n",
    "    cm = confusion_matrix(y_test, y_pred)\n",
    "\n",
    "    sns.heatmap(cm, annot=True, fmt='d', cmap='Blues', ax=axes[idx],\n",
    "                xticklabels=['Pred 0', 'Pred 1'],\n",
    "                yticklabels=['True 0', 'True 1'])\n",
    "    axes[idx].set_title(f'{name}\\nAccuracy: {accuracy_score(y_test, y_pred):.3f}')\n",
    "    axes[idx].set_xlabel('Predicted')\n",
    "    axes[idx].set_ylabel('Actual')\n",
    "\n",
    "plt.tight_layout()\n",
    "plt.show()"
   ]
  },
  {
   "cell_type": "markdown",
   "metadata": {
    "id": "mrwB3wQ_JhFP"
   },
   "source": [
    "This serves as a visual representation for the metrics, below is an interpretation of the confusion matrix as well as using supporting information from the classification report.\n",
    "\n",
    "* **Confusion Matrix: Normal Model**\n",
    "  - True Negatives (TN): 87\n",
    "\n",
    "  - False Positives (FP): 13\n",
    "\n",
    "  - False Negatives (FN): 29\n",
    "\n",
    "  - True Positives (TP): 171\n",
    "\n",
    "    - Class 0\n",
    "      - High recall: Correctly identified 171 out of 184 (93%) actual negatives of class 0\n",
    "      - High precision: When predicting class 0, 86% (0.855) were correct\n",
    "    - Class 1\n",
    "      - Lower recall: Missed 29 out of 116 (75%) actual positives\n",
    "      - High precision: When predicting class 1, 87%  were correct\n",
    "\n",
    "  - This model underpredicts class 1 we can see this due to a high FN however, predictions for class 1 are reliable as seen from a high precision.\n",
    "\n",
    "* **Confusion Matrix: Gradient Decent Model**\n",
    "  - True Negatives (TN): 103\n",
    "\n",
    "  - False Positives (FP): 24\n",
    "\n",
    "  - False Negatives (FN): 13\n",
    "\n",
    "  - True Positives (TP): 160\n",
    "\n",
    "    - Class 0\n",
    "      - Recall: Since the FP is higher the recall is worse (87%) than the normal model.\n",
    "      - High Precision: When predicting class 0, 92% were correct. This much better than the normal model.\n",
    "    - Class 1\n",
    "      - High Recall: Correctly identified 103 out of 116 (89%) actual positives\n",
    "      - Lower Precision: When predicting class 1, 81% were correct. This is worse than the normal model.\n",
    "    \n",
    "  - This model is better at identifying positives (lower FN) but at cost of more false alarms (FP).\n",
    "\n",
    "* **Confusion Matrix: ElasticNet Model**\n",
    "  - True Negatives (TN): 101\n",
    "\n",
    "  - False Positives (FP): 22\n",
    "\n",
    "  - False Negatives (FN): 15\n",
    "\n",
    "  - True Positives (TP): 162\n",
    "\n",
    "    - Class 0\n",
    "      - High Recall: Correctly identified 162 out of 184 (88%), gives balanced performanace.\n",
    "      - High Precision: When predicting class 0, 92% were correct. This is the same as the Gradient Decent model.\n",
    "    - Class 1\n",
    "      - Lower Recall: Correctly identified 101 out of 116 (87%), this is worse than Gradient Decent but better than the normal model.\n",
    "      - Precision: When predicting class 1, 82% were correct. This was better than the Gradient Decent model.\n",
    "\n",
    "  - This model offers the best trade off as it has fewer FPs than Gradient Decent and offers a good recall of class 1.\n",
    "\n",
    "\n",
    "  \n"
   ]
  },
  {
   "cell_type": "code",
   "execution_count": 193,
   "metadata": {
    "colab": {
     "base_uri": "https://localhost:8080/",
     "height": 609
    },
    "executionInfo": {
     "elapsed": 2760,
     "status": "ok",
     "timestamp": 1748381428822,
     "user": {
      "displayName": "Darius Govender",
      "userId": "00086672342847538299"
     },
     "user_tz": -120
    },
    "id": "pS4MU2nkw5kj",
    "outputId": "6b9a8e48-f524-4bd9-ffc7-3b25820e62b4"
   },
   "outputs": [
    {
     "data": {
      "image/png": "[encoded data removed]",
      "text/plain": [
       "<Figure size 1800x600 with 3 Axes>"
      ]
     },
     "metadata": {},
     "output_type": "display_data"
    }
   ],
   "source": [
    "fig, axes = plt.subplots(1, 3, figsize=(18, 6))\n",
    "fig.suptitle('Actual vs Predicted Comparison', fontsize=16)\n",
    "\n",
    "for idx, (name, model) in enumerate(models):\n",
    "    y_pred = model.predict(X_test)\n",
    "    y_prob = model.predict_proba(X_test)[:, 1]\n",
    "\n",
    "    accuracy = accuracy_score(y_test, y_pred)\n",
    "\n",
    "    sns.scatterplot(x=y_test, y=y_prob, alpha=0.5, ax=axes[idx])\n",
    "    axes[idx].set_xlabel('True Class (0 or 1)')\n",
    "    axes[idx].set_ylabel('Predicted Probability')\n",
    "    axes[idx].set_title(f'{name}\\n(Accuracy = {accuracy:.3f})')\n",
    "    axes[idx].grid(True)\n",
    "\n",
    "plt.tight_layout()\n",
    "plt.show()"
   ]
  },
  {
   "cell_type": "markdown",
   "metadata": {
    "id": "oRueX4m5jSqB"
   },
   "source": [
    "So based on findings from the classification report, ROC-AUC Curve and the confusion matrix it is determined that the **Gradient Decent model** is the best model for this case.\n",
    "\n",
    "This is due to high recall for class 1 (Cancer is present) with 89%. It only missed 13 out of 116 cnacer cases as compared to 29 cases from the normal model and 15 cases from the ElasticNet model. Though the precision may be at 81%, the lowest of three models, this is a fair trade-off.\n",
    "\n",
    "Additionally the Gradient Decent model is the most cost effective model, though the ElasticNet model would decrease false alarms which would decrease costs (in terms of medical tests). This would come at a price of missing 2 cases for every 116, which is a big issue for a medical setting."
   ]
  },
  {
   "cell_type": "markdown",
   "metadata": {
    "id": "OO4NPQJjRdEa"
   },
   "source": [
    "## Reference List\n"
   ]
  },
  {
   "cell_type": "markdown",
   "metadata": {
    "id": "pmg0URhETXV4"
   },
   "source": [
    "\n",
    "1. GeekForGeeks., 2025. *Logistic Regression in Machine Learning*. [online] Available at: <https://www.geeksforgeeks.org/understanding-logistic-regression>. [Accessed on: 19 May 2025]\n",
    "\n",
    "2. GeekForGeeks., 2025. *EDA | Exploratory Data Analysis in Python*. [online] Available at: <https://www.geeksforgeeks.org/exploratory-data-analysis-in-python/>. [Accessed on: 19 May 2025]\n",
    "\n",
    "3. GeekForGeeks., 2021. *EDA | Exploratory Data Analysis in Python*. [online] Available at: <https://www.geeksforgeeks.org/hyperparameter-tuning-in-linear-regression/>. [Accessed on: 19 May 2025]\n",
    "\n",
    "4. GeekForGeeks., 2025. *ML | Overview of Data Cleaning*. [online] Available at: <https://www.geeksforgeeks.org/data-cleansing-introduction/>. [Accessed on: 19 May 2025]\n",
    "\n",
    "5. GeekForGeeks., 2025.* Lasso vs Ridge vs Elastic Net | ML*. [online] Available at:<https://www.geeksforgeeks.org/lasso-vs-ridge-vs-elastic-net-ml/?ref=gcse_outind> [Accessed on: 19 May 2025]\n",
    "\n",
    "6. GeekForGeeks., 2025. *Cross Validation in Machine Learning*. [online] Available at: <https://www.geeksforgeeks.org/cross-validation-machine-learning/> [Accessed on: 19 May 2025]\n",
    "\n",
    "7. GeekForGeeks., 2025. *Comparing various online solvers in Scikit Learn*. [online] Available at: <https://www.geeksforgeeks.org/comparing-various-online-solvers-in-scikit-learn/> [Accessed on: 19 May 2025]\n",
    "\n",
    "8. GeekForGeeks., 2025. *ML | Underfitting and Overfitting*. [online] Available at: <https://www.geeksforgeeks.org/underfitting-and-overfitting-in-machine-learning/>. [Accessed on: 19 May 2025]\n",
    "\n",
    "8. Kubicki, D., 2023. *Demystifying Logistic Regression: A Step-by-Step Guide to Gradient Descent from Scratch*. [online] Available at: <https://medium.com/@dawidkubicki/demystifying-logistic-regression-a-step-by-step-guide-to-gradient-descent-from-scratch-b6237fe1da1f>. [Accessed on: 19 May 2025]\n",
    "\n",
    "9. LabEx., 2025. *What makes Pandas DataFrame useful for data analysis*. [online] Available at: <https://labex.io/tutorials/python-what-makes-pandas-dataframe-useful-for-data-analysis-395136>. [Accessed on: 19 May 2025]\n",
    "\n",
    "10. Linkedin., 2025. *How can SMOTE improve data cleaning for imbalanced data?*. [online] Available at: <https://www.linkedin.com/advice/1/how-can-smote-improve-data-cleaning-imbalanced-sgezf#:~:text=SMOTE%20can%20be%20used%20with%20any%20ML%20algorithm%20like%20decision,classification%20tasks%20with%20imbalanced%20datasets.&text=Rahul%20K.&text=SMOTE%20creates%20synthetic%20instances%20for,between%20existing%20minority%20class%20instances.> [Accessed on: 19 May 2025]\n",
    "\n",
    "11. NICE, 2022. *NICE real-world evidence framework*. [online] Available at: <https://www.nice.org.uk/corporate/ecd9/chapter/overview> [Accessed on: 19 May 2025]\n",
    "\n",
    "12. Ogu, C.P., 2024. *Guide to Classification Models: Selection Criteria and Use Cases*. [online] Available at: <https://chidimma-p-ogu.medium.com/guide-to-classification-models-selection-criteria-and-use-cases-a58ca469d1bb> [Accessed on: 19 May 2025]\n",
    "\n",
    "13. Sheldon, R., 2024. *data quality*. [online] Available at: <https://www.techtarget.com/searchdatamanagement/definition/data-quality#:~:text=Data%20quality%20is%20a%20measure,data%20fits%20its%20intended%20purpose.> [Accessed on: 19 May 2025]\n",
    "\n",
    "14. The Investopedia Team., 2025. *Variance Inflation Factor (VIF)*. [online] Available at: <https://www.investopedia.com/terms/v/variance-inflation-factor.asp#:~:text=Understanding%20a%20Variance%20Inflation%20Factor,the%20independent%20variables%20or%20inputs.> [Accessed on: 19 May 2025]\n",
    "\n",
    "9. Usama., 2023. *Classification Report*. [online] Available at: <https://www.kaggle.com/code/usamabajwa86/classification-report> [Accessed on: 19 May 2025]\n",
    "\n",
    "11. Virginia Commonwealth University. 2025. *Cancer causes and risk factors*. [online] Available at: <https://www.masseycancercenter.org/patients-and-families/patient-resources-and-support-services/cancer-causes-and-risk-factors/> [Accessed on: 19 May 2025]\n",
    "\n",
    "16. World Health Organization. 2023. *Lung cancer*. [online] Available at: <https://www.who.int/news-room/fact-sheets/detail/lung-cancer> [Accessed on: 19 May 2025]\n",
    "\n",
    "\n",
    "\n",
    "\n",
    "\n",
    "\n",
    "\n",
    "\n"
   ]
  }
 ],
 "metadata": {
  "colab": {
   "authorship_tag": "ABX9TyMe1ueUqUfiO64tnLXOb6hA",
   "collapsed_sections": [
    "wHOwDhGXudiQ",
    "Sh4rk10NRQa3",
    "g_QUQzMCRTFF",
    "rNIMG9Q5R-Se",
    "OZ_AKLzZiLBQ",
    "U-MbS6ehnzB1",
    "wlxo79mDn53L",
    "jkgEM9AUoAU-",
    "Sr0l69flyWaY",
    "chas_XIxyhtp",
    "2ZdyHsSVzxxU",
    "YA5YeFul0FJ0",
    "980QspsGyN1U",
    "5yPJ5XQRLhrs",
    "A8ht8Mj_Lkhs",
    "i3IgbrcdGh4_",
    "X7v7UEIG-bKx",
    "cSk5kPSo-Zgr"
   ],
   "provenance": []
  },
  "kernelspec": {
   "display_name": "Python 3",
   "name": "python3"
  },
  "language_info": {
   "name": "python"
  }
 },
 "nbformat": 4,
 "nbformat_minor": 0
}
